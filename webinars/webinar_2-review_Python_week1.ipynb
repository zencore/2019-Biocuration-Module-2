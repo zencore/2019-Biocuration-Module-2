{
 "cells": [
  {
   "cell_type": "markdown",
   "metadata": {},
   "source": [
    "# Computational skills for Biocuration\n",
    "\n",
    "## Webinar 2\n",
    "\n",
    "- Date: January 28, 2019\n",
    "• Time: 16:00 GMT\n",
    "• Connection Information:https://attendee.gototraining.com/r/27777358666941953\n",
    "(Training ID: 582-230-860)\n",
    "• Notepad: https://piratenpad.de/p/2019-Biocuration-Module-2\n",
    "\n",
    "### Review from last week: \n",
    "    \n",
    "    - How to open a Jupyter Notebook\n",
    "    - How to write Markdown commands for documentation\n",
    "    - How to create code cells to run Python codes\n",
    "    - Recap of the main concept from the [Python week-1 materials](./webinar_1-introducing_python.ipynb)\n",
    "\n",
    "### Q&A\n",
    "\n",
    "    - Discussion the topics learned\n",
    "    - Reviewing a few exercises\n",
    "    \n",
    "### Preparing for week - 2\n",
    "\n",
    "    - Download notebook for next week (Python week-2)\n",
    "    - Logistics and motivation for the in-person training"
   ]
  }
 ],
 "metadata": {
  "kernelspec": {
   "display_name": "Python 3",
   "language": "python",
   "name": "python3"
  },
  "language_info": {
   "codemirror_mode": {
    "name": "ipython",
    "version": 3
   },
   "file_extension": ".py",
   "mimetype": "text/x-python",
   "name": "python",
   "nbconvert_exporter": "python",
   "pygments_lexer": "ipython3",
   "version": "3.6.0"
  }
 },
 "nbformat": 4,
 "nbformat_minor": 2
}
