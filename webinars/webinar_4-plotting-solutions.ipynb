{
 "cells": [
  {
   "cell_type": "markdown",
   "metadata": {},
   "source": [
    "# Computational Skills for Biocuration\n",
    "\n",
    "## Programming Skills with Python - Webinar 4"
   ]
  },
  {
   "cell_type": "markdown",
   "metadata": {},
   "source": [
    "### Imports & Plotting"
   ]
  },
  {
   "cell_type": "markdown",
   "metadata": {},
   "source": [
    "So far, we've been learning:\n",
    "\n",
    "- how to work with text and numbers\n",
    "- how to organise and manage this data in various different structures\n",
    "- how to process data quickly and reliably\n",
    "- how to read and write data from and to a file\n",
    "\n",
    "The output of a lot of the examples used so far has been text and/or numbers. This can be useful but it doesn't scale well, it can be difficult to interpret, and it isn't very visually appealing. This is where **visualisation** comes in."
   ]
  },
  {
   "cell_type": "markdown",
   "metadata": {},
   "source": [
    "#### Imports\n",
    "\n",
    "Functions that allow us to create plots of data are not included by default when Python is launched. Functionality such as this is considered too specialised and is therefore left out to save time and memory when Python starts up. The same is true for a great many different sets of functions etc, known as *modules* or *libraries*, that have been written for a specific purpose. Nevertheless, these functions do exist - we only need to tell Python that we want to use them. \n",
    "\n",
    "We do this with `import`."
   ]
  },
  {
   "cell_type": "markdown",
   "metadata": {},
   "source": [
    "The plotting library that we will use, `matplotlib`, is large and complex, with an unfamiliar syntax. That doesn't make it a great teaching example, so we will briefly use `numpy`, a library designed for working with numeric data, to illustrate how importing works in Python:"
   ]
  },
  {
   "cell_type": "code",
   "execution_count": 1,
   "metadata": {},
   "outputs": [],
   "source": [
    "import numpy"
   ]
  },
  {
   "cell_type": "code",
   "execution_count": 2,
   "metadata": {},
   "outputs": [
    {
     "name": "stdout",
     "output_type": "stream",
     "text": [
      "[0.5, 1.0, 1.5, 1.0, 0.5]\n"
     ]
    }
   ],
   "source": [
    "list_of_numbers = [1,2,3,2,1]\n",
    "divided = []\n",
    "for number in list_of_numbers:\n",
    "    divided.append(number/2)\n",
    "print(divided)"
   ]
  },
  {
   "cell_type": "code",
   "execution_count": 3,
   "metadata": {},
   "outputs": [],
   "source": [
    "array_of_numbers = numpy.array(list_of_numbers)"
   ]
  },
  {
   "cell_type": "code",
   "execution_count": 5,
   "metadata": {},
   "outputs": [
    {
     "data": {
      "text/plain": [
       "array([0.5, 1. , 1.5, 1. , 0.5])"
      ]
     },
     "execution_count": 5,
     "metadata": {},
     "output_type": "execute_result"
    }
   ],
   "source": [
    "array_of_numbers / 2"
   ]
  },
  {
   "cell_type": "code",
   "execution_count": 7,
   "metadata": {},
   "outputs": [
    {
     "name": "stdout",
     "output_type": "stream",
     "text": [
      "Help on built-in function array in module numpy.core.multiarray:\n",
      "\n",
      "array(...)\n",
      "    array(object, dtype=None, copy=True, order='K', subok=False, ndmin=0)\n",
      "    \n",
      "    Create an array.\n",
      "    \n",
      "    Parameters\n",
      "    ----------\n",
      "    object : array_like\n",
      "        An array, any object exposing the array interface, an object whose\n",
      "        __array__ method returns an array, or any (nested) sequence.\n",
      "    dtype : data-type, optional\n",
      "        The desired data-type for the array.  If not given, then the type will\n",
      "        be determined as the minimum type required to hold the objects in the\n",
      "        sequence.  This argument can only be used to 'upcast' the array.  For\n",
      "        downcasting, use the .astype(t) method.\n",
      "    copy : bool, optional\n",
      "        If true (default), then the object is copied.  Otherwise, a copy will\n",
      "        only be made if __array__ returns a copy, if obj is a nested sequence,\n",
      "        or if a copy is needed to satisfy any of the other requirements\n",
      "        (`dtype`, `order`, etc.).\n",
      "    order : {'K', 'A', 'C', 'F'}, optional\n",
      "        Specify the memory layout of the array. If object is not an array, the\n",
      "        newly created array will be in C order (row major) unless 'F' is\n",
      "        specified, in which case it will be in Fortran order (column major).\n",
      "        If object is an array the following holds.\n",
      "    \n",
      "        ===== ========= ===================================================\n",
      "        order  no copy                     copy=True\n",
      "        ===== ========= ===================================================\n",
      "        'K'   unchanged F & C order preserved, otherwise most similar order\n",
      "        'A'   unchanged F order if input is F and not C, otherwise C order\n",
      "        'C'   C order   C order\n",
      "        'F'   F order   F order\n",
      "        ===== ========= ===================================================\n",
      "    \n",
      "        When ``copy=False`` and a copy is made for other reasons, the result is\n",
      "        the same as if ``copy=True``, with some exceptions for `A`, see the\n",
      "        Notes section. The default order is 'K'.\n",
      "    subok : bool, optional\n",
      "        If True, then sub-classes will be passed-through, otherwise\n",
      "        the returned array will be forced to be a base-class array (default).\n",
      "    ndmin : int, optional\n",
      "        Specifies the minimum number of dimensions that the resulting\n",
      "        array should have.  Ones will be pre-pended to the shape as\n",
      "        needed to meet this requirement.\n",
      "    \n",
      "    Returns\n",
      "    -------\n",
      "    out : ndarray\n",
      "        An array object satisfying the specified requirements.\n",
      "    \n",
      "    See Also\n",
      "    --------\n",
      "    empty, empty_like, zeros, zeros_like, ones, ones_like, full, full_like\n",
      "    \n",
      "    Notes\n",
      "    -----\n",
      "    When order is 'A' and `object` is an array in neither 'C' nor 'F' order,\n",
      "    and a copy is forced by a change in dtype, then the order of the result is\n",
      "    not necessarily 'C' as expected. This is likely a bug.\n",
      "    \n",
      "    Examples\n",
      "    --------\n",
      "    >>> np.array([1, 2, 3])\n",
      "    array([1, 2, 3])\n",
      "    \n",
      "    Upcasting:\n",
      "    \n",
      "    >>> np.array([1, 2, 3.0])\n",
      "    array([ 1.,  2.,  3.])\n",
      "    \n",
      "    More than one dimension:\n",
      "    \n",
      "    >>> np.array([[1, 2], [3, 4]])\n",
      "    array([[1, 2],\n",
      "           [3, 4]])\n",
      "    \n",
      "    Minimum dimensions 2:\n",
      "    \n",
      "    >>> np.array([1, 2, 3], ndmin=2)\n",
      "    array([[1, 2, 3]])\n",
      "    \n",
      "    Type provided:\n",
      "    \n",
      "    >>> np.array([1, 2, 3], dtype=complex)\n",
      "    array([ 1.+0.j,  2.+0.j,  3.+0.j])\n",
      "    \n",
      "    Data-type consisting of more than one element:\n",
      "    \n",
      "    >>> x = np.array([(1,2),(3,4)],dtype=[('a','<i4'),('b','<i4')])\n",
      "    >>> x['a']\n",
      "    array([1, 3])\n",
      "    \n",
      "    Creating an array from sub-classes:\n",
      "    \n",
      "    >>> np.array(np.mat('1 2; 3 4'))\n",
      "    array([[1, 2],\n",
      "           [3, 4]])\n",
      "    \n",
      "    >>> np.array(np.mat('1 2; 3 4'), subok=True)\n",
      "    matrix([[1, 2],\n",
      "            [3, 4]])\n",
      "\n"
     ]
    }
   ],
   "source": [
    "import numpy as np\n",
    "help(np.array)"
   ]
  },
  {
   "cell_type": "code",
   "execution_count": 8,
   "metadata": {},
   "outputs": [],
   "source": [
    "from numpy import array, deg2rad"
   ]
  },
  {
   "cell_type": "code",
   "execution_count": 11,
   "metadata": {},
   "outputs": [
    {
     "data": {
      "text/plain": [
       "0.7853981633974483"
      ]
     },
     "execution_count": 11,
     "metadata": {},
     "output_type": "execute_result"
    }
   ],
   "source": [
    "deg2rad(45)"
   ]
  },
  {
   "cell_type": "code",
   "execution_count": null,
   "metadata": {},
   "outputs": [],
   "source": []
  },
  {
   "cell_type": "markdown",
   "metadata": {},
   "source": [
    "#### Plotting"
   ]
  },
  {
   "cell_type": "markdown",
   "metadata": {},
   "source": [
    "Ok, now that we've been introduced to the ideas of importing and namespaces, we can get back to the exciting business of plotting some data. As mentioned before, we will use a library called `matplotlib`. In fact, what we really need is one small part of `matplotlib`: the plotting library called `pyplot`. It's safer, faster, and (in the long run) more convenient to only load that particular part, so we will use the adjusted importing syntax that we learned earlier:"
   ]
  },
  {
   "cell_type": "code",
   "execution_count": 12,
   "metadata": {},
   "outputs": [],
   "source": [
    "import matplotlib.pyplot as plt"
   ]
  },
  {
   "cell_type": "code",
   "execution_count": 14,
   "metadata": {},
   "outputs": [
    {
     "data": {
      "text/plain": [
       "<BarContainer object of 5 artists>"
      ]
     },
     "execution_count": 14,
     "metadata": {},
     "output_type": "execute_result"
    },
    {
     "data": {
      "image/png": "[encoded data removed]",
      "text/plain": [
       "<Figure size 432x288 with 1 Axes>"
      ]
     },
     "metadata": {},
     "output_type": "display_data"
    }
   ],
   "source": [
    "population = [600, 800, 320, 90, 730]\n",
    "xpositions = range(len(population))\n",
    "plt.bar(xpositions, population)"
   ]
  },
  {
   "cell_type": "code",
   "execution_count": 17,
   "metadata": {},
   "outputs": [
    {
     "data": {
      "text/plain": [
       "array([91, 95, 98, 91, 98, 97, 91, 99, 90, 97, 99, 99, 99, 98, 94, 95, 98,\n",
       "       93, 95, 99, 93, 90, 97, 93, 99])"
      ]
     },
     "execution_count": 17,
     "metadata": {},
     "output_type": "execute_result"
    }
   ],
   "source": [
    "numpy.random.randint(90,100, size=25)"
   ]
  },
  {
   "cell_type": "code",
   "execution_count": 21,
   "metadata": {
    "scrolled": true
   },
   "outputs": [
    {
     "data": {
      "text/plain": [
       "Text(0,0.5,'kittens')"
      ]
     },
     "execution_count": 21,
     "metadata": {},
     "output_type": "execute_result"
    },
    {
     "data": {
      "image/png": "[encoded data removed]",
      "text/plain": [
       "<Figure size 432x288 with 1 Axes>"
      ]
     },
     "metadata": {},
     "output_type": "display_data"
    }
   ],
   "source": [
    "# scatter plot\n",
    "x = numpy.random.randint(0,100, size=25)\n",
    "y = numpy.random.randint(0,100, size=25)\n",
    "plt.scatter(x, y)\n",
    "plt.title('A boring scatter plot')\n",
    "plt.xlabel('minutes')\n",
    "plt.ylabel('kittens')"
   ]
  },
  {
   "cell_type": "code",
   "execution_count": null,
   "metadata": {},
   "outputs": [],
   "source": []
  },
  {
   "cell_type": "code",
   "execution_count": null,
   "metadata": {},
   "outputs": [],
   "source": []
  },
  {
   "cell_type": "code",
   "execution_count": 36,
   "metadata": {},
   "outputs": [
    {
     "data": {
      "image/png": "[encoded data removed]",
      "text/plain": [
       "<Figure size 432x288 with 1 Axes>"
      ]
     },
     "metadata": {},
     "output_type": "display_data"
    }
   ],
   "source": [
    "# a more complex example\n",
    "\n",
    "elements = {\n",
    "    'Hg': [-39, 80],\n",
    "    'Br': [-7, 35],\n",
    "    'Fr': [27, 87],\n",
    "    'Cs': [29, 55],\n",
    "    'Ga': [30, 31],\n",
    "    'Rb': [39, 37],\n",
    "    'P' : [44, 15],\n",
    "    'K' : [64, 19]\n",
    "}\n",
    "\n",
    "labels = []\n",
    "melting_temperatures = []\n",
    "atomic_weights = []\n",
    "\n",
    "for element, info in elements.items():\n",
    "    labels.append(element)\n",
    "    melting_temperatures.append(info[0])\n",
    "    atomic_weights.append(info[1])\n",
    "\n",
    "plt.scatter(atomic_weights, melting_temperatures, color='firebrick')\n",
    "for i in range(len(labels)):\n",
    "    plt.annotate(labels[i], (atomic_weights[i]+2, melting_temperatures[i]))\n",
    "plt.xlim([0,100])\n",
    "plt.savefig('elements_scatter.png')\n",
    "# plt.show() # use this if you're working in Spyder or some other development environment"
   ]
  },
  {
   "cell_type": "code",
   "execution_count": 41,
   "metadata": {},
   "outputs": [
    {
     "data": {
      "image/png": "[encoded data removed]",
      "text/plain": [
       "<Figure size 432x288 with 1 Axes>"
      ]
     },
     "metadata": {},
     "output_type": "display_data"
    }
   ],
   "source": [
    "# bonus example using a colourmap!\n",
    "\n",
    "# use 'c' argument to specify series of values to colour the points by\n",
    "# and 'cmap' to specify the name of a \"colour palette\" to colour from\n",
    "plt.scatter(atomic_weights, melting_temperatures, c=melting_temperatures, cmap='plasma')\n",
    "\n",
    "# everything else the same as before...\n",
    "for i in range(len(labels)):\n",
    "    plt.annotate(labels[i], (atomic_weights[i]+2, melting_temperatures[i]))\n",
    "plt.xlim([0,100])\n",
    "plt.savefig('elements_scatter.png')"
   ]
  },
  {
   "cell_type": "markdown",
   "metadata": {},
   "source": [
    "#### Useful Links\n",
    "\n",
    "- `matplotlib` homepage/tutorials: https://matplotlib.org/\n",
    "  - this site contains tutorials and a large gallery of examples, which I find really useful for stealing ideas from/looking at how someone achieved a certian thing that I might want to do.\n",
    "- the Plotting chapter of our Introduction to Python course material: https://github.com/tobyhodges/ITPP/blob/master/4_PlottingData.ipynb\n",
    "  - includes more on `matplotlib` and a second library for plotting, called `bokeh`, which you can choose to ignore\n",
    "- the Software Carpentry \"Plotting and Programming in Python\" lesson: http://swcarpentry.github.io/python-novice-gapminder/\n",
    "  - focussed more on plotting data from a table, this lesson goes into much more detail than we had time to in this webinar. Contains a lot of exercises too, so it's definitely good for practising :)\n",
    "- more about colour palettes: https://matplotlib.org/users/colormaps.html"
   ]
  }
 ],
 "metadata": {
  "kernelspec": {
   "display_name": "Python 3",
   "language": "python",
   "name": "python3"
  },
  "language_info": {
   "codemirror_mode": {
    "name": "ipython",
    "version": 3
   },
   "file_extension": ".py",
   "mimetype": "text/x-python",
   "name": "python",
   "nbconvert_exporter": "python",
   "pygments_lexer": "ipython3",
   "version": "3.6.6"
  }
 },
 "nbformat": 4,
 "nbformat_minor": 2
}
