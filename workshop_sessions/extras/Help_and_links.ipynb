{
 "cells": [
  {
   "cell_type": "markdown",
   "metadata": {},
   "source": [
    "# Computational Skills for Biocuration\n",
    "\n",
    "## Programming Skills with Python"
   ]
  },
  {
   "cell_type": "markdown",
   "metadata": {},
   "source": [
    "### Getting Help, Useful References, and Further Reading"
   ]
  },
  {
   "cell_type": "markdown",
   "metadata": {},
   "source": [
    "Here, we'll try to collect some advice for how to get help while writing Python code, point you towards some links to refer to as you're coding, and provide some references for further reading and other training resources that might be useful to you if you'd like to learn more and continue exploring the world of Python programming."
   ]
  },
  {
   "cell_type": "markdown",
   "metadata": {},
   "source": [
    "#### Getting help"
   ]
  },
  {
   "cell_type": "markdown",
   "metadata": {},
   "source": [
    "We sometimes need to use a function/method/module that we've never seen before and, more often, we simply forget how to use one that we've worked with many times before. In these circumstances, there are three approaches that one can take."
   ]
  },
  {
   "cell_type": "markdown",
   "metadata": {},
   "source": [
    "##### 1. `help()`"
   ]
  },
  {
   "cell_type": "markdown",
   "metadata": {},
   "source": [
    "The built-in `help` function works for any object in Python - that can be a function, a module, a variable, ...anything really. The output is the help text for whatever object is provided as the argument. \n",
    "\n",
    "E.g."
   ]
  },
  {
   "cell_type": "code",
   "execution_count": 2,
   "metadata": {},
   "outputs": [],
   "source": [
    "import requests"
   ]
  },
  {
   "cell_type": "code",
   "execution_count": null,
   "metadata": {},
   "outputs": [],
   "source": [
    "help(requests.get)"
   ]
  },
  {
   "cell_type": "code",
   "execution_count": null,
   "metadata": {},
   "outputs": [],
   "source": [
    "help(requests)"
   ]
  },
  {
   "cell_type": "markdown",
   "metadata": {},
   "source": [
    "Some notes:\n",
    "\n",
    "- You can also open up an interactive help prompt, which allows you to search Python's documentation, by typing `help()` with nothing in the brackets.\n",
    "- In Jupyter, you can get similar help output with `?` after the object name (e.g. `requests.get?`, which creates a little pop-up containing the help info at the bottom of the screen.\n",
    "- Remember that, when writing your own functions, you should make the first line of your definition a string, which will then become the equivalent help text for that function."
   ]
  },
  {
   "cell_type": "markdown",
   "metadata": {},
   "source": [
    "##### 2. StackOverflow and the Internet"
   ]
  },
  {
   "cell_type": "markdown",
   "metadata": {},
   "source": [
    "Don't be afraid or ashamed to copy and paste your error messages into an Internet search engine! We all do it all the time and it can actually be very helpful. No-one who ever learned computer programming found it easy\\* and the people who have been through this before have left a trail of breadcrumbs for you all across the internet.\n",
    "\n",
    "If you search the Internet for an error message or for how to do something specific, there's a good chance that one of the top hits will be on a site called _StackOverflow_ (https://stackoverflow.com). This is a question and answer forum with Reddit-style answer ranking, which allows you to see which answers have been deemed helpful and trustworthy by the user community. It's an extremely helpful resource. \n",
    "\n",
    "One word of warning, though: the StackOverflow community are generally friendly and helpful but tend to get grumpy if someone asks a question that's been asked before. We recommend that you spend some time searching the previously-asked questions to be sure that your query hasn't already been answered before you create a new post asking for help.\n",
    "\n",
    "\\*_Some people will tell you that it's easy but what these people really mean is either a) that they enjoyed the process of learning so much that they didn't notice how difficult it was, or b) that they would like you to feel inferior to them. It's OK to be jealous of the first group, and to ignore the second._"
   ]
  },
  {
   "cell_type": "markdown",
   "metadata": {},
   "source": [
    "##### 3. Online Documentation"
   ]
  },
  {
   "cell_type": "markdown",
   "metadata": {},
   "source": [
    "Python has excellent online documentation (https://docs.python.org/3/), which includes many modules (like `sqlite3`) that come installed (but not imported) with Python by default. (This collection of modules is called the _Standard Library_.) Many other modules/packages/libraries have online documentation of similarly high-quality, with multiple examples of use on which you might be able to base your own code. \n",
    "\n",
    "The online docs tend to be very comprehensive, which means that they can be a little overwhelming at first look - we recommend making good use of the \"Find\" function in your web browser, to jump to the parts of each page most likely to be relevant to you.\n",
    "\n",
    "We'll provide some links to a few of these documentation pages in the next section."
   ]
  },
  {
   "cell_type": "markdown",
   "metadata": {},
   "source": [
    "#### Useful Links"
   ]
  },
  {
   "cell_type": "markdown",
   "metadata": {},
   "source": [
    "- Python documentation: https://docs.python.org/3/\n",
    "  - `sqlite3`: https://docs.python.org/2/library/sqlite3.html\n",
    "- StackOverflow: https://stackoverflow.com/\n",
    "- `requests` documentation: http://docs.python-requests.org/en/master/\n",
    "- REST API Tutorial: https://www.restapitutorial.com/\n",
    "- HTTP Status Dogs: https://httpstatusdogs.com/\n",
    "\n"
   ]
  },
  {
   "cell_type": "markdown",
   "metadata": {},
   "source": [
    "#### Further Reading"
   ]
  },
  {
   "cell_type": "markdown",
   "metadata": {},
   "source": [
    "Some additional training material, in case you want to learn some more about the things we introduced in the module:\n",
    "\n",
    "- EMBL Bio-IT's __Introduction to Python Programming__ course material (Jupyter Notebooks): https://git.embl.de/grp-bio-it/ITPP/\n",
    "- Software Carpentry's lessons on\n",
    "  - __Plotting and Programming with Python__: http://swcarpentry.github.io/python-novice-gapminder/ \n",
    "  - __Databases & SQL__: http://swcarpentry.github.io/sql-novice-survey/\n",
    "- PythonCentral's __Python SQLite Database Tutorial__: https://www.pythoncentral.io/series/python-sqlite-database-tutorial/\n",
    "- A reference for __Markdown__ syntax, if you'd like to learn more about formatting text in a Jupyter Notebook/some other Markdown editor: https://github.com/adam-p/markdown-here/wiki/Markdown-Cheatsheet"
   ]
  }
 ],
 "metadata": {
  "kernelspec": {
   "display_name": "Python 3",
   "language": "python",
   "name": "python3"
  },
  "language_info": {
   "codemirror_mode": {
    "name": "ipython",
    "version": 3
   },
   "file_extension": ".py",
   "mimetype": "text/x-python",
   "name": "python",
   "nbconvert_exporter": "python",
   "pygments_lexer": "ipython3",
   "version": "3.6.6"
  }
 },
 "nbformat": 4,
 "nbformat_minor": 2
}
