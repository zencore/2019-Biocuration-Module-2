{
 "cells": [
  {
   "cell_type": "markdown",
   "metadata": {},
   "source": [
    "# Computational Skills for Biocuration\n",
    "\n",
    "## Programming Skills with Python"
   ]
  },
  {
   "cell_type": "markdown",
   "metadata": {},
   "source": [
    "### Imports & Plotting"
   ]
  },
  {
   "cell_type": "markdown",
   "metadata": {},
   "source": [
    "So far, we've been learning:\n",
    "\n",
    "- how to work with text and numbers\n",
    "- how to organise and manage this data in various different structures\n",
    "- how to process data quickly and reliably\n",
    "- how to read and write data from and to a file\n",
    "\n",
    "The output of a lot of the examples used so far has been text and/or numbers. This can be useful but it doesn't scale well, it can be difficult to interpret, and it isn't very visually appealing. This is where **visualisation** comes in."
   ]
  },
  {
   "cell_type": "markdown",
   "metadata": {},
   "source": [
    "#### Imports\n",
    "\n",
    "Functions that allow us to create plots of data are not included by default when Python is launched. Functionality such as this is considered too specialised and is therefore left out to save time and memory when Python starts up. The same is true for a great many different sets of functions etc, known as *modules* or *libraries*, that have been written for a specific purpose. Nevertheless, these functions do exist - we only need to tell Python that we want to use them. \n",
    "\n",
    "We do this with `import`."
   ]
  },
  {
   "cell_type": "markdown",
   "metadata": {},
   "source": [
    "The plotting library that we will use, `matplotlib`, is large and complex, with an unfamiliar syntax. That doesn't make it a great teaching example, so we will briefly use `numpy`, a library designed for working with numeric data, to illustrate how importing works in Python:"
   ]
  },
  {
   "cell_type": "code",
   "execution_count": null,
   "metadata": {},
   "outputs": [],
   "source": []
  },
  {
   "cell_type": "markdown",
   "metadata": {},
   "source": [
    "#### Plotting"
   ]
  },
  {
   "cell_type": "markdown",
   "metadata": {},
   "source": [
    "Ok, now that we've been introduced to the ideas of importing and namespaces, we can get back to the exciting business of plotting some data. As mentioned before, we will use a library called `matplotlib`. In fact, what we really need is one small part of `matplotlib`: the plotting library called `pyplot`. It's safer, faster, and (in the long run) more convenient to only load that particular part, so we will use the adjusted importing syntax that we learned earlier:"
   ]
  },
  {
   "cell_type": "code",
   "execution_count": null,
   "metadata": {},
   "outputs": [],
   "source": []
  },
  {
   "cell_type": "code",
   "execution_count": null,
   "metadata": {},
   "outputs": [],
   "source": []
  },
  {
   "cell_type": "code",
   "execution_count": null,
   "metadata": {
    "scrolled": true
   },
   "outputs": [],
   "source": []
  },
  {
   "cell_type": "code",
   "execution_count": null,
   "metadata": {},
   "outputs": [],
   "source": []
  },
  {
   "cell_type": "code",
   "execution_count": null,
   "metadata": {},
   "outputs": [],
   "source": [
    "# a more complex example\n",
    "\n",
    "elements = {\n",
    "    'Hg': [-39, 80],\n",
    "    'Br': [-7, 35],\n",
    "    'Fr': [27, 87],\n",
    "    'Cs': [29, 55],\n",
    "    'Ga': [30, 31],\n",
    "    'Rb': [39, 37],\n",
    "    'P' : [44, 15],\n",
    "    'K' : [64, 19]\n",
    "}"
   ]
  },
  {
   "cell_type": "code",
   "execution_count": null,
   "metadata": {},
   "outputs": [],
   "source": []
  }
 ],
 "metadata": {
  "kernelspec": {
   "display_name": "Python 3",
   "language": "python",
   "name": "python3"
  },
  "language_info": {
   "codemirror_mode": {
    "name": "ipython",
    "version": 3
   },
   "file_extension": ".py",
   "mimetype": "text/x-python",
   "name": "python",
   "nbconvert_exporter": "python",
   "pygments_lexer": "ipython3",
   "version": "3.6.6"
  }
 },
 "nbformat": 4,
 "nbformat_minor": 2
}
