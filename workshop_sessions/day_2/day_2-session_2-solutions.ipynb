{
 "cells": [
  {
   "cell_type": "markdown",
   "metadata": {},
   "source": [
    "# Computational Skills for Biocuration\n",
    "\n",
    "## Programming Skills with Python"
   ]
  },
  {
   "cell_type": "markdown",
   "metadata": {},
   "source": [
    "### Reading a local file\n",
    "\n",
    "#### Example file: \n",
    "\n",
    "- Search term: [\"gene:tp53 AND reviewed:yes\"](https://www.uniprot.org/uniprot/?query=gene%3ATP53+AND+reviewed%3Ayes&sort=score)\n",
    "- Download uncompressed tab separated file in your local directory under the file name: **uniprot-tp53.tab**"
   ]
  },
  {
   "cell_type": "markdown",
   "metadata": {},
   "source": [
    "## Handling files in Python\n",
    "\n",
    "- How can I open a file programmatically?"
   ]
  },
  {
   "cell_type": "markdown",
   "metadata": {
    "collapsed": true
   },
   "source": [
    "with open('uniprot-tp53.tab', 'r') as in_fh:\n",
    "    print(\"Reading file:\", in_fh.read())"
   ]
  },
  {
   "cell_type": "markdown",
   "metadata": {},
   "source": [
    "- How can I read each line of a file programmatically?\n",
    "- **Tip**: Use a smaller file to test your code: **uniprot-tp53-small.tab**"
   ]
  },
  {
   "cell_type": "code",
   "execution_count": 13,
   "metadata": {},
   "outputs": [
    {
     "name": "stdout",
     "output_type": "stream",
     "text": [
      "Reading line: Entry\tEntry name\tStatus\tProtein names\tGene names\tOrganism\tLength\n",
      "\n",
      "Reading line: O09185\tP53_CRIGR\treviewed\tCellular tumor antigen p53 (Tumor suppressor p53)\tTP53 P53\tCricetulus griseus (Chinese hamster) (Cricetulus barabensis griseus)\t393\n",
      "\n",
      "Reading line: P79734\tP53_DANRE\treviewed\tCellular tumor antigen p53 (Tumor suppressor p53)\ttp53 drp53\tDanio rerio (Zebrafish) (Brachydanio rerio)\t373\n",
      "\n",
      "Reading line: P41685\tP53_FELCA\treviewed\tCellular tumor antigen p53 (Tumor suppressor p53)\tTP53 TRP53\tFelis catus (Cat) (Felis silvestris catus)\t386\n",
      "\n",
      "Reading line: P04637\tP53_HUMAN\treviewed\tCellular tumor antigen p53 (Antigen NY-CO-13) (Phosphoprotein p53) (Tumor suppressor p53)\tTP53 P53\tHomo sapiens (Human)\t393\n"
     ]
    }
   ],
   "source": [
    "with open('uniprot-tp53-small.tab', 'r') as in_fh:\n",
    "    for lines in in_fh:\n",
    "        print(\"Reading line:\", lines)"
   ]
  },
  {
   "cell_type": "markdown",
   "metadata": {},
   "source": [
    "- How can I read a specific infomation of a file programmatically?"
   ]
  },
  {
   "cell_type": "code",
   "execution_count": 16,
   "metadata": {},
   "outputs": [
    {
     "name": "stdout",
     "output_type": "stream",
     "text": [
      "Entry Organism\n",
      "O09185 Cricetulus griseus (Chinese hamster) (Cricetulus barabensis griseus)\n",
      "P79734 Danio rerio (Zebrafish) (Brachydanio rerio)\n",
      "P41685 Felis catus (Cat) (Felis silvestris catus)\n",
      "P04637 Homo sapiens (Human)\n"
     ]
    }
   ],
   "source": [
    "with open('uniprot-tp53-small.tab', 'r') as in_fh:\n",
    "    for lines in in_fh:\n",
    "        entry = lines.split('\\t')[0]\n",
    "        organism = lines.split('\\t')[5]\n",
    "        print(entry, organism)"
   ]
  },
  {
   "cell_type": "markdown",
   "metadata": {},
   "source": [
    "- How can I write information such as curated data to a file?\n",
    "    - Use \"tp53-entry-organism.tab\" as your file name."
   ]
  },
  {
   "cell_type": "code",
   "execution_count": 26,
   "metadata": {},
   "outputs": [],
   "source": [
    "with open('uniprot-tp53-small.tab', 'r') as in_fh:\n",
    "    with open('tp53-entry-organism.tab', 'w') as out_fh:\n",
    "        for lines in in_fh:\n",
    "            entry = lines.split('\\t')[0]\n",
    "            organism = lines.split('\\t')[5]\n",
    "            out_fh.write(f\"{entry}, {organism}\\n\")"
   ]
  },
  {
   "cell_type": "markdown",
   "metadata": {},
   "source": [
    "### Exercise:\n",
    "\n",
    "Fill in the blanks in the code below, to create a filter which:\n",
    "\n",
    " * Prints the \"Entry\" (UniProt ID) and \"Organism\" if (and only if) the Organism is \"Danio rerio (Zebrafish) (Brachydanio rerio)\" or \"Felis catus (Cat) (Felis silvestris catus)\""
   ]
  },
  {
   "cell_type": "code",
   "execution_count": null,
   "metadata": {},
   "outputs": [],
   "source": [
    "### Debugging time!\n",
    "\n",
    "with open('uniprot-tp53-small.tab', 'r') as in_fh:\n",
    "    for lines in in_fh:\n",
    "        entry = lines.split('\\t')[0]\n",
    "        organism = lines.split('\\t')[5]\n",
    "        if --- == \"Danio rerio (Zebrafish) (Brachydanio rerio)\":\n",
    "            ---\n",
    "        --- organism --- \"Felis catus (Cat) (Felis silvestris catus)\":\n",
    "            print(entry, organism)"
   ]
  },
  {
   "cell_type": "code",
   "execution_count": null,
   "metadata": {},
   "outputs": [],
   "source": [
    "### Solution\n",
    "\n",
    "with open('uniprot-tp53-small.tab', 'r') as in_fh:\n",
    "    for lines in in_fh:\n",
    "        entry = lines.split('\\t')[0]\n",
    "        organism = lines.split('\\t')[5]\n",
    "        if organism == \"Danio rerio (Zebrafish) (Brachydanio rerio)\":\n",
    "            print(entry, organism)\n",
    "        elif organism == \"Felis catus (Cat) (Felis silvestris catus)\":\n",
    "            print(entry, organism)"
   ]
  },
  {
   "cell_type": "markdown",
   "metadata": {},
   "source": [
    "### Exercise:\n",
    "\n",
    "- Try to use different concepts learned today in this exercise (e.g. list, dict, set, function, loops and conditional)\n",
    "\n",
    "\n",
    "- Create a function \"extract_uniprot_organism\" that can read any UniProt file like the UniProt example file.\n",
    "- Print unique set of organism name.\n",
    "\n",
    "\n",
    "- Can you identify how many organism had multiple entries?\n",
    "    - Hint: check length of full list and length of unique list."
   ]
  },
  {
   "cell_type": "code",
   "execution_count": 32,
   "metadata": {},
   "outputs": [
    {
     "name": "stdout",
     "output_type": "stream",
     "text": [
      "59 36\n",
      "{'Barbus barbus (Barbel) (Cyprinus barbus)', 'Sus scrofa (Pig)', 'Macaca mulatta (Rhesus macaque)', 'Bos taurus (Bovine)', 'Cavia porcellus (Guinea pig)', 'Xiphophorus maculatus (Southern platyfish) (Platypoecilus maculatus)', 'Delphinapterus leucas (Beluga whale)', 'Rattus norvegicus (Rat)', 'Spermophilus beecheyi (California ground squirrel) (Otospermophilus beecheyi)', 'Danio rerio (Zebrafish) (Brachydanio rerio)', 'Canis lupus familiaris (Dog) (Canis familiaris)', 'Felis catus (Cat) (Felis silvestris catus)', 'Organism', 'Homo sapiens (Human)', 'Bos indicus (Zebu)', 'Mus musculus (Mouse)', 'Cricetulus griseus (Chinese hamster) (Cricetulus barabensis griseus)', 'Mesocricetus auratus (Golden hamster)', 'Ictalurus punctatus (Channel catfish) (Silurus punctatus)', 'Oryctolagus cuniculus (Rabbit)', 'Gallus gallus (Chicken)', 'Tetraodon miurus (Congo puffer)', 'Tupaia belangeri (Common tree shrew) (Tupaia glis belangeri)', 'Oncorhynchus mykiss (Rainbow trout) (Salmo gairdneri)', 'Pongo abelii (Sumatran orangutan) (Pongo pygmaeus abelii)', 'Platichthys flesus (European flounder) (Pleuronectes flesus)', 'Chlorocebus aethiops (Green monkey) (Cercopithecus aethiops)', 'Macaca fascicularis (Crab-eating macaque) (Cynomolgus monkey)', 'Xiphophorus helleri (Green swordtail)', 'Ovis aries (Sheep)', 'Oryzias latipes (Japanese rice fish) (Japanese killifish)', 'Macaca fuscata fuscata (Japanese macaque)', 'Marmota monax (Woodchuck)', 'Xenopus laevis (African clawed frog)', 'Equus caballus (Horse)', 'Equus asinus (Donkey) (Equus africanus asinus)'}\n"
     ]
    }
   ],
   "source": [
    "def extract_uniprot_organism(in_file):\n",
    "    with open(in_file, 'r') as in_fh:\n",
    "        organism_list = []\n",
    "        for lines in in_fh:    \n",
    "            organism = lines.split('\\t')[5]\n",
    "            organism_list.append(organism)\n",
    "        print(len(organism_list) - len(set(organism_list)))\n",
    "    return set(organism_list)\n",
    "\n",
    "unique_organism = extract_uniprot_organism(\"uniprot-tp53.tab\")\n",
    "print(unique_organism)"
   ]
  },
  {
   "cell_type": "markdown",
   "metadata": {},
   "source": [
    "**Optional Exercise**: \n",
    "- Expand your function that writes \"Enrty - organism\" pair to a file.\n",
    "    - Hint: See the code that you wrote earlier to write your first file: \"tp53-entry-organism.tab\""
   ]
  },
  {
   "cell_type": "code",
   "execution_count": 37,
   "metadata": {},
   "outputs": [
    {
     "name": "stdout",
     "output_type": "stream",
     "text": [
      "23\n",
      "{'Barbus barbus (Barbel) (Cyprinus barbus)', 'Sus scrofa (Pig)', 'Macaca mulatta (Rhesus macaque)', 'Bos taurus (Bovine)', 'Cavia porcellus (Guinea pig)', 'Xiphophorus maculatus (Southern platyfish) (Platypoecilus maculatus)', 'Delphinapterus leucas (Beluga whale)', 'Rattus norvegicus (Rat)', 'Spermophilus beecheyi (California ground squirrel) (Otospermophilus beecheyi)', 'Danio rerio (Zebrafish) (Brachydanio rerio)', 'Canis lupus familiaris (Dog) (Canis familiaris)', 'Felis catus (Cat) (Felis silvestris catus)', 'Organism', 'Homo sapiens (Human)', 'Bos indicus (Zebu)', 'Mus musculus (Mouse)', 'Cricetulus griseus (Chinese hamster) (Cricetulus barabensis griseus)', 'Mesocricetus auratus (Golden hamster)', 'Ictalurus punctatus (Channel catfish) (Silurus punctatus)', 'Oryctolagus cuniculus (Rabbit)', 'Gallus gallus (Chicken)', 'Tetraodon miurus (Congo puffer)', 'Tupaia belangeri (Common tree shrew) (Tupaia glis belangeri)', 'Oncorhynchus mykiss (Rainbow trout) (Salmo gairdneri)', 'Pongo abelii (Sumatran orangutan) (Pongo pygmaeus abelii)', 'Platichthys flesus (European flounder) (Pleuronectes flesus)', 'Chlorocebus aethiops (Green monkey) (Cercopithecus aethiops)', 'Macaca fascicularis (Crab-eating macaque) (Cynomolgus monkey)', 'Xiphophorus helleri (Green swordtail)', 'Ovis aries (Sheep)', 'Oryzias latipes (Japanese rice fish) (Japanese killifish)', 'Macaca fuscata fuscata (Japanese macaque)', 'Marmota monax (Woodchuck)', 'Xenopus laevis (African clawed frog)', 'Equus caballus (Horse)', 'Equus asinus (Donkey) (Equus africanus asinus)'}\n"
     ]
    }
   ],
   "source": [
    "def extract_uniprot_organism(in_file, out_file):\n",
    "    with open(out_file, 'w') as out_fh:\n",
    "        with open(in_file, 'r') as in_fh:\n",
    "            organism_list = []\n",
    "            for lines in in_fh:    \n",
    "                entry = lines.split('\\t')[0]\n",
    "                organism = lines.split('\\t')[5]\n",
    "                out_fh.write(f'{entry}, {organism}\\n')\n",
    "                organism_list.append(organism)\n",
    "            print(len(organism_list) - len(set(organism_list)))\n",
    "    return set(organism_list)\n",
    "unique_organism = extract_uniprot_organism(\"uniprot-tp53.tab\", \"tp53-entry-organism.tab\")\n",
    "print(unique_organism)"
   ]
  }
 ],
 "metadata": {
  "kernelspec": {
   "display_name": "Python 3",
   "language": "python",
   "name": "python3"
  },
  "language_info": {
   "codemirror_mode": {
    "name": "ipython",
    "version": 3
   },
   "file_extension": ".py",
   "mimetype": "text/x-python",
   "name": "python",
   "nbconvert_exporter": "python",
   "pygments_lexer": "ipython3",
   "version": "3.6.6"
  }
 },
 "nbformat": 4,
 "nbformat_minor": 2
}
