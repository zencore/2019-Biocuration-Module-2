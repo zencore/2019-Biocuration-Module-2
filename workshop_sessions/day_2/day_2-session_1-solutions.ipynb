{
 "cells": [
  {
   "cell_type": "markdown",
   "metadata": {},
   "source": [
    "# Making decisions : the `if` statement, and friends"
   ]
  },
  {
   "cell_type": "markdown",
   "metadata": {},
   "source": [
    "The `if` statement in Python can be used to build decision points in your code.\n",
    "* Any indented code under the `if` statement is run, *if* the statement is **True**"
   ]
  },
  {
   "cell_type": "code",
   "execution_count": null,
   "metadata": {},
   "outputs": [],
   "source": [
    "# Demo time!\n",
    "temperature = 24\n",
    "\n",
    "if temperature == 24:\n",
    "    print(\"It is a nice temperature\")"
   ]
  },
  {
   "cell_type": "markdown",
   "metadata": {},
   "source": [
    "The `if` statement has a companion -- `else`: what to do if the *if* statement is *false*\n",
    "* The `else` has the same indentation level as the `if`\n",
    "* Any indented code under the `else` statement is run, *if* the statement is **False**"
   ]
  },
  {
   "cell_type": "code",
   "execution_count": null,
   "metadata": {},
   "outputs": [],
   "source": [
    "# Demo time!\n",
    "\n",
    "temperature = 24\n",
    "\n",
    "if temperature == 24:\n",
    "    print(\"It is a nice temperature\")\n",
    "else:\n",
    "    print(\"It is not a nice temperature\")"
   ]
  },
  {
   "cell_type": "markdown",
   "metadata": {},
   "source": [
    "There are different types of mathematical comparisons we can use in an if statement:\n",
    "    \n",
    "* `==` equals\n",
    "* `!=` does not equal\n",
    "* `>` is greater than\n",
    "* `<` is less than\n",
    "* `>=` is greater than or equal to\n",
    "* `<=` is less than or equal to\n",
    "\n",
    "We can directly run these tests in a shell:"
   ]
  },
  {
   "cell_type": "code",
   "execution_count": null,
   "metadata": {},
   "outputs": [],
   "source": [
    "# Demo time!\n",
    "\n",
    "# Testing equality for numbers\n",
    "print(3 == 3)\n",
    "\n",
    "# Testing equality & intequality using variables\n",
    "x = 5\n",
    "y = 10\n",
    "print(x == y)\n",
    "print(x != y)\n",
    "\n",
    "# Testing numerical comparisons\n",
    "print(10 <= 100)\n",
    "print(x >= y)"
   ]
  },
  {
   "cell_type": "markdown",
   "metadata": {},
   "source": [
    "### Exercise\n",
    "\n",
    "Create a script, similar to the temperature example shown before which:\n",
    "\n",
    "* Prints \"Wow, its freezing!\" if the `temperature` is 0 or below.\n",
    "* Prints \"It's not freezing.\" otherwise."
   ]
  },
  {
   "cell_type": "code",
   "execution_count": null,
   "metadata": {},
   "outputs": [],
   "source": [
    "# Try your solution here!\n",
    "temperature = 0\n",
    "\n",
    "if temperature <= 0:\n",
    "    print(\"Wow, its freezing!\")\n",
    "else:\n",
    "    print(\"It's not freezing.\")"
   ]
  },
  {
   "cell_type": "markdown",
   "metadata": {},
   "source": [
    "`if` and `else` have a third companion -- `elif`: which stands for \"else, if\", and can be included in an existing `if` or `if`/`else` statement:\n",
    "* The `elif` has the same indentation level as the `if` and `else` statements\n",
    "* Any indented code under the `elif` statement is run, *if* the *else if* statement is **True**"
   ]
  },
  {
   "cell_type": "code",
   "execution_count": null,
   "metadata": {},
   "outputs": [],
   "source": [
    "# Demo time! \n",
    "temperature = 20\n",
    "\n",
    "if temperature <= 0:\n",
    "    print(\"Wow, its freezing!\")\n",
    "elif temperature >= 30:\n",
    "    print(\"Wow, boiling!\")\n",
    "else:\n",
    "    print(\"It's not extremely hot or cold\")"
   ]
  },
  {
   "cell_type": "markdown",
   "metadata": {},
   "source": [
    "## Building a filter\n",
    "\n",
    "One real-life common application of an `if` statement is to create a filter for a dataset.\n",
    "\n",
    "Lets revisit the **TP53** dataset, and do an exercise in which we build a filter."
   ]
  },
  {
   "cell_type": "markdown",
   "metadata": {},
   "source": [
    "### Exercise\n",
    "\n",
    "Fill in the blanks in the code below, to create a filter which:\n",
    "\n",
    "* Prints the \"Entry\" (UniProt ID) and \"Organism\" if (and only if) the Organism is \"Danio rerio (Zebrafish) (Brachydanio rerio)\" or \"Felis catus (Cat) (Felis silvestris catus)\"\n",
    "* Each `---` in the code below should be replaced by one (or more) bits of Python code"
   ]
  },
  {
   "cell_type": "code",
   "execution_count": null,
   "metadata": {},
   "outputs": [],
   "source": [
    "### Fill in the blanks time!\n",
    "\n",
    "with open('uniprot-tp53-small.tab', 'r') as in_fh:\n",
    "    for lines in in_fh:\n",
    "        entry = lines.split('\\t')[0]\n",
    "        organism = lines.split('\\t')[5]\n",
    "        if --- == \"Danio rerio (Zebrafish) (Brachydanio rerio)\":\n",
    "            ---\n",
    "        --- organism --- \"Felis catus (Cat) (Felis silvestris catus):\n",
    "            print(entry, organism)"
   ]
  },
  {
   "cell_type": "code",
   "execution_count": null,
   "metadata": {},
   "outputs": [],
   "source": [
    "### Solution code\n",
    "\n",
    "with open('uniprot-tp53-small.tab', 'r') as in_fh:\n",
    "    for lines in in_fh:\n",
    "        entry = lines.split('\\t')[0]\n",
    "        organism = lines.split('\\t')[5]\n",
    "        if organism == \"Danio rerio (Zebrafish) (Brachydanio rerio)\":\n",
    "            print(entry, organism)\n",
    "        elif organism == \"Felis catus (Cat) (Felis silvestris catus)\":\n",
    "            print(entry, organism)"
   ]
  },
  {
   "cell_type": "markdown",
   "metadata": {},
   "source": [
    "## Testing presence & absence\n",
    "\n",
    "We are going to re-visit an example from the Webinar assignments:"
   ]
  },
  {
   "cell_type": "code",
   "execution_count": null,
   "metadata": {},
   "outputs": [],
   "source": [
    "shopping = ['bread', 'potatoes', 'eggs', 'flour', 'rubber duck', 'pizza', 'milk']\n",
    "for item in shopping:\n",
    "    print(item)"
   ]
  },
  {
   "cell_type": "markdown",
   "metadata": {},
   "source": [
    "Lets extend this code to include an extra list, and use the `.append` method to add items to the list. Lets add the following list of items:\n",
    "\n",
    "* cheese, flour, eggs, spaghetti, sausages, bread"
   ]
  },
  {
   "cell_type": "code",
   "execution_count": null,
   "metadata": {},
   "outputs": [],
   "source": [
    "# Demo time!\n",
    "\n",
    "shopping = ['bread', 'potatoes', 'eggs', 'flour', 'rubber duck', 'pizza', 'milk']\n",
    "extrashopping = ['cheese', 'flour', 'eggs', 'spaghetti', 'sausages', 'bread']\n",
    "for item in extrashopping:\n",
    "    shopping.append(item)\n",
    "print(shopping)"
   ]
  },
  {
   "cell_type": "markdown",
   "metadata": {},
   "source": [
    "This could be better! How can we find out if an item *is already in the list*?\n",
    "\n",
    "The Python `in` statement checks whether an item is in a list (or not):"
   ]
  },
  {
   "cell_type": "code",
   "execution_count": null,
   "metadata": {},
   "outputs": [],
   "source": [
    "# Demo time!\n",
    "\n",
    "shopping = ['eggs', 'cheese', 'milk']\n",
    "\n",
    "'eggs' in shopping\n",
    "'frogs' in shopping \n",
    "'frogs' not in shopping"
   ]
  },
  {
   "cell_type": "markdown",
   "metadata": {},
   "source": [
    "We can use this in a new Python statement, which allows us to only execute statements if a particular condition is true. The program could be changed to:"
   ]
  },
  {
   "cell_type": "code",
   "execution_count": null,
   "metadata": {},
   "outputs": [],
   "source": [
    "# Demo time!\n",
    "\n",
    "shopping = ['bread', 'potatoes', 'eggs', 'flour', 'rubber duck', 'pizza', 'milk']\n",
    "extrashopping = ['cheese', 'flour', 'eggs', 'spaghetti', 'sausages', 'bread']\n",
    "for item in extrashopping:\n",
    "    if item not in shopping:\n",
    "        shopping.append(item)\n",
    "print(shopping) "
   ]
  },
  {
   "cell_type": "markdown",
   "metadata": {},
   "source": [
    "### Exercise\n",
    "\n",
    "The example we worked on works pretty well. But lets imagine we want to build something a little more verbose, which warns us when we are trying to add an item which already exists in the list.\n",
    "\n",
    "Which one of these solutions would print \"[item] is already in the list\" (where \"[item]\" is the shopping item in question)?\n",
    "\n",
    "**Solution 1**\n",
    "\n",
    "```python\n",
    "shopping = ['bread', 'potatoes', 'eggs', 'flour', 'rubber duck', 'pizza', 'milk']\n",
    "extrashopping = ['cheese', 'flour', 'eggs', 'spaghetti', 'sausages', 'bread']\n",
    "for item in extrashopping:\n",
    "    if item not in shopping:   \n",
    "        print(item, \"is already in the list.\")\n",
    "    else: \n",
    "        shopping.append(item)\n",
    "print(shopping) \n",
    "```\n",
    "\n",
    "**Solution 2**\n",
    "\n",
    "```python\n",
    "shopping = ['bread', 'potatoes', 'eggs', 'flour', 'rubber duck', 'pizza', 'milk']\n",
    "extrashopping = ['cheese', 'flour', 'eggs', 'spaghetti', 'sausages', 'bread']\n",
    "for item in extrashopping:\n",
    "    if item in shopping:\n",
    "        shopping.append(item)\n",
    "    else: \n",
    "        print(item, \"is already in the list.\")\n",
    "print(shopping)\n",
    "```\n",
    "\n",
    "**Solution 3**\n",
    "\n",
    "```python\n",
    "shopping = ['bread', 'potatoes', 'eggs', 'flour', 'rubber duck', 'pizza', 'milk']\n",
    "extrashopping = ['cheese', 'flour', 'eggs', 'spaghetti', 'sausages', 'bread']\n",
    "for item in extrashopping:\n",
    "    if item in shopping:\n",
    "        print(item, \"is already in the list.\")\n",
    "    else: \n",
    "        shopping.append(item)\n",
    "print(shopping)\n",
    "```"
   ]
  }
 ],
 "metadata": {
  "kernelspec": {
   "display_name": "Python 3",
   "language": "python",
   "name": "python3"
  },
  "language_info": {
   "codemirror_mode": {
    "name": "ipython",
    "version": 3
   },
   "file_extension": ".py",
   "mimetype": "text/x-python",
   "name": "python",
   "nbconvert_exporter": "python",
   "pygments_lexer": "ipython3",
   "version": "3.7.1"
  }
 },
 "nbformat": 4,
 "nbformat_minor": 1
}
