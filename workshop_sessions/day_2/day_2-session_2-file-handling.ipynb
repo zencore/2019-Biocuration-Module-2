{
 "cells": [
  {
   "cell_type": "markdown",
   "metadata": {},
   "source": [
    "# Computational Skills for Biocuration\n",
    "\n",
    "## Programming Skills with Python"
   ]
  },
  {
   "cell_type": "markdown",
   "metadata": {},
   "source": [
    "### Reading a local file\n",
    "\n",
    "#### Example file: \n",
    "\n",
    "- Search term: [\"gene:tp53 AND reviewed:yes\"](https://www.uniprot.org/uniprot/?query=gene%3ATP53+AND+reviewed%3Ayes&sort=score)\n",
    "- Download uncompressed tab separated file in your local directory under the file name: **uniprot-tp53.tab**"
   ]
  },
  {
   "cell_type": "markdown",
   "metadata": {},
   "source": [
    "## Handling files in Python\n",
    "\n",
    "- How can I open a file programmatically?"
   ]
  },
  {
   "cell_type": "code",
   "execution_count": null,
   "metadata": {
    "collapsed": true
   },
   "outputs": [],
   "source": []
  },
  {
   "cell_type": "markdown",
   "metadata": {},
   "source": [
    "- How can I read each line of a file programmatically?\n",
    "- **Tip**: Use a smaller file to test your code: **uniprot-tp53-small.tab**"
   ]
  },
  {
   "cell_type": "code",
   "execution_count": null,
   "metadata": {
    "collapsed": true
   },
   "outputs": [],
   "source": []
  },
  {
   "cell_type": "markdown",
   "metadata": {},
   "source": [
    "- How can I read a specific infomation of a file programmatically?"
   ]
  },
  {
   "cell_type": "code",
   "execution_count": null,
   "metadata": {
    "collapsed": true
   },
   "outputs": [],
   "source": []
  },
  {
   "cell_type": "markdown",
   "metadata": {},
   "source": [
    "- How can I write information such as curated data to a file?\n",
    "    - Use \"tp53-entry-organism.tab\" as your file name."
   ]
  },
  {
   "cell_type": "code",
   "execution_count": null,
   "metadata": {
    "collapsed": true
   },
   "outputs": [],
   "source": []
  },
  {
   "cell_type": "markdown",
   "metadata": {},
   "source": [
    "### Exercise:\n",
    "\n",
    "Fill in the blanks in the code below, to create a filter which:\n",
    "\n",
    " * Prints the \"Entry\" (UniProt ID) and \"Organism\" if (and only if) the Organism is \"Danio rerio (Zebrafish) (Brachydanio rerio)\" or \"Felis catus (Cat) (Felis silvestris catus)\""
   ]
  },
  {
   "cell_type": "code",
   "execution_count": null,
   "metadata": {},
   "outputs": [],
   "source": [
    "### Debugging time!\n",
    "\n",
    "with open('uniprot-tp53-small.tab', 'r') as in_fh:\n",
    "    for lines in in_fh:\n",
    "        entry = lines.split('\\t')[0]\n",
    "        organism = lines.split('\\t')[5]\n",
    "        if --- == \"Danio rerio (Zebrafish) (Brachydanio rerio)\":\n",
    "            ---\n",
    "        --- organism --- \"Felis catus (Cat) (Felis silvestris catus)\":\n",
    "            print(entry, organism)"
   ]
  },
  {
   "cell_type": "markdown",
   "metadata": {},
   "source": [
    "### Exercise:\n",
    "\n",
    "- Try to use different concepts learned in this exercise (e.g. list, dict, set, function, loops and conditional)\n",
    "\n",
    "\n",
    "- **Create a function** \"extract_uniprot_organism\" \n",
    "    - That can read any UniProt file like the UniProt example file.\n",
    "    - Saves organism names in a list\n",
    "    - Returns a list of unique organism names (remove duplicates)\n",
    "\n",
    "- Expand your function that prints the total number of organisms had multiple entries?\n",
    "    - Hint: check length of full list and length of unique list."
   ]
  },
  {
   "cell_type": "code",
   "execution_count": null,
   "metadata": {},
   "outputs": [],
   "source": []
  },
  {
   "cell_type": "markdown",
   "metadata": {},
   "source": [
    "**Optional Exercise**: \n",
    "\n",
    "- Expand your function to check if the length of protein sequence is smaller than 390:\n",
    "    - print a statement `f\"Length of protein in {ORGANISM NAME} is {LENGTH} AA long, which is shorter than its reference in Mouse`.\n",
    "    \n",
    "- Expand your function that writes \"Entry - organism\" pair to a file.\n",
    "    - Hint: See the code that you wrote earlier to write your first file: \"tp53-entry-organism.tab\""
   ]
  },
  {
   "cell_type": "code",
   "execution_count": null,
   "metadata": {
    "collapsed": true
   },
   "outputs": [],
   "source": []
  }
 ],
 "metadata": {
  "kernelspec": {
   "display_name": "Python 3",
   "language": "python",
   "name": "python3"
  },
  "language_info": {
   "codemirror_mode": {
    "name": "ipython",
    "version": 3
   },
   "file_extension": ".py",
   "mimetype": "text/x-python",
   "name": "python",
   "nbconvert_exporter": "python",
   "pygments_lexer": "ipython3",
   "version": "3.6.8"
  }
 },
 "nbformat": 4,
 "nbformat_minor": 2
}
