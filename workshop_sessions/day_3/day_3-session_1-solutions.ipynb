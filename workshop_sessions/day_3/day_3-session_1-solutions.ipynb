{
 "cells": [
  {
   "cell_type": "markdown",
   "metadata": {},
   "source": [
    "# Computational Skills for Biocuration\n",
    "\n",
    "## Programming Skills with Python"
   ]
  },
  {
   "cell_type": "markdown",
   "metadata": {},
   "source": [
    "### Databases and Python"
   ]
  },
  {
   "cell_type": "markdown",
   "metadata": {},
   "source": [
    "We've learned a lot over the past few days. On days 1 & 2, we introduced some of the fundamental concepts in programming with Python, such as\n",
    "\n",
    "- variables\n",
    "- strings\n",
    "- lists\n",
    "- dictionaries\n",
    "- defining our own functions\n",
    "- conditionals (`if`, `elif`, `else`, etc)\n",
    "\n",
    "before moving on to look at how we can use Python to download and work with data from online databases/resources.\n",
    "\n",
    "Yesterday, we were introduced to the fundamental considerations associated with designing our own local database(s) and some SQL commands to read and write information from/to these."
   ]
  },
  {
   "cell_type": "markdown",
   "metadata": {},
   "source": [
    "Today, we're going to wrap things up by __combining Python and SQLite__ to show you how you can programmatically create, extend, edit, search, and extract information from local database files.\n",
    "\n",
    "We will also try to conclude the training by showing you how to combine the elements of Python programming that we've been discussing, into a single, reusable, _script_."
   ]
  },
  {
   "cell_type": "markdown",
   "metadata": {},
   "source": [
    "#### Introducing the `sqlite3` module"
   ]
  },
  {
   "cell_type": "markdown",
   "metadata": {},
   "source": [
    "Just like we needed to import `requests` to interact with online databases, and `json` to work with data in JSON format, we need to use the `sqlite3` module to work with the kind of SQLite databases that you were introduced to yesterday."
   ]
  },
  {
   "cell_type": "code",
   "execution_count": 53,
   "metadata": {},
   "outputs": [],
   "source": [
    "import sqlite3"
   ]
  },
  {
   "cell_type": "code",
   "execution_count": 54,
   "metadata": {},
   "outputs": [],
   "source": [
    "connection = sqlite3.connect('practical.db')"
   ]
  },
  {
   "cell_type": "code",
   "execution_count": 55,
   "metadata": {},
   "outputs": [],
   "source": [
    "cursor = connection.cursor()"
   ]
  },
  {
   "cell_type": "code",
   "execution_count": 56,
   "metadata": {},
   "outputs": [],
   "source": [
    "tables = cursor.execute('''SELECT name from sqlite_master \n",
    "                           where type=\"table\"''')"
   ]
  },
  {
   "cell_type": "code",
   "execution_count": 57,
   "metadata": {},
   "outputs": [
    {
     "data": {
      "text/plain": [
       "sqlite3.Cursor"
      ]
     },
     "execution_count": 57,
     "metadata": {},
     "output_type": "execute_result"
    }
   ],
   "source": [
    "type(tables)"
   ]
  },
  {
   "cell_type": "code",
   "execution_count": 58,
   "metadata": {},
   "outputs": [],
   "source": [
    "table_names = cursor.fetchall()"
   ]
  },
  {
   "cell_type": "code",
   "execution_count": 59,
   "metadata": {},
   "outputs": [
    {
     "data": {
      "text/plain": [
       "list"
      ]
     },
     "execution_count": 59,
     "metadata": {},
     "output_type": "execute_result"
    }
   ],
   "source": [
    "type(table_names)"
   ]
  },
  {
   "cell_type": "code",
   "execution_count": 60,
   "metadata": {},
   "outputs": [
    {
     "name": "stdout",
     "output_type": "stream",
     "text": [
      "('interactome',)\n",
      "('annotation',)\n"
     ]
    }
   ],
   "source": [
    "for name in table_names:\n",
    "    print(name)"
   ]
  },
  {
   "cell_type": "code",
   "execution_count": 61,
   "metadata": {},
   "outputs": [],
   "source": [
    "connection.close()"
   ]
  },
  {
   "cell_type": "code",
   "execution_count": 62,
   "metadata": {},
   "outputs": [],
   "source": [
    "import sqlite3 as s3"
   ]
  },
  {
   "cell_type": "code",
   "execution_count": 63,
   "metadata": {},
   "outputs": [
    {
     "name": "stdout",
     "output_type": "stream",
     "text": [
      "[('CD44 antigen (CDw44) (Epican) (Extracellular matrix receptor III) (ECMR-III) (GP90 lymphocyte homing/adhesion receptor) (HUTCH-I) (Heparan sulfate proteoglycan) (Hermes antigen) (Hyaluronate receptor) (Phagocytic glycoprotein 1) (PGP-1) (Phagocytic glycoprotein I) (PGP-I) (CD antigen CD44)', 'MDKFWWHAAWGLCLVPLSLAQIDLNITCRFAGVFHVEKNGRYSISRTEAADLCKAFNSTLPTMAQMEKALSIGFETCRYGFIEGHVVIPRIHPNSICAANNTGVYILTSNTSQYDTYCFNASAPPEEDCTSVTDLPNAFDGPITITIVNRDGTRYVQKGEYRTNPEDIYPSNPTDDDVSSGSSSERSSTSGGYIFYTFSTVHPIPDEDSPWITDSTDRIPATTLMSTSATATETATKRQETWDWFSWLFLPSESKNHLHTTTQMAGTSSNTISAGWEPNEENEDERDRHLSFSGSGIDDDEDFISSTISTTPRAFDHTKQNQDWTQWNPSHSNPEVLLQTTTRMTDVDRNGTTAYEGNWNPEAHPPLIHHEHHEEEETPHSTSTIQATPSSTTEETATQKEQWFGNRWHEGYRQTPKEDSHSTTGTAAASAHTSHPMQGRTTPSPEDSSWTDFFNPISHPMGRGHQAGRRMDMDSSHSITLQPTANPNTGLVEDLDRTGPLSMTTQQSNSQSFSTSHEGLEEDKDHPTTSTLTSSNRNDVTGGRRDPNHSEGSTTLLEGYTSHYPHTKESRTFIPVTSAKTGSFGVTAVTVGDSNSNVNRSLSGDQDTFHPSGGSHTTHGSESDGHSHGSQEGGANTTSGPIRTPQIPEWLIILASLLALALILAVCIAVNSRRRCGQKKKLVINSGNGAVEDRKPSGLNGEASKSQEMVHLVNKESSETPDQFMTADETRNLQNVDMKIGV')]\n"
     ]
    }
   ],
   "source": [
    "with s3.connect('practical.db') as conn:\n",
    "    cursor = conn.cursor()\n",
    "    cursor.execute('''SELECT name,sequence FROM annotation\n",
    "                      WHERE uniprotID = \"P16070\";''')\n",
    "    info = cursor.fetchall()\n",
    "print(info)"
   ]
  },
  {
   "cell_type": "code",
   "execution_count": 64,
   "metadata": {},
   "outputs": [
    {
     "name": "stdout",
     "output_type": "stream",
     "text": [
      "MDKFWWHAAWGLCLVPLSLAQIDLNITCRFAGVFHVEKNGRYSISRTEAADLCKAFNSTLPTMAQMEKALSIGFETCRYGFIEGHVVIPRIHPNSICAANNTGVYILTSNTSQYDTYCFNASAPPEEDCTSVTDLPNAFDGPITITIVNRDGTRYVQKGEYRTNPEDIYPSNPTDDDVSSGSSSERSSTSGGYIFYTFSTVHPIPDEDSPWITDSTDRIPATTLMSTSATATETATKRQETWDWFSWLFLPSESKNHLHTTTQMAGTSSNTISAGWEPNEENEDERDRHLSFSGSGIDDDEDFISSTISTTPRAFDHTKQNQDWTQWNPSHSNPEVLLQTTTRMTDVDRNGTTAYEGNWNPEAHPPLIHHEHHEEEETPHSTSTIQATPSSTTEETATQKEQWFGNRWHEGYRQTPKEDSHSTTGTAAASAHTSHPMQGRTTPSPEDSSWTDFFNPISHPMGRGHQAGRRMDMDSSHSITLQPTANPNTGLVEDLDRTGPLSMTTQQSNSQSFSTSHEGLEEDKDHPTTSTLTSSNRNDVTGGRRDPNHSEGSTTLLEGYTSHYPHTKESRTFIPVTSAKTGSFGVTAVTVGDSNSNVNRSLSGDQDTFHPSGGSHTTHGSESDGHSHGSQEGGANTTSGPIRTPQIPEWLIILASLLALALILAVCIAVNSRRRCGQKKKLVINSGNGAVEDRKPSGLNGEASKSQEMVHLVNKESSETPDQFMTADETRNLQNVDMKIGV\n"
     ]
    }
   ],
   "source": [
    "print(info[0][-1])"
   ]
  },
  {
   "cell_type": "code",
   "execution_count": 65,
   "metadata": {},
   "outputs": [
    {
     "name": "stdout",
     "output_type": "stream",
     "text": [
      "('CD44 antigen (CDw44) (Epican) (Extracellular matrix receptor III) (ECMR-III) (GP90 lymphocyte homing/adhesion receptor) (HUTCH-I) (Heparan sulfate proteoglycan) (Hermes antigen) (Hyaluronate receptor) (Phagocytic glycoprotein 1) (PGP-1) (Phagocytic glycoprotein I) (PGP-I) (CD antigen CD44)', 'MDKFWWHAAWGLCLVPLSLAQIDLNITCRFAGVFHVEKNGRYSISRTEAADLCKAFNSTLPTMAQMEKALSIGFETCRYGFIEGHVVIPRIHPNSICAANNTGVYILTSNTSQYDTYCFNASAPPEEDCTSVTDLPNAFDGPITITIVNRDGTRYVQKGEYRTNPEDIYPSNPTDDDVSSGSSSERSSTSGGYIFYTFSTVHPIPDEDSPWITDSTDRIPATTLMSTSATATETATKRQETWDWFSWLFLPSESKNHLHTTTQMAGTSSNTISAGWEPNEENEDERDRHLSFSGSGIDDDEDFISSTISTTPRAFDHTKQNQDWTQWNPSHSNPEVLLQTTTRMTDVDRNGTTAYEGNWNPEAHPPLIHHEHHEEEETPHSTSTIQATPSSTTEETATQKEQWFGNRWHEGYRQTPKEDSHSTTGTAAASAHTSHPMQGRTTPSPEDSSWTDFFNPISHPMGRGHQAGRRMDMDSSHSITLQPTANPNTGLVEDLDRTGPLSMTTQQSNSQSFSTSHEGLEEDKDHPTTSTLTSSNRNDVTGGRRDPNHSEGSTTLLEGYTSHYPHTKESRTFIPVTSAKTGSFGVTAVTVGDSNSNVNRSLSGDQDTFHPSGGSHTTHGSESDGHSHGSQEGGANTTSGPIRTPQIPEWLIILASLLALALILAVCIAVNSRRRCGQKKKLVINSGNGAVEDRKPSGLNGEASKSQEMVHLVNKESSETPDQFMTADETRNLQNVDMKIGV')\n"
     ]
    }
   ],
   "source": [
    "with s3.connect('practical.db') as conn:\n",
    "    cursor = conn.cursor()\n",
    "    cursor.execute('''SELECT name,sequence FROM annotation\n",
    "                      WHERE uniprotID = \"P16070\";''')\n",
    "    info = cursor.fetchone()\n",
    "print(info)"
   ]
  },
  {
   "cell_type": "markdown",
   "metadata": {},
   "source": [
    "__annotation__:\n",
    "\n",
    "- uniprotID\n",
    "- geneSymbol\n",
    "- pdb\n",
    "- name\n",
    "- sequence\n",
    "- go\n",
    "- reactome\n",
    "\n",
    "__interactome__:\n",
    "\n",
    "- proteinA\n",
    "- proteinB\n"
   ]
  },
  {
   "cell_type": "code",
   "execution_count": 66,
   "metadata": {},
   "outputs": [
    {
     "name": "stdout",
     "output_type": "stream",
     "text": [
      "[(0, 'uniprotID', 'varchar(10)', 0, None, 0), (1, 'geneSymbol', 'varchar(10)', 0, None, 0), (2, 'pdb', 'text', 0, None, 0), (3, 'name', 'text', 0, None, 0), (4, 'sequence', 'text', 0, None, 0), (5, 'go', 'text', 0, None, 0), (6, 'reactome', 'text', 0, None, 0)]\n"
     ]
    }
   ],
   "source": [
    "with s3.connect('practical.db') as conn:\n",
    "    cursor = conn.cursor()\n",
    "    cursor.execute('''PRAGMA table_info(annotation);''')\n",
    "    print(cursor.fetchall())\n",
    "    "
   ]
  },
  {
   "cell_type": "markdown",
   "metadata": {},
   "source": [
    "#### Packaging into a function"
   ]
  },
  {
   "cell_type": "code",
   "execution_count": 67,
   "metadata": {},
   "outputs": [],
   "source": [
    "# this is ok...\n",
    "def get_info_for_id(uniprotID):\n",
    "    with s3.connect('practical.db') as conn:\n",
    "        cursor = conn.cursor()\n",
    "        cursor.execute(f\"SELECT name,sequence FROM annotation WHERE uniprotID = '{uniprotID}';\")\n",
    "        info = cursor.fetchone()\n",
    "    return info"
   ]
  },
  {
   "cell_type": "code",
   "execution_count": 68,
   "metadata": {},
   "outputs": [],
   "source": [
    "# but this is better!\n",
    "def get_info_for_id(uniprotID):\n",
    "    with s3.connect('practical.db') as conn:\n",
    "        cursor = conn.cursor()\n",
    "        cursor.execute(\"SELECT name,sequence FROM annotation WHERE uniprotID = ?;\", (uniprotID,))\n",
    "        info = cursor.fetchone()\n",
    "    return info"
   ]
  },
  {
   "cell_type": "code",
   "execution_count": 69,
   "metadata": {},
   "outputs": [
    {
     "data": {
      "text/plain": [
       "('Pecanex-like protein 3 (Pecanex homolog protein 3)',\n",
       " 'MGSQVLQILRQGVWASLTGGWFFDPHQSTFSNCFHLYVWIFLLIFPFLLYMVLPPSLMVAGVYCLVVAVIFATIKTVNYRLHAMFDQGEIVEKRSSTMGELEEEPAQGDSNPPRDPGVEMTVFRKVSSTPPVRCSSQHSVFGFNQVSELLPRMEDSGPLRDIKELVREQGSNNVIVTSADREMLKLSSQEKLIGDLPQTPPGAVPDPSLASTDSSEPSPLAGDGAPWSGSSMADTPMSPLLKGSLSQELSKSFLTLTQPDRALVRTSSRREQRRGAGGYQPLDRRGSGEPTPQKAGSSDSCFSGTDRETLSSFKSEKTNSTHLDSPPGGPAPEGSDTDPPSEAELPASPDAGVPSDDTLRSFDTVIGAGTPPGLAEPLLVVRPKDLALLRPSKRQPPLRRHSPPGRAPRRPLLEGGGFFEDEDTSEGSELSPASSLRSQRRYSTDSSSSTSCYSPESSRGAAGGPRKRRAPHGAEEGTAVPPKRPYGTQRTPSTASAKTHARVLSMDGAGGDVLRPPLAGCKAELEAQVGVEQAASEPVVLPAEARRGPAANQPGWRGELQEEGAVGGAAEETGRRDRSSSVRRTQAIRRRHNAGSNPTPPASVMGSPPSSLQEAQRGRAASHSRALTLPSALHFASSLLLTRAGANVHEACTFDDTSEGAVHYFYDESGVRRSYTFGLAGGGYENPVGQQGEQTANGAWDRHSHSSSFHSADVPEATGGLNLLQPRPVVLQGMQVRRVPLEIPEEQTLMEEAPPRAQHSYKYWLLPGRWTSVRYERLALLALLDRTRGVLENIFGVGLSSLVAFLGYLLLLKGFFTDIWVFQFCLVIASCQYSLLKSVQPDAASPMHGHNWVIAYSRPVYFCICCLLIWLLDALGSAQPFPPVSLYGLTLFSASFFFCARDVATVFTLCFPFVFLLGLLPQVNTCLMYLLEQIDMHGFGGTAATSPLTAVFSLSRSLLAAALLYGFCLGAIKTPWPEQHVPVLFSVFCGLLVALSYHLSRQSSDPTVLWSLIRSKLFPELEERSLETARAEPPDPLPDKMRQSVREVLHSDLVMCVVIAVLTFAISASTVFIALKSVLGFVLYALAGAVGFFTHYLLPQLRKQLPWFCLSQPVLKPLEYSQYEVRGAAQVMWFEKLYAGLQCVEKYLIYPAVVLNALTVDAHTVVSHPDKYCFYCRALLMTVAGLKLLRSAFCCPPQQYLTLAFTVLLFHFDYPRLSQGFLLDYFLMSLLCSKLWDLLYKLRFVLTYIAPWQITWGSAFHAFAQPFAVPHSAMLFVQALLSGLFSTPLNPLLGSAVFIMSYARPLKFWERDYNTKRVDHSNTRLVTQLDRNPGADDNNLNSIFYEHLTRSLQHTLCGDLVLGRWGNYGPGDCFVLASDYLNALVHLIEVGNGLVTFQLRGLEFRGTYCQQREVEAITEGVEEDEGCCCCEPGHLPRVLSFNAAFGQRWLAWEVTASKYVLEGYSISDNNAASMLQVFDLRKILITYYVKSIIYYVSRSPKLEVWLSHEGITAALRPVRVPGYADSDPTFSLSVDEDYDLRLSGLSLPSFCAVHLEWIQYCASRRSQPVDQDWNSPLVTLCFGLCVLGRRALGTASHSMSASLEPFLYGLHALFKGDFRITSPRDEWVFADMDLLHRVVAPGVRMALKLHQDHFTSPDEYEEPAALYDAIAANEERLVISHEGDPAWRSAILSNTPSLLALRHVLDDASDEYKIIMLNRRHLSFRVIKVNRECVRGLWAGQQQELVFLRNRNPERGSIQNAKQALRNMINSSCDQPLGYPIYVSPLTTSLAGSHPQLRALWGGPISLGAIAHWLLRTWERLHKGCGAGCNSGGNVDDSDCSGGGGLTSLSNNPPVAHPTPENTAGNGDQPLPPGPGWGPRSSLSGSGDGRPPPLLQWPPPRLPGPPPASPIPTEGPRTSRPPGPGLLSSEGPSGKWSLGGRKGLGGSDGEPASGSPKGGTPKSQAPLDLSLSLSLSLSPDVSTEASPPRASQDIPCLDSSAPESGTPMGALGDWPAPIEERESPAAQPLLEHQY')"
      ]
     },
     "execution_count": 69,
     "metadata": {},
     "output_type": "execute_result"
    }
   ],
   "source": [
    "get_info_for_id('Q9H6A9')"
   ]
  },
  {
   "cell_type": "markdown",
   "metadata": {},
   "source": [
    "##### Exercise\n",
    "\n",
    "Given the list of UniProt IDs, `id_list`, and using the `annotation` table as above, write a loop to create a dictionary with these IDs as keys and GO term as the values.\n",
    "\n",
    "__Reminder:__\n",
    "\n",
    "- A dictionary is created with `{}` or the `dict()` function\n",
    "- To add an entry to a dictionary, use `dictname[key] = value`, where `key` and `value` are the variables/values that you want to store as the key and value respectively"
   ]
  },
  {
   "cell_type": "code",
   "execution_count": 70,
   "metadata": {},
   "outputs": [],
   "source": [
    "id_list = ['Q9NR21', 'Q9H339', 'Q969R5', \n",
    "           'Q9Y6T7', 'Q9UPI3', 'Q9NZL6', \n",
    "           'Q96RU2', 'Q9NQA3', 'Q9H9P8', \n",
    "           'Q9NY57', 'Q96HL8', 'Q9HCJ6', \n",
    "           'Q9Y6U3', 'Q9UJS0', 'Q9NX62'\n",
    "]"
   ]
  },
  {
   "cell_type": "code",
   "execution_count": 71,
   "metadata": {},
   "outputs": [],
   "source": [
    "go_terms = {} # initialise an empty dictionary\n",
    "with s3.connect('practical.db') as conn:\n",
    "    cursor = conn.cursor()\n",
    "    for uniprotID in id_list:\n",
    "        cursor.execute(\"SELECT go FROM annotation WHERE uniprotID = ?;\", (uniprotID,))\n",
    "        result = cursor.fetchone()\n",
    "        go = result[0] # annoyingly still have to extract the GO term string from the tuple returned by .fetchone() even if the tuple only has a single entry\n",
    "        go_terms[uniprotID] = go # add entry to the dictionary"
   ]
  },
  {
   "cell_type": "code",
   "execution_count": 72,
   "metadata": {},
   "outputs": [
    {
     "name": "stdout",
     "output_type": "stream",
     "text": [
      "Q9NR21: nuclear envelope [GO:0005635]; nuclear pore [GO:0005643]; NAD+ ADP-ribosyltransferase activity [GO:0003950]; cell differentiation [GO:0030154]; mRNA transport [GO:0051028]; nuclear envelope organization [GO:0006998]; protein transport [GO:0015031]; spermatogenesis [GO:0007283]\n",
      "Q9H339: integral component of membrane [GO:0016021]; plasma membrane [GO:0005886]; G protein-coupled receptor activity [GO:0004930]; olfactory receptor activity [GO:0004984]; sensory perception of smell [GO:0007608]\n",
      "Q969R5: nucleoplasm [GO:0005654]; nucleus [GO:0005634]; histone binding [GO:0042393]; methylated histone binding [GO:0035064]; zinc ion binding [GO:0008270]; chromatin organization [GO:0006325]; negative regulation of G0 to G1 transition [GO:0070317]; regulation of transcription, DNA-templated [GO:0006355]\n",
      "Q9Y6T7: cytoplasm [GO:0005737]; cytosol [GO:0005829]; glutamatergic synapse [GO:0098978]; plasma membrane [GO:0005886]; Schaffer collateral - CA1 synapse [GO:0098685]; ATP binding [GO:0005524]; calcium ion binding [GO:0005509]; diacylglycerol kinase activity [GO:0004143]; NAD+ kinase activity [GO:0003951]; diacylglycerol metabolic process [GO:0046339]; glycerolipid metabolic process [GO:0046486]; intracellular signal transduction [GO:0035556]; lipid phosphorylation [GO:0046834]; modulation of chemical synaptic transmission [GO:0050804]; platelet activation [GO:0030168]; protein kinase C-activating G protein-coupled receptor signaling pathway [GO:0007205]; regulation of postsynapse organization [GO:0099175]; response to bacterium [GO:0009617]\n",
      "Q9UPI3: integral component of membrane [GO:0016021]; plasma membrane [GO:0005886]; heme binding [GO:0020037]; heme transporter activity [GO:0015232]; heme export [GO:0097037]\n",
      "Q9NZL6: cytosol [GO:0005829]; Ral guanyl-nucleotide exchange factor activity [GO:0008321]; regulation of lipid metabolic process [GO:0019216]; small GTPase mediated signal transduction [GO:0007264]\n",
      "Q96RU2: cytosol [GO:0005829]; nuclear body [GO:0016604]; nucleoplasm [GO:0005654]; protein-containing complex [GO:0032991]; cysteine-type endopeptidase activity [GO:0004197]; thiol-dependent ubiquitin-specific protease activity [GO:0004843]; thiol-dependent ubiquitinyl hydrolase activity [GO:0036459]; cell proliferation [GO:0008283]; cellular response to DNA damage stimulus [GO:0006974]; cellular response to UV [GO:0034644]; DNA damage checkpoint [GO:0000077]; DNA repair [GO:0006281]; intrinsic apoptotic signaling pathway in response to DNA damage by p53 class mediator [GO:0042771]; protein deubiquitination [GO:0016579]; Ras protein signal transduction [GO:0007265]; regulation of protein stability [GO:0031647]; response to ionizing radiation [GO:0010212]; ubiquitin-dependent protein catabolic process [GO:0006511]\n",
      "Q9NQA3: cytosol [GO:0005829]; early endosome [GO:0005769]; early endosome membrane [GO:0031901]; recycling endosome [GO:0055037]; recycling endosome membrane [GO:0055038]; WASH complex [GO:0071203]; actin binding [GO:0003779]; alpha-tubulin binding [GO:0043014]; Arp2/3 complex-mediated actin nucleation [GO:0034314]; endosomal transport [GO:0016197]; retrograde transport, endosome to Golgi [GO:0042147]\n",
      "Q9H9P8: integral component of membrane [GO:0016021]; integral component of mitochondrial inner membrane [GO:0031305]; mitochondrial inner membrane [GO:0005743]; mitochondrion [GO:0005739]; (S)-2-hydroxy-acid oxidase activity [GO:0003973]; 2-hydroxyglutarate dehydrogenase activity [GO:0047545]; 2-oxoglutarate metabolic process [GO:0006103]; cellular protein metabolic process [GO:0044267]\n",
      "Q9NY57: ATP binding [GO:0005524]; metal ion binding [GO:0046872]; protein serine/threonine kinase activity [GO:0004674]; intracellular signal transduction [GO:0035556]; peptidyl-serine phosphorylation [GO:0018105]\n",
      "Q96HL8: ruffle membrane [GO:0032587]; phosphatase binding [GO:0019902]; phosphatidylinositol binding [GO:0035091]; phosphatidylinositol biosynthetic process [GO:0006661]; regulation of ruffle assembly [GO:1900027]\n",
      "Q9HCJ6: oxidoreductase activity [GO:0016491]; zinc ion binding [GO:0008270]\n",
      "Q9Y6U3: brush border [GO:0005903]; cell cortex [GO:0005938]; cell junction [GO:0030054]; cell projection [GO:0042995]; cytoplasm [GO:0005737]; extracellular exosome [GO:0070062]; plasma membrane [GO:0005886]; podosome [GO:0002102]; 1-phosphatidylinositol binding [GO:0005545]; actin binding [GO:0003779]; actin filament binding [GO:0051015]; calcium ion binding [GO:0005509]; phosphatidylinositol-4,5-bisphosphate binding [GO:0005546]; phosphatidylserine binding [GO:0001786]; actin filament capping [GO:0051693]; actin filament severing [GO:0051014]; actin nucleation [GO:0045010]; calcium ion regulated exocytosis [GO:0017156]; negative regulation of cell proliferation [GO:0008285]; positive regulation of actin nucleation [GO:0051127]; positive regulation of apoptotic process [GO:0043065]; positive regulation of megakaryocyte differentiation [GO:0045654]; positive regulation of secretion [GO:0051047]; regulation of chondrocyte differentiation [GO:0032330]; sequestering of actin monomers [GO:0042989]\n",
      "Q9UJS0: integral component of plasma membrane [GO:0005887]; mitochondrial inner membrane [GO:0005743]; mitochondrion [GO:0005739]; acidic amino acid transmembrane transporter activity [GO:0015172]; calcium ion binding [GO:0005509]; identical protein binding [GO:0042802]; L-aspartate transmembrane transporter activity [GO:0015183]; L-glutamate transmembrane transporter activity [GO:0005313]; transporter activity [GO:0005215]; aspartate transmembrane transport [GO:0015810]; ATP biosynthetic process [GO:0006754]; cellular respiration [GO:0045333]; gluconeogenesis [GO:0006094]; L-glutamate transmembrane transport [GO:0015813]; malate-aspartate shuttle [GO:0043490]; mitochondrial transport [GO:0006839]; response to calcium ion [GO:0051592]\n",
      "Q9NX62: cytosol [GO:0005829]; Golgi apparatus [GO:0005794]; Golgi lumen [GO:0005796]; integral component of membrane [GO:0016021]; membrane [GO:0016020]; nuclear body [GO:0016604]; nucleus [GO:0005634]; 3'(2'),5'-bisphosphate nucleotidase activity [GO:0008441]; 3'-nucleotidase activity [GO:0008254]; inositol monophosphate 1-phosphatase activity [GO:0008934]; inositol monophosphate 3-phosphatase activity [GO:0052832]; inositol monophosphate 4-phosphatase activity [GO:0052833]; metal ion binding [GO:0046872]; 3'-phosphoadenosine 5'-phosphosulfate metabolic process [GO:0050427]; chondrocyte development [GO:0002063]; chondroitin sulfate metabolic process [GO:0030204]; embryonic digit morphogenesis [GO:0042733]; endochondral ossification [GO:0001958]; inositol biosynthetic process [GO:0006021]; phosphatidylinositol phosphorylation [GO:0046854]; post-embryonic development [GO:0009791]; skeletal system development [GO:0001501]\n"
     ]
    }
   ],
   "source": [
    "for item in go_terms.items(): # check that it worked\n",
    "    print(f'{item[0]}: {item[1]}')"
   ]
  },
  {
   "cell_type": "markdown",
   "metadata": {},
   "source": [
    "##### Key points\n",
    "\n",
    "- `sqlite3` provides us with functionality for working with database files\n",
    "- use `sqlite3.connect()` to connect with a database\n",
    "- and a _cursor_ object to execute SQL commands from within Python\n",
    "- make sure to _commit_ your changes to save them to the database\n",
    "- use `cursor.fetchone()` and `cursor.fetchall()` to collect the results of a selection from a table\n",
    "- __always__ close the database connection when you're done\n"
   ]
  },
  {
   "cell_type": "markdown",
   "metadata": {},
   "source": [
    "#### Q&A"
   ]
  },
  {
   "cell_type": "markdown",
   "metadata": {},
   "source": [
    "##### Can you explain tuples again?"
   ]
  },
  {
   "cell_type": "markdown",
   "metadata": {},
   "source": [
    "A tuple is similar to a list, in that it can have multiple entries, which exist in a particular order."
   ]
  },
  {
   "cell_type": "code",
   "execution_count": 73,
   "metadata": {},
   "outputs": [],
   "source": [
    "mylist = ['a', 'b', 'c']\n",
    "mytuple = ('a', 'b', 'c')"
   ]
  },
  {
   "cell_type": "code",
   "execution_count": 74,
   "metadata": {},
   "outputs": [
    {
     "name": "stdout",
     "output_type": "stream",
     "text": [
      "a\n",
      "b\n",
      "c\n"
     ]
    }
   ],
   "source": [
    "for l in mytuple:\n",
    "    print(l)"
   ]
  },
  {
   "cell_type": "markdown",
   "metadata": {},
   "source": [
    "However, a tuple cannot be changed \"in place\" i.e. you can't append to a tuple, sort it, delete items inside it, etc. (You can do all of these things with a list.) In technical jargon, this is refered to as _mutability_: tuples are _immutable_ and lists are _mutable_."
   ]
  },
  {
   "cell_type": "code",
   "execution_count": 75,
   "metadata": {},
   "outputs": [
    {
     "ename": "AttributeError",
     "evalue": "'tuple' object has no attribute 'append'",
     "output_type": "error",
     "traceback": [
      "\u001b[0;31m---------------------------------------------------------------------------\u001b[0m",
      "\u001b[0;31mAttributeError\u001b[0m                            Traceback (most recent call last)",
      "\u001b[0;32m<ipython-input-75-fcd8f2ff16cc>\u001b[0m in \u001b[0;36m<module>\u001b[0;34m()\u001b[0m\n\u001b[1;32m      1\u001b[0m \u001b[0mmylist\u001b[0m\u001b[0;34m.\u001b[0m\u001b[0mappend\u001b[0m\u001b[0;34m(\u001b[0m\u001b[0;34m'd'\u001b[0m\u001b[0;34m)\u001b[0m\u001b[0;34m\u001b[0m\u001b[0m\n\u001b[0;32m----> 2\u001b[0;31m \u001b[0mmytuple\u001b[0m\u001b[0;34m.\u001b[0m\u001b[0mappend\u001b[0m\u001b[0;34m(\u001b[0m\u001b[0;34m'd'\u001b[0m\u001b[0;34m)\u001b[0m\u001b[0;34m\u001b[0m\u001b[0m\n\u001b[0m",
      "\u001b[0;31mAttributeError\u001b[0m: 'tuple' object has no attribute 'append'"
     ]
    }
   ],
   "source": [
    "mylist.append('d')\n",
    "mytuple.append('d')"
   ]
  },
  {
   "cell_type": "markdown",
   "metadata": {},
   "source": [
    "If you want to change the value of a tuple, you __must__ explicitly overwrite the whole value of the tuple, i.e. :"
   ]
  },
  {
   "cell_type": "code",
   "execution_count": 76,
   "metadata": {},
   "outputs": [],
   "source": [
    "mytuple = ('a', 'b', 'c', 'd')"
   ]
  },
  {
   "cell_type": "markdown",
   "metadata": {},
   "source": [
    "##### Can I use `set()` to remove duplicates from a dictionary?"
   ]
  },
  {
   "cell_type": "markdown",
   "metadata": {},
   "source": [
    "No, because dictionaries cannot contain duplicates anyway.\n",
    "\n",
    "A quick `set()` reminder:"
   ]
  },
  {
   "cell_type": "code",
   "execution_count": 77,
   "metadata": {},
   "outputs": [],
   "source": [
    "mylist.append('d')\n",
    "mylist.append('d')\n",
    "mylist.append('d')\n",
    "mylist.append('d')"
   ]
  },
  {
   "cell_type": "code",
   "execution_count": 78,
   "metadata": {},
   "outputs": [
    {
     "name": "stdout",
     "output_type": "stream",
     "text": [
      "['a', 'b', 'c', 'd', 'd', 'd', 'd', 'd']\n"
     ]
    }
   ],
   "source": [
    "print(mylist)"
   ]
  },
  {
   "cell_type": "code",
   "execution_count": 79,
   "metadata": {},
   "outputs": [
    {
     "data": {
      "text/plain": [
       "{'a', 'b', 'c', 'd'}"
      ]
     },
     "execution_count": 79,
     "metadata": {},
     "output_type": "execute_result"
    }
   ],
   "source": [
    "set(mylist) # note that order has changed!"
   ]
  },
  {
   "cell_type": "code",
   "execution_count": 80,
   "metadata": {},
   "outputs": [],
   "source": [
    "mylist = list(set(mylist)) # convert back to a list again, if you want to"
   ]
  },
  {
   "cell_type": "markdown",
   "metadata": {},
   "source": [
    "But dictionaries __must have unique keys__ so duplicates are not possible. Consider the example below: "
   ]
  },
  {
   "cell_type": "code",
   "execution_count": 81,
   "metadata": {},
   "outputs": [
    {
     "data": {
      "text/plain": [
       "'26-Nov'"
      ]
     },
     "execution_count": 81,
     "metadata": {},
     "output_type": "execute_result"
    }
   ],
   "source": [
    "mydictionary = {'Marc': '26-Nov',\n",
    "                'Toby': '17-Mar',\n",
    "                'Malvika': '06-Apr'}\n",
    "mydictionary['Marc']"
   ]
  },
  {
   "cell_type": "code",
   "execution_count": 82,
   "metadata": {},
   "outputs": [
    {
     "name": "stdout",
     "output_type": "stream",
     "text": [
      "{'Marc': '26-Nov', 'Toby': '17-Mar', 'Malvika': '06-Apr', 'Rachel': '05-Oct'}\n"
     ]
    }
   ],
   "source": [
    "mydictionary['Rachel'] = '05-Oct'\n",
    "print(mydictionary)"
   ]
  },
  {
   "cell_type": "code",
   "execution_count": 83,
   "metadata": {},
   "outputs": [
    {
     "name": "stdout",
     "output_type": "stream",
     "text": [
      "{'Marc': '27-Dec', 'Toby': '17-Mar', 'Malvika': '06-Apr', 'Rachel': '05-Oct'}\n"
     ]
    }
   ],
   "source": [
    "mydictionary['Marc'] = '27-Dec'\n",
    "print(mydictionary) \n",
    "# note that we don't now have six entries (two with the key 'Marc'). \n",
    "# Instead, the value associated with 'Marc' has been overwritten"
   ]
  },
  {
   "cell_type": "markdown",
   "metadata": {},
   "source": [
    "#### Combining remote & local databases (AKA: API SQL LOL WTF)"
   ]
  },
  {
   "cell_type": "code",
   "execution_count": null,
   "metadata": {},
   "outputs": [],
   "source": [
    "# we might get to this later..."
   ]
  },
  {
   "cell_type": "code",
   "execution_count": null,
   "metadata": {},
   "outputs": [],
   "source": []
  },
  {
   "cell_type": "code",
   "execution_count": null,
   "metadata": {},
   "outputs": [],
   "source": []
  },
  {
   "cell_type": "code",
   "execution_count": null,
   "metadata": {},
   "outputs": [],
   "source": []
  },
  {
   "cell_type": "code",
   "execution_count": null,
   "metadata": {},
   "outputs": [],
   "source": []
  },
  {
   "cell_type": "markdown",
   "metadata": {},
   "source": [
    "##### Further reading\n",
    "\n",
    "- the [official documentation for `sqlite3`](https://docs.python.org/3.7/library/sqlite3.html) is very helpful but also very long!\n",
    "- I recommend [this post](https://www.pythoncentral.io/introduction-to-sqlite-in-python/) to learn more about using the `sqlite3` module in Python.\n",
    "- the SQLite tutorial yesterday mentioned _regular expressions_ (regex) as a sophisticated tool for matching patterns in text. There's no need to know more about regex for this course but, if you would like to learn more about how to use this powerful approach, the EMBL Bio-IT Project [has introductory online course material](https://tobyhodges.gitbooks.io/introduction-to-regular-expressions/)."
   ]
  }
 ],
 "metadata": {
  "kernelspec": {
   "display_name": "Python 3",
   "language": "python",
   "name": "python3"
  },
  "language_info": {
   "codemirror_mode": {
    "name": "ipython",
    "version": 3
   },
   "file_extension": ".py",
   "mimetype": "text/x-python",
   "name": "python",
   "nbconvert_exporter": "python",
   "pygments_lexer": "ipython3",
   "version": "3.6.6"
  }
 },
 "nbformat": 4,
 "nbformat_minor": 2
}
