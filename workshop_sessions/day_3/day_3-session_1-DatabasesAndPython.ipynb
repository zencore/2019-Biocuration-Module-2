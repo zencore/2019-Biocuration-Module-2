{
 "cells": [
  {
   "cell_type": "markdown",
   "metadata": {},
   "source": [
    "# Computational Skills for Biocuration\n",
    "\n",
    "## Programming Skills with Python"
   ]
  },
  {
   "cell_type": "markdown",
   "metadata": {},
   "source": [
    "### Databases and Python"
   ]
  },
  {
   "cell_type": "markdown",
   "metadata": {},
   "source": [
    "We've learned a lot over the past few days. On days 1 & 2, we introduced some of the fundamental concepts in programming with Python, such as\n",
    "\n",
    "- variables\n",
    "- strings\n",
    "- lists\n",
    "- dictionaries\n",
    "- defining our own functions\n",
    "- conditionals (`if`, `elif`, `else`, etc)\n",
    "\n",
    "before moving on to look at how we can use Python to download and work with data from online databases/resources.\n",
    "\n",
    "Yesterday, we were introduced to the fundamental considerations associated with designing our own local database(s) and some SQL commands to read and write information from/to these."
   ]
  },
  {
   "cell_type": "markdown",
   "metadata": {},
   "source": [
    "Today, we're going to wrap things up by __combining Python and SQLite__ to show you how you can programmatically create, extend, edit, search, and extract information from local database files.\n",
    "\n",
    "We will also try to conclude the training by showing you how to combine the elements of Python programming that we've been discussing, into a single, reusable, _script_."
   ]
  },
  {
   "cell_type": "markdown",
   "metadata": {},
   "source": [
    "#### Introducing the `sqlite` module"
   ]
  },
  {
   "cell_type": "markdown",
   "metadata": {},
   "source": [
    "Just like we needed to import `requests` to interact with online databases, and `json` to work with data in JSON format, we need to use the `sqlite3` module to work with the kind of SQLite databases that you were introduced to yesterday."
   ]
  },
  {
   "cell_type": "code",
   "execution_count": null,
   "metadata": {},
   "outputs": [],
   "source": []
  },
  {
   "cell_type": "code",
   "execution_count": null,
   "metadata": {},
   "outputs": [],
   "source": []
  },
  {
   "cell_type": "code",
   "execution_count": null,
   "metadata": {},
   "outputs": [],
   "source": []
  },
  {
   "cell_type": "code",
   "execution_count": null,
   "metadata": {},
   "outputs": [],
   "source": []
  },
  {
   "cell_type": "code",
   "execution_count": null,
   "metadata": {},
   "outputs": [],
   "source": []
  },
  {
   "cell_type": "code",
   "execution_count": null,
   "metadata": {},
   "outputs": [],
   "source": []
  },
  {
   "cell_type": "code",
   "execution_count": null,
   "metadata": {},
   "outputs": [],
   "source": []
  },
  {
   "cell_type": "code",
   "execution_count": null,
   "metadata": {},
   "outputs": [],
   "source": []
  },
  {
   "cell_type": "code",
   "execution_count": null,
   "metadata": {},
   "outputs": [],
   "source": []
  },
  {
   "cell_type": "code",
   "execution_count": null,
   "metadata": {},
   "outputs": [],
   "source": []
  },
  {
   "cell_type": "markdown",
   "metadata": {},
   "source": [
    "##### Exercise\n",
    "\n",
    "Given the list of UniProt IDs, `id_list`, and using the `annotation` table as above, write a loop to create a dictionary with these IDs as keys and GO term as the values.\n",
    "\n",
    "__Reminder:__\n",
    "\n",
    "- A dictionary is created with `{}` or the `dict()` function\n",
    "- To add an entry to a dictionary, use `dictname[key] = value`, where `key` and `value` are the variables/values that you want to store as the key and value respectively"
   ]
  },
  {
   "cell_type": "code",
   "execution_count": null,
   "metadata": {},
   "outputs": [],
   "source": [
    "id_list = ['Q9NR21', 'Q9H339', 'Q969R5', \n",
    "           'Q9Y6T7', 'Q9UPI3', 'Q9NZL6', \n",
    "           'Q96RU2', 'Q9NQA3', 'Q9H9P8', \n",
    "           'Q9NY57', 'Q96HL8', 'Q9HCJ6', \n",
    "           'Q9Y6U3', 'Q9UJS0', 'Q9NX62'\n",
    "]"
   ]
  },
  {
   "cell_type": "markdown",
   "metadata": {},
   "source": [
    "#### Packaging into a function"
   ]
  },
  {
   "cell_type": "code",
   "execution_count": null,
   "metadata": {},
   "outputs": [],
   "source": []
  },
  {
   "cell_type": "code",
   "execution_count": null,
   "metadata": {},
   "outputs": [],
   "source": []
  },
  {
   "cell_type": "code",
   "execution_count": null,
   "metadata": {},
   "outputs": [],
   "source": []
  },
  {
   "cell_type": "markdown",
   "metadata": {},
   "source": [
    "##### Key points\n",
    "\n",
    "- `sqlite3` provides us with functionality for working with database files\n",
    "- use `sqlite3.connect()` to connect with a database\n",
    "- and a _cursor_ object to execute SQL commands from within Python\n",
    "- make sure to _commit_ your changes to save them to the database\n",
    "- use `cursor.fetchone()` and `cursor.fetchall()` to collect the results of a selection from a table\n",
    "- __always__ close the database connection when you're done\n"
   ]
  },
  {
   "cell_type": "markdown",
   "metadata": {},
   "source": [
    "#### Combining remote & local databases (AKA: API SQL LOL WTF)"
   ]
  },
  {
   "cell_type": "code",
   "execution_count": null,
   "metadata": {},
   "outputs": [],
   "source": []
  },
  {
   "cell_type": "code",
   "execution_count": null,
   "metadata": {},
   "outputs": [],
   "source": []
  },
  {
   "cell_type": "code",
   "execution_count": null,
   "metadata": {},
   "outputs": [],
   "source": []
  },
  {
   "cell_type": "code",
   "execution_count": null,
   "metadata": {},
   "outputs": [],
   "source": []
  },
  {
   "cell_type": "code",
   "execution_count": null,
   "metadata": {},
   "outputs": [],
   "source": []
  },
  {
   "cell_type": "markdown",
   "metadata": {},
   "source": [
    "##### Further reading\n",
    "\n",
    "- the [official documentation for `sqlite3`](https://docs.python.org/3.7/library/sqlite3.html) is very helpful but also very long!\n",
    "- I recommend [this post](https://www.pythoncentral.io/introduction-to-sqlite-in-python/) to learn more about using the `sqlite3` module in Python.\n",
    "- the SQLite tutorial yesterday mentioned _regular expressions_ (regex) as a sophisticated tool for matching patterns in text. There's no need to know more about regex for this course but, if you would like to learn more about how to use this powerful approach, the EMBL Bio-IT Project [has introductory online course material](https://tobyhodges.gitbooks.io/introduction-to-regular-expressions/)."
   ]
  }
 ],
 "metadata": {
  "kernelspec": {
   "display_name": "Python 3",
   "language": "python",
   "name": "python3"
  },
  "language_info": {
   "codemirror_mode": {
    "name": "ipython",
    "version": 3
   },
   "file_extension": ".py",
   "mimetype": "text/x-python",
   "name": "python",
   "nbconvert_exporter": "python",
   "pygments_lexer": "ipython3",
   "version": "3.6.6"
  }
 },
 "nbformat": 4,
 "nbformat_minor": 2
}
