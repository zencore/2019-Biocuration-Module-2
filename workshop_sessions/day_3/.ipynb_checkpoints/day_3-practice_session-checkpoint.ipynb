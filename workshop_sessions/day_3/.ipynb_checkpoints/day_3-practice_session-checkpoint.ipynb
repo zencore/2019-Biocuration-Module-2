{
 "cells": [
  {
   "cell_type": "markdown",
   "metadata": {},
   "source": [
    "# Computational Skills for Biocuration\n",
    "\n",
    "## Programming Skills with Python\n",
    "\n",
    "### Practical Exercises\n",
    "\n",
    "- Uniprot example file using Search term: [\"gene:tp53 AND reviewed:yes\"](https://www.uniprot.org/uniprot/?query=gene%3ATP53+AND+reviewed%3Ayes&sort=score)"
   ]
  },
  {
   "cell_type": "markdown",
   "metadata": {},
   "source": [
    "In this sesssion we will build a pipeline that can let you do a series of task starting from getting data from internet and storing curated data.\n",
    "\n",
    "...and we will start scripting on an editor called Spyder (you will find it in Anaconda Navigator)."
   ]
  },
  {
   "cell_type": "markdown",
   "metadata": {},
   "source": [
    "#### Step 1: Locate data: Where is your data? \n",
    "\n",
    "*Hint: Look-up Rest API links*\n",
    "\n",
    "- Here you will download the example file from UniProt\n",
    "\n",
    "- Create download link \"https://www.uniprot.org/uniprot?query=gene:TP53%20AND%20reviewed:yes&format=tab\" as such that you can use your code to update the link for any gene name (which TP53 here)"
   ]
  },
  {
   "cell_type": "code",
   "execution_count": null,
   "metadata": {
    "collapsed": false
   },
   "outputs": [],
   "source": []
  },
  {
   "cell_type": "markdown",
   "metadata": {},
   "source": [
    "#### Step 2: How can you find data for a different query?\n",
    "\n",
    "*Hint: Think about reusing your codes by creating variables for your queries*\n",
    "\n",
    "- Edit your code so that you can allow yourself to download other file formats like '.fasta' (which is '.tab' here)"
   ]
  },
  {
   "cell_type": "code",
   "execution_count": null,
   "metadata": {
    "collapsed": false
   },
   "outputs": [],
   "source": []
  },
  {
   "cell_type": "markdown",
   "metadata": {},
   "source": [
    "#### Step 3: Can you bring more flexibility to your query?\n",
    "\n",
    "*Hint: are there more parameters that you can allow your users to change?*\n",
    "\n",
    "- Which other parameters in your link can be replaced by variables that can be supplied by your users?"
   ]
  },
  {
   "cell_type": "code",
   "execution_count": null,
   "metadata": {
    "collapsed": false
   },
   "outputs": [],
   "source": []
  },
  {
   "cell_type": "markdown",
   "metadata": {},
   "source": [
    "#### Step 4: Get data\n",
    "\n",
    "- import requests and use it to get the UniProt file corresponding the link;"
   ]
  },
  {
   "cell_type": "code",
   "execution_count": null,
   "metadata": {
    "collapsed": true
   },
   "outputs": [],
   "source": []
  },
  {
   "cell_type": "markdown",
   "metadata": {},
   "source": [
    "#### Step 5: Make sure that everything is OK with your request\n",
    "\n",
    "*Hint: remember `result.status_code`?*\n",
    "\n",
    "- Using if-else conditional, check whether the query was successful (Tip: `if result.ok:`) at all and, if not,check which HTTP status code the server returned.\n",
    "- If the query was successful, save the data to a variable (Tip: `result.text`)"
   ]
  },
  {
   "cell_type": "code",
   "execution_count": null,
   "metadata": {
    "collapsed": false
   },
   "outputs": [],
   "source": []
  },
  {
   "cell_type": "markdown",
   "metadata": {},
   "source": [
    "#### Step 6: Save you data\n",
    "\n",
    "- Save the downloaded file to a local file (Tip: `with open(filename, 'w') as out_fh:`)"
   ]
  },
  {
   "cell_type": "code",
   "execution_count": null,
   "metadata": {
    "collapsed": true
   },
   "outputs": [],
   "source": []
  },
  {
   "cell_type": "markdown",
   "metadata": {},
   "source": [
    "- Congrats! you made a pipeline (create query link, query UniProt database, save return data to a file)\n",
    "- Please put the scripts to these tasks together, so that you can do the same analysis in one single code-box of this Jupyter Notebook."
   ]
  },
  {
   "cell_type": "markdown",
   "metadata": {},
   "source": [
    "### Make a working pipeline by putting pieces together\n",
    "\n",
    "- I have provided a pseudocode for this task in the code-box below:\n",
    "    - import requests\n",
    "    - create a variable for gene id, uniprot basic link, any other parameters\n",
    "    - combine the links to one\n",
    "    - query UniProt database\n",
    "    - check response, if it's ok then save the output to a file 'uniprot_tp53.tab'"
   ]
  },
  {
   "cell_type": "code",
   "execution_count": null,
   "metadata": {
    "collapsed": true
   },
   "outputs": [],
   "source": []
  },
  {
   "cell_type": "markdown",
   "metadata": {},
   "source": [
    "### Pipelines are awesome. Functions make your pipeline even better!\n",
    "\n",
    "- Put this piece of code in a function that takes an gene name and output file names.\n",
    "- If you want, you can increase the number of arguments your function takes to allow your users to provide more information such as format and reviewed or not."
   ]
  },
  {
   "cell_type": "code",
   "execution_count": null,
   "metadata": {
    "collapsed": true
   },
   "outputs": [],
   "source": []
  },
  {
   "cell_type": "markdown",
   "metadata": {},
   "source": [
    "### Expand your pipeline with more functions"
   ]
  },
  {
   "cell_type": "markdown",
   "metadata": {},
   "source": [
    "#### Write functions that reads the downloaded file and curate data for you\n",
    "\n",
    "- Write a function that reads the file and extracts entry name (column 2), gene_name (column 4) and organism (column 6)\n",
    "- Expand your function to write this information to a file, choose tab ('\\t') as separater of your column"
   ]
  },
  {
   "cell_type": "code",
   "execution_count": null,
   "metadata": {
    "collapsed": true
   },
   "outputs": [],
   "source": []
  },
  {
   "cell_type": "markdown",
   "metadata": {},
   "source": [
    "#### Create local query database\n",
    "\n",
    "*Hint: import sqllite3*"
   ]
  },
  {
   "cell_type": "markdown",
   "metadata": {},
   "source": [
    "#### Query local database"
   ]
  },
  {
   "cell_type": "code",
   "execution_count": null,
   "metadata": {
    "collapsed": true
   },
   "outputs": [],
   "source": []
  }
 ],
 "metadata": {
  "kernelspec": {
   "display_name": "Python 3",
   "language": "python",
   "name": "python3"
  },
  "language_info": {
   "codemirror_mode": {
    "name": "ipython",
    "version": 3
   },
   "file_extension": ".py",
   "mimetype": "text/x-python",
   "name": "python",
   "nbconvert_exporter": "python",
   "pygments_lexer": "ipython3",
   "version": "3.6.0"
  }
 },
 "nbformat": 4,
 "nbformat_minor": 2
}
