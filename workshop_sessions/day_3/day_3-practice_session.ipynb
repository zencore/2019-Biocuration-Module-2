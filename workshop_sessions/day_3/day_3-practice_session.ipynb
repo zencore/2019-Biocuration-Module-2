{
 "cells": [
  {
   "cell_type": "markdown",
   "metadata": {},
   "source": [
    "# Computational Skills for Biocuration\n",
    "\n",
    "## Programming Skills with Python\n",
    "\n",
    "### Practical Exercises\n",
    "\n",
    "- Uniprot example file using Search term: [\"gene:tp53 AND reviewed:yes\"](https://www.uniprot.org/uniprot/?query=gene%3ATP53+AND+reviewed%3Ayes&sort=score)"
   ]
  },
  {
   "cell_type": "markdown",
   "metadata": {},
   "source": [
    "In this sesssion we will build a pipeline that can let you do a series of task starting from getting data from internet and storing curated data."
   ]
  },
  {
   "cell_type": "markdown",
   "metadata": {},
   "source": [
    "#### Step 1: Locate data: Where is your data? \n",
    "\n",
    "*Hint: Look-up Rest API links*\n",
    "\n",
    "- Here you will download the example file from UniProt\n",
    "\n",
    "- Create download link \"https://www.uniprot.org/uniprot?query=gene:TP53%20AND%20reviewed:yes&format=tab\" as such that you can use your code to update the link for any gene name (which TP53 here)"
   ]
  },
  {
   "cell_type": "code",
   "execution_count": 20,
   "metadata": {
    "collapsed": false
   },
   "outputs": [
    {
     "name": "stdout",
     "output_type": "stream",
     "text": [
      "https://www.uniprot.org/uniprot?query=gene:{genename}%20AND%20reviewed:yes&format=tab\n"
     ]
    }
   ],
   "source": [
    "genename = 'TP53'\n",
    "uniprot_url = \"https://www.uniprot.org/uniprot?query=gene:{genename}%20AND%20reviewed:yes&format=tab\"\n",
    "\n",
    "print(uniprot_url)"
   ]
  },
  {
   "cell_type": "markdown",
   "metadata": {},
   "source": [
    "#### Step 2: How can you find data for a different query?\n",
    "\n",
    "*Hint: Think about reusing your codes by creating variables for your queries*\n",
    "\n",
    "- Edit your code so that you can allow yourself to download other file formats like '.fasta' (which is '.tab' here)"
   ]
  },
  {
   "cell_type": "code",
   "execution_count": 4,
   "metadata": {
    "collapsed": false
   },
   "outputs": [
    {
     "name": "stdout",
     "output_type": "stream",
     "text": [
      "https://www.uniprot.org/uniprot?query=gene:{genename}%20AND%20reviewed:yes&format={fileformat}\n"
     ]
    }
   ],
   "source": [
    "genename = 'TP53'\n",
    "fileformat = 'tab'\n",
    "uniprot_url = \"https://www.uniprot.org/uniprot?query=gene:{genename}%20AND%20reviewed:yes&format={fileformat}\"\n",
    "\n",
    "print(uniprot_url)"
   ]
  },
  {
   "cell_type": "markdown",
   "metadata": {},
   "source": [
    "#### Step 3: Can you bring more flexibility to your query?\n",
    "\n",
    "*Hint: are there more parameters that you can allow your users to change?*\n",
    "\n",
    "- Which other parameters in your link can be replaced by variables that can be supplied by your users?"
   ]
  },
  {
   "cell_type": "code",
   "execution_count": 21,
   "metadata": {
    "collapsed": false
   },
   "outputs": [
    {
     "name": "stdout",
     "output_type": "stream",
     "text": [
      "https://www.uniprot.org/uniprot?query=gene:{genename}%20AND%20reviewed:{reviewed}&format={fileformat}\n"
     ]
    }
   ],
   "source": [
    "genename = 'TP53'\n",
    "fileformat = 'tab'\n",
    "reviewed = 'yes'\n",
    "uniprot_url = \"https://www.uniprot.org/uniprot?query=gene:{genename}%20AND%20reviewed:{reviewed}&format={fileformat}\"\n",
    "\n",
    "print(uniprot_url)"
   ]
  },
  {
   "cell_type": "markdown",
   "metadata": {},
   "source": [
    "#### Step 4: Get data\n",
    "\n",
    "- import requests and use it to get the UniProt file corresponding the link;"
   ]
  },
  {
   "cell_type": "code",
   "execution_count": 13,
   "metadata": {
    "collapsed": true
   },
   "outputs": [],
   "source": [
    "import requests\n",
    "\n",
    "result = requests.get(uniprot_url)"
   ]
  },
  {
   "cell_type": "markdown",
   "metadata": {},
   "source": [
    "#### Step 5: Make sure that everything is OK with your request\n",
    "\n",
    "*Hint: remember `result.status_code`?*\n",
    "\n",
    "- Using if-else conditional, check whether the query was successful (Tip: `if result.ok:`) at all and, if not,check which HTTP status code the server returned.\n",
    "- If the query was successful, save the data to a variable (Tip: `result.text`)"
   ]
  },
  {
   "cell_type": "code",
   "execution_count": 16,
   "metadata": {
    "collapsed": false
   },
   "outputs": [
    {
     "name": "stdout",
     "output_type": "stream",
     "text": [
      "Entry\tEntry name\tStatus\tProtein names\tGene names\tOrganism\tLength\n",
      "O09185\tP53_CRIGR\treviewed\tCellular tumor antigen p53 (Tumor suppressor p53)\tTP53 P53\tCricetulus griseus (Chinese hamster) (Cricetulus barabensis griseus)\t393\n",
      "P79734\tP53_DANRE\treviewed\tCellular tumor antigen p53 (Tumor suppressor p53)\ttp53 drp53\tDanio rerio (Zebrafish) (Brachydanio rerio)\t373\n",
      "Q29480\tP53_EQUAS\treviewed\tCellular tumor antigen p53 (Tumor suppressor p53) (Fragment)\tTP53\tEquus asinus (Donkey) (Equus africanus asinus)\t207\n",
      "P41685\tP53_FELCA\treviewed\tCellular tumor antigen p53 (Tumor suppressor p53)\tTP53 TRP53\tFelis catus (Cat) (Felis silvestris catus)\t386\n",
      "P04637\tP53_HUMAN\treviewed\tCellular tumor antigen p53 (Antigen NY-CO-13) (Phosphoprotein p53) (Tumor suppressor p53)\tTP53 P53\tHomo sapiens (Human)\t393\n",
      "Q9W678\tP53_BARBU\treviewed\tCellular tumor antigen p53 (Tumor suppressor p53)\ttp53 p53\tBarbus barbus (Barbel) (Cyprinus barbus)\t369\n",
      "P67938\tP53_BOSIN\treviewed\tCellular tumor antigen p53 (Tumor suppressor p53)\tTP53\tBos indicus (Zebu)\t386\n",
      "Q29537\tP53_CANLF\treviewed\tCellular tumor antigen p53 (Tumor suppressor p53)\tTP53 P53\tCanis lupus familiaris (Dog) (Canis familiaris)\t381\n",
      "Q9WUR6\tP53_CAVPO\treviewed\tCellular tumor antigen p53 (Tumor suppressor p53)\tTP53\tCavia porcellus (Guinea pig)\t391\n",
      "O12946\tP53_PLAFE\treviewed\tCellular tumor antigen p53 (Tumor suppressor p53)\ttp53 p53\tPlatichthys flesus (European flounder) (Pleuronectes flesus)\t366\n",
      "O14683\tP5I11_HUMAN\treviewed\tTumor protein p53-inducible protein 11 (p53-induced gene 11 protein)\tTP53I11 PIG11\tHomo sapiens (Human)\t189\n",
      "Q64662\tP53_SPEBE\treviewed\tCellular tumor antigen p53 (Tumor suppressor p53) (Fragment)\tTP53\tSpermophilus beecheyi (California ground squirrel) (Otospermophilus beecheyi)\t314\n",
      "Q9W679\tP53_TETMU\treviewed\tCellular tumor antigen p53 (Tumor suppressor p53)\ttp53 p53\tTetraodon miurus (Congo puffer)\t367\n",
      "P79892\tP53_HORSE\treviewed\tCellular tumor antigen p53 (Tumor suppressor p53) (Fragment)\tTP53 P53\tEquus caballus (Horse)\t280\n",
      "P61260\tP53_MACFU\treviewed\tCellular tumor antigen p53 (Tumor suppressor p53)\tTP53 P53\tMacaca fuscata fuscata (Japanese macaque)\t393\n",
      "P02340\tP53_MOUSE\treviewed\tCellular tumor antigen p53 (Tumor suppressor p53)\tTp53 P53 Trp53\tMus musculus (Mouse)\t390\n",
      "P25035\tP53_ONCMY\treviewed\tCellular tumor antigen p53 (Tumor suppressor p53)\ttp53 p53\tOncorhynchus mykiss (Rainbow trout) (Salmo gairdneri)\t396\n",
      "Q9TUB2\tP53_PIG\treviewed\tCellular tumor antigen p53 (Tumor suppressor p53)\tTP53 P53\tSus scrofa (Pig)\t386\n",
      "Q95330\tP53_RABIT\treviewed\tCellular tumor antigen p53 (Tumor suppressor p53)\tTP53\tOryctolagus cuniculus (Rabbit)\t391\n",
      "Q8NBR0\tP5I13_HUMAN\treviewed\tTumor protein p53-inducible protein 13 (Damage-stimulated cytoplasmic protein 1)\tTP53I13 DSCP1\tHomo sapiens (Human)\t393\n",
      "Q5F267\tP5I13_MOUSE\treviewed\tTumor protein p53-inducible protein 13\tTp53i13 Trp53i13\tMus musculus (Mouse)\t385\n",
      "B0BN44\tP5I13_RAT\treviewed\tTumor protein p53-inducible protein 13\tTp53i13 Trp53i13\tRattus norvegicus (Rat)\t388\n",
      "Q92143\tP53_XIPMA\treviewed\tCellular tumor antigen p53 (Tumor suppressor p53)\ttp53 p53\tXiphophorus maculatus (Southern platyfish) (Platypoecilus maculatus)\t342\n",
      "Q96S44\tPRPK_HUMAN\treviewed\tEKC/KEOPS complex subunit TP53RK (EC 3.6.-.-) (Atypical serine/threonine protein kinase TP53RK) (Nori-2) (TP53-regulating kinase) (EC 2.7.11.1) (p53-related protein kinase)\tTP53RK C20orf64 PRPK\tHomo sapiens (Human)\t253\n",
      "Q99PW4\tPRPK_MOUSE\treviewed\tEKC/KEOPS complex subunit Tp53rk (EC 3.6.-.-) (Atypical serine/threonine protein kinase Tp53rk) (Nori-2) (TP53-regulating kinase) (EC 2.7.11.1) (p53-related protein kinase)\tTp53rk Prpk Trp53rk\tMus musculus (Mouse)\t244\n",
      "O93379\tP53_ICTPU\treviewed\tCellular tumor antigen p53 (Tumor suppressor p53)\ttp53 p53\tIctalurus punctatus (Channel catfish) (Silurus punctatus)\t376\n",
      "P56424\tP53_MACMU\treviewed\tCellular tumor antigen p53 (Tumor suppressor p53)\tTP53 P53\tMacaca mulatta (Rhesus macaque)\t393\n",
      "O36006\tP53_MARMO\treviewed\tCellular tumor antigen p53 (Tumor suppressor p53)\tTP53\tMarmota monax (Woodchuck)\t391\n",
      "Q00366\tP53_MESAU\treviewed\tCellular tumor antigen p53 (Tumor suppressor p53)\tTP53\tMesocricetus auratus (Golden hamster)\t396\n",
      "P13481\tP53_CHLAE\treviewed\tCellular tumor antigen p53 (Tumor suppressor p53)\tTP53\tChlorocebus aethiops (Green monkey) (Cercopithecus aethiops)\t393\n",
      "Q0VCQ8\tP5I11_BOVIN\treviewed\tTumor protein p53-inducible protein 11 (p53-induced gene 11 protein)\tTP53I11 PIG11\tBos taurus (Bovine)\t189\n",
      "B3DMA0\tP5I11_RAT\treviewed\tTumor protein p53-inducible protein 11 (p53-induced gene 11 protein)\tTp53i11 Pig11\tRattus norvegicus (Rat)\t189\n",
      "Q9NS56\tTOPRS_HUMAN\treviewed\tE3 ubiquitin-protein ligase Topors (EC 2.3.2.27) (RING-type E3 ubiquitin transferase Topors) (SUMO1-protein E3 ligase Topors) (Topoisomerase I-binding RING finger protein) (Topoisomerase I-binding arginine/serine-rich protein) (Tumor suppressor p53-binding protein 3) (p53-binding protein 3) (p53BP3)\tTOPORS LUN TP53BPL\tHomo sapiens (Human)\t1045\n",
      "Q12888\tTP53B_HUMAN\treviewed\tTP53-binding protein 1 (53BP1) (p53-binding protein 1) (p53BP1)\tTP53BP1\tHomo sapiens (Human)\t1972\n",
      "P70399\tTP53B_MOUSE\treviewed\tTP53-binding protein 1 (53BP1) (p53-binding protein 1) (p53BP1)\tTp53bp1 Trp53bp1\tMus musculus (Mouse)\t1969\n",
      "Q8SPZ3\tP53_DELLE\treviewed\tCellular tumor antigen p53 (Tumor suppressor p53)\tTP53 P53\tDelphinapterus leucas (Beluga whale)\t387\n",
      "P56423\tP53_MACFA\treviewed\tCellular tumor antigen p53 (Tumor suppressor p53)\tTP53 P53\tMacaca fascicularis (Crab-eating macaque) (Cynomolgus monkey)\t393\n",
      "P67939\tP53_BOVIN\treviewed\tCellular tumor antigen p53 (Tumor suppressor p53)\tTP53\tBos taurus (Bovine)\t386\n",
      "P10360\tP53_CHICK\treviewed\tCellular tumor antigen p53 (Tumor suppressor p53)\tTP53\tGallus gallus (Chicken)\t367\n",
      "P79820\tP53_ORYLA\treviewed\tCellular tumor antigen p53 (Tumor suppressor p53)\ttp53 p53\tOryzias latipes (Japanese rice fish) (Japanese killifish)\t352\n",
      "Q4QQM4\tP5I11_MOUSE\treviewed\tTumor protein p53-inducible protein 11 (Transformation related protein 53 inducible protein 11) (p53-induced gene 11 protein)\tTrp53i11 Pig11 Tp53i11\tMus musculus (Mouse)\t189\n",
      "Q5REI9\tP5I11_PONAB\treviewed\tTumor protein p53-inducible protein 11 (p53-induced gene 11 protein)\tTP53I11 PIG11\tPongo abelii (Sumatran orangutan) (Pongo pygmaeus abelii)\t189\n",
      "P10361\tP53_RAT\treviewed\tCellular tumor antigen p53 (Tumor suppressor p53)\tTp53 P53\tRattus norvegicus (Rat)\t391\n",
      "P51664\tP53_SHEEP\treviewed\tCellular tumor antigen p53 (Tumor suppressor p53)\tTP53\tOvis aries (Sheep)\t382\n",
      "Q9TTA1\tP53_TUPBE\treviewed\tCellular tumor antigen p53 (Tumor suppressor p53)\tTP53 P53\tTupaia belangeri (Common tree shrew) (Tupaia glis belangeri)\t393\n",
      "P07193\tP53_XENLA\treviewed\tCellular tumor antigen p53 (Tumor suppressor p53)\ttp53\tXenopus laevis (African clawed frog)\t363\n",
      "O57538\tP53_XIPHE\treviewed\tCellular tumor antigen p53 (Tumor suppressor p53)\ttp53 p53\tXiphophorus helleri (Green swordtail)\t342\n",
      "Q53FA7\tQORX_HUMAN\treviewed\tQuinone oxidoreductase PIG3 (EC 1.-.-.-) (Tumor protein p53-inducible protein 3) (p53-induced gene 3 protein)\tTP53I3 PIG3\tHomo sapiens (Human)\t332\n",
      "Q9Y2B4\tT53G5_HUMAN\treviewed\tTP53-target gene 5 protein (TP53-inducible gene 5 protein)\tTP53TG5 C20orf10\tHomo sapiens (Human)\t290\n",
      "Q96A56\tT53I1_HUMAN\treviewed\tTumor protein p53-inducible nuclear protein 1 (Stress-induced protein) (p53-dependent damage-inducible nuclear protein 1) (p53DINP1)\tTP53INP1 P53DINP1 SIP\tHomo sapiens (Human)\t240\n",
      "Q9ULZ0\tT53G3_HUMAN\treviewed\tTP53-target gene 3 protein (TP53-inducible gene 3 protein)\tTP53TG3 TP53TG3A; TP53TG3B; TP53TG3C; TP53TG3D; TP53TG3E; TP53TG3F\tHomo sapiens (Human)\t132\n",
      "Q8CFU8\tT53I2_MOUSE\treviewed\tTumor protein p53-inducible nuclear protein 2 (Diabetes and obesity-regulated protein)\tTp53inp2 Dor Trp53inp2\tMus musculus (Mouse)\t221\n",
      "Q8IXH6\tT53I2_HUMAN\treviewed\tTumor protein p53-inducible nuclear protein 2 (Diabetes and obesity-regulated gene) (p53-inducible protein U) (PIG-U)\tTP53INP2 C20orf110 DOR PINH\tHomo sapiens (Human)\t220\n",
      "Q8CHM3\tT53I2_RAT\treviewed\tTumor protein p53-inducible nuclear protein 2 (Diabetes and obesity-regulated gene) (Fragment)\tTp53inp2 Dor Trp53inp2\tRattus norvegicus (Rat)\t199\n",
      "Q9HCN2\tTPIP1_HUMAN\treviewed\tp53-regulated apoptosis-inducing protein 1 (p53AIP1)\tTP53AIP1\tHomo sapiens (Human)\t124\n",
      "A1A5B4\tANO9_HUMAN\treviewed\tAnoctamin-9 (Transmembrane protein 16J) (Tumor protein p53-inducible protein 5) (p53-induced gene 5 protein)\tANO9 PIG5 TMEM16J TP53I5\tHomo sapiens (Human)\t782\n",
      "Q13625\tASPP2_HUMAN\treviewed\tApoptosis-stimulating of p53 protein 2 (Bcl2-binding protein) (Bbp) (Renal carcinoma antigen NY-REN-51) (Tumor suppressor p53-binding protein 2) (53BP2) (p53-binding protein 2) (p53BP2)\tTP53BP2 ASPP2 BBP\tHomo sapiens (Human)\t1128\n",
      "Q8CG79\tASPP2_MOUSE\treviewed\tApoptosis-stimulating of p53 protein 2 (Tumor suppressor p53-binding protein 2) (53BP2) (p53-binding protein 2) (p53BP2)\tTp53bp2 Aspp2 Trp53bp2\tMus musculus (Mouse)\t1128\n",
      "\n"
     ]
    }
   ],
   "source": [
    "if result.ok:\n",
    "    query_data = result.text\n",
    "else:\n",
    "    print('Something went wrong ', result.status_code)"
   ]
  },
  {
   "cell_type": "markdown",
   "metadata": {},
   "source": []
  },
  {
   "cell_type": "markdown",
   "metadata": {},
   "source": [
    "#### Step 6: Save you data\n",
    "\n",
    "- Save the downloaded file to a local file (Tip: `with open(filename, 'w') as out_fh:`)"
   ]
  },
  {
   "cell_type": "code",
   "execution_count": 17,
   "metadata": {
    "collapsed": true
   },
   "outputs": [],
   "source": [
    "with open('uniprot_tp53.tab', 'w') as out_fh:\n",
    "    out_fh.write(query_data)"
   ]
  },
  {
   "cell_type": "markdown",
   "metadata": {},
   "source": [
    "- Congrats! you made a pipeline (create query link, query UniProt database, save return data to a file)\n",
    "- Please put the scripts to these tasks together, so that you can do the same analysis in one single code-box of this Jupyter Notebook."
   ]
  },
  {
   "cell_type": "markdown",
   "metadata": {},
   "source": [
    "### Make a working pipeline by putting pieces together\n",
    "\n",
    "- I have provided a pseudocode for this task in the code-box below:\n",
    "    - import requests\n",
    "    - create a variable for gene id, uniprot basic link, any other parameters\n",
    "    - combine the links to one\n",
    "    - query UniProt database\n",
    "    - check response, if it's ok then save the output to a file 'uniprot_tp53.tab'"
   ]
  },
  {
   "cell_type": "code",
   "execution_count": null,
   "metadata": {
    "collapsed": true
   },
   "outputs": [],
   "source": [
    "import requests\n",
    "\n",
    "genename = 'TP53'\n",
    "fileformat = 'tab'\n",
    "reviewed = 'yes'\n",
    "uniprot_url = \"https://www.uniprot.org/uniprot?query=gene:{genename}%20AND%20reviewed:{reviewed}&format={fileformat}\"\n",
    "\n",
    "result = requests.get(uniprot_url)\n",
    "\n",
    "with open('uniprot_tp53.tab', 'w') as out_fh:\n",
    "    out_fh.write(query_data)"
   ]
  },
  {
   "cell_type": "markdown",
   "metadata": {},
   "source": [
    "### Pipelines are awesome. Functions make your pipeline even better!\n",
    "\n",
    "- Put this piece of code in a function that takes an gene name and output file names.\n",
    "- If you want, you can increase the number of arguments your function takes to allow your users to provide more information such as format and reviewed or not."
   ]
  },
  {
   "cell_type": "code",
   "execution_count": 18,
   "metadata": {
    "collapsed": true
   },
   "outputs": [],
   "source": [
    "import requests\n",
    "\n",
    "def download_data(genename, outfile):\n",
    "    uniprot_url = \"https://www.uniprot.org/uniprot?query=gene:{genename}%20AND%20reviewed:yes&format=tab\"\n",
    "    result = requests.get(uniprot_url)\n",
    "    with open('uniprot_tp53.tab', 'w') as out_fh:\n",
    "        out_fh.write(query_data)\n",
    "    \n",
    "genename = 'TP53'\n",
    "outfile = 'uniprot_tp53.tab'\n",
    "download_data(genename, outfile)"
   ]
  },
  {
   "cell_type": "markdown",
   "metadata": {},
   "source": [
    "### Expand your pipeline with more functions"
   ]
  },
  {
   "cell_type": "markdown",
   "metadata": {},
   "source": [
    "#### Write functions that reads the downloaded file and curate data for you\n",
    "\n",
    "- Write a function that reads the file and extracts entry name (column 2), gene_name (column 4) and organism (column 6)\n",
    "- Expand your function to write this information to a file, choose tab ('\\t') as separater of your column"
   ]
  },
  {
   "cell_type": "code",
   "execution_count": null,
   "metadata": {
    "collapsed": true
   },
   "outputs": [],
   "source": []
  },
  {
   "cell_type": "markdown",
   "metadata": {},
   "source": [
    "#### Create local query database\n",
    "\n",
    "*Hint: import sqllite3*"
   ]
  },
  {
   "cell_type": "markdown",
   "metadata": {},
   "source": [
    "#### Query local database"
   ]
  },
  {
   "cell_type": "code",
   "execution_count": null,
   "metadata": {
    "collapsed": true
   },
   "outputs": [],
   "source": []
  }
 ],
 "metadata": {
  "kernelspec": {
   "display_name": "Python 3",
   "language": "python",
   "name": "python3"
  },
  "language_info": {
   "codemirror_mode": {
    "name": "ipython",
    "version": 3
   },
   "file_extension": ".py",
   "mimetype": "text/x-python",
   "name": "python",
   "nbconvert_exporter": "python",
   "pygments_lexer": "ipython3",
   "version": "3.6.0"
  }
 },
 "nbformat": 4,
 "nbformat_minor": 2
}
