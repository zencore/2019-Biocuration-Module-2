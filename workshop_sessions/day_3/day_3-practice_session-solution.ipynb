{
 "cells": [
  {
   "cell_type": "markdown",
   "metadata": {},
   "source": [
    "# Computational Skills for Biocuration\n",
    "\n",
    "## Programming Skills with Python\n",
    "\n",
    "### Practical Exercises\n",
    "\n",
    "- Uniprot example file using Search term: [\"gene:tp53 AND reviewed:yes\"](https://www.uniprot.org/uniprot/?query=gene%3ATP53+AND+reviewed%3Ayes&sort=score)"
   ]
  },
  {
   "cell_type": "markdown",
   "metadata": {},
   "source": [
    "In this sesssion we will build a pipeline that can let you do a series of task starting from getting data from internet and storing curated data."
   ]
  },
  {
   "cell_type": "markdown",
   "metadata": {},
   "source": [
    "#### Step 1: Locate data: Where is your data? \n",
    "\n",
    "*Hint: Look-up Rest API links*\n",
    "\n",
    "- Here you will download the example file from UniProt\n",
    "\n",
    "- Create download link \"https://www.uniprot.org/uniprot?query=gene:TP53%20AND%20reviewed:yes&format=tab\" as such that you can use your code to update the link for any gene name (which TP53 here)"
   ]
  },
  {
   "cell_type": "code",
   "execution_count": null,
   "metadata": {
    "collapsed": false
   },
   "outputs": [],
   "source": [
    "uniprot_url = \"https://www.uniprot.org/uniprot?query=gene:TP53%20AND%20reviewed:yes&format=tab\"\n",
    "\n",
    "print(uniprot_url)"
   ]
  },
  {
   "cell_type": "markdown",
   "metadata": {},
   "source": [
    "#### Step 2: How can you find data for a different query?\n",
    "\n",
    "*Hint: Think about reusing your codes by creating variables for your queries*\n",
    "\n",
    "- Edit your code so that you can allow yourself to download other file formats like '.fasta' (which is '.tab' here)"
   ]
  },
  {
   "cell_type": "code",
   "execution_count": null,
   "metadata": {
    "collapsed": false
   },
   "outputs": [],
   "source": [
    "genename = 'TP53'\n",
    "uniprot_url = f\"https://www.uniprot.org/uniprot?query=gene:{genename}%20AND%20reviewed:yes&format=tab\"\n",
    "\n",
    "print(uniprot_url)"
   ]
  },
  {
   "cell_type": "markdown",
   "metadata": {},
   "source": [
    "#### Step 3: Can you bring more flexibility to your query?\n",
    "\n",
    "*Hint: are there more parameters that you can allow your users to change?*\n",
    "\n",
    "- Which other parameters in your link can be replaced by variables that can be supplied by your users?"
   ]
  },
  {
   "cell_type": "code",
   "execution_count": null,
   "metadata": {
    "collapsed": false
   },
   "outputs": [],
   "source": [
    "genename = 'TP53'\n",
    "fileformat = 'tab'\n",
    "reviewed = 'yes'\n",
    "uniprot_url = f\"https://www.uniprot.org/uniprot?query=gene:{genename}%20AND%20reviewed:{reviewed}&format={fileformat}\"\n",
    "print(uniprot_url)"
   ]
  },
  {
   "cell_type": "markdown",
   "metadata": {},
   "source": [
    "#### Step 4: Get data\n",
    "\n",
    "- import requests and use it to get the UniProt file corresponding the link;"
   ]
  },
  {
   "cell_type": "code",
   "execution_count": null,
   "metadata": {
    "collapsed": true
   },
   "outputs": [],
   "source": [
    "import requests\n",
    "\n",
    "result = requests.get(uniprot_url)"
   ]
  },
  {
   "cell_type": "markdown",
   "metadata": {},
   "source": [
    "#### Step 5: Make sure that everything is OK with your request\n",
    "\n",
    "*Hint: remember `result.status_code`?*\n",
    "\n",
    "- Using if-else conditional, check whether the query was successful (Tip: `if result.ok:`) at all and, if not,check which HTTP status code the server returned.\n",
    "- If the query was successful, save the data to a variable (Tip: `result.text`)"
   ]
  },
  {
   "cell_type": "code",
   "execution_count": null,
   "metadata": {
    "collapsed": false
   },
   "outputs": [],
   "source": [
    "if result.ok:\n",
    "    print(\"Fetching data...\")\n",
    "    query_data = result.text\n",
    "    print(query_data)\n",
    "else:\n",
    "    print('Something went wrong ', result.status_code)"
   ]
  },
  {
   "cell_type": "markdown",
   "metadata": {},
   "source": [
    "#### Step 6: Save you data\n",
    "\n",
    "- Save the downloaded file to a local file (Tip: `with open(filename, 'w') as out_fh:`)"
   ]
  },
  {
   "cell_type": "code",
   "execution_count": null,
   "metadata": {
    "collapsed": true
   },
   "outputs": [],
   "source": [
    "with open('uniprot_tp53.tab', 'w') as out_fh:\n",
    "    out_fh.write(query_data)"
   ]
  },
  {
   "cell_type": "markdown",
   "metadata": {},
   "source": [
    "- Congrats! you made a pipeline (create query link, query UniProt database, save return data to a file)\n",
    "- Please put the scripts to these tasks together, so that you can do the same analysis in one single code-box of this Jupyter Notebook."
   ]
  },
  {
   "cell_type": "markdown",
   "metadata": {},
   "source": [
    "### Make a working pipeline by putting pieces together\n",
    "\n",
    "- I have provided a pseudocode for this task in the code-box below:\n",
    "    - import requests\n",
    "    - create a variable for gene id, uniprot basic link, any other parameters\n",
    "    - combine the links to one\n",
    "    - query UniProt database\n",
    "    - check response, if it's ok then save the output to a file 'uniprot_tp53.tab'"
   ]
  },
  {
   "cell_type": "code",
   "execution_count": null,
   "metadata": {
    "collapsed": true
   },
   "outputs": [],
   "source": [
    "import requests\n",
    "\n",
    "genename = 'TP53'\n",
    "fileformat = 'tab'\n",
    "reviewed = 'yes'\n",
    "uniprot_url = \"https://www.uniprot.org/uniprot?query=gene:{genename}%20AND%20reviewed:{reviewed}&format={fileformat}\"\n",
    "\n",
    "result = requests.get(uniprot_url)\n",
    "\n",
    "with open('uniprot_tp53.tab', 'w') as out_fh:\n",
    "    out_fh.write(query_data)"
   ]
  },
  {
   "cell_type": "markdown",
   "metadata": {},
   "source": [
    "### Pipelines are awesome. Functions make your pipeline even better!\n",
    "\n",
    "- Put this piece of code in a function that takes an gene name and output file names.\n",
    "- If you want, you can increase the number of arguments your function takes to allow your users to provide more information such as format and reviewed or not."
   ]
  },
  {
   "cell_type": "code",
   "execution_count": null,
   "metadata": {
    "collapsed": false
   },
   "outputs": [],
   "source": [
    "import requests\n",
    "\n",
    "def get_data(data_url, outfile):\n",
    "    result = requests.get(data_url)\n",
    "    query_data = result.text\n",
    "    if result.ok:\n",
    "        print(\"Fetching data...\")\n",
    "        with open(outfile, 'w') as out_fh:\n",
    "            out_fh.write(query_data)\n",
    "    else:\n",
    "        print('Something went wrong ', result.status_code)\n",
    "    \n",
    "genename = 'TP53'\n",
    "outfile = 'uniprot_tp53.tab'\n",
    "data_url = \"https://www.uniprot.org/uniprot?query=gene:{genename}%20AND%20reviewed:yes&format=tab\"\n",
    "get_data(data_url, outfile)"
   ]
  },
  {
   "cell_type": "markdown",
   "metadata": {},
   "source": [
    "### Expand your pipeline with more functions"
   ]
  },
  {
   "cell_type": "markdown",
   "metadata": {},
   "source": [
    "#### Write functions that reads the downloaded file and curate data for you\n",
    "\n",
    "- Write a function that reads an input file from UniProt and returns entry name (column 2), gene_name (column 4) and organism (column 6)\n",
    "    - Use List or Dictionary to return this information"
   ]
  },
  {
   "cell_type": "code",
   "execution_count": null,
   "metadata": {
    "collapsed": false
   },
   "outputs": [],
   "source": [
    "import requests\n",
    "\n",
    "def get_data(data_url, outfile):\n",
    "    result = requests.get(data_url)\n",
    "    query_data = result.text\n",
    "    if result.ok:\n",
    "        print(\"Fetching data...\")\n",
    "        with open(outfile, 'w') as out_fh:\n",
    "            out_fh.write(query_data)\n",
    "    else:\n",
    "        print('Something went wrong!', result.status_code)\n",
    "    \n",
    "def curate_data(data_file):\n",
    "    \n",
    "    curated_list = [] # will store information from each line\n",
    "    \n",
    "    with open(data_file, 'r') as in_fh:\n",
    "        for lines in in_fh:\n",
    "            entry_name = lines[1] #(column 2)\n",
    "            gene_name = lines[3] #(column 4)\n",
    "            organism = lines[5] #(column 6)\n",
    "            # putting all variables int one string\n",
    "            selected_data = f\"{entry_name}\\t{gene_name}\\t{organism}\" \n",
    "            curated_list.append(selected_data)\n",
    "    return curated_list"
   ]
  },
  {
   "cell_type": "markdown",
   "metadata": {},
   "source": [
    "- Expand your function to write this (or any) information to a file, choose tab ('\\t') as separater of your column."
   ]
  },
  {
   "cell_type": "code",
   "execution_count": null,
   "metadata": {
    "collapsed": false
   },
   "outputs": [],
   "source": [
    "def list2file(data_list, filename):\n",
    "    with open(filename, 'w') as out_fh:\n",
    "        for items in data_list:\n",
    "            out_fh.write(items+'\\n')\n",
    "    print(\"Created a file with curated data.\")"
   ]
  },
  {
   "cell_type": "code",
   "execution_count": null,
   "metadata": {
    "collapsed": true
   },
   "outputs": [],
   "source": [
    "## Define all arguments for my functions\n",
    "genename = 'TP53'\n",
    "data_url = f\"https://www.uniprot.org/uniprot?query=gene:{genename}%20AND%20reviewed:yes&format=tab\"\n",
    "\n",
    "datafile = 'uniprot_tp53.tab'"
   ]
  },
  {
   "cell_type": "code",
   "execution_count": null,
   "metadata": {
    "collapsed": true
   },
   "outputs": [],
   "source": [
    "## call functions\n",
    "get_data(data_url, datafile)\n",
    "curated_info = curate_data(datafile)\n",
    "\n",
    "curated_file = 'curated_'+datafile\n",
    "list2file(curated_info, curated_file)"
   ]
  },
  {
   "cell_type": "markdown",
   "metadata": {},
   "source": [
    "#### Create local query database\n",
    "\n",
    "*Hint: import sqllite3*"
   ]
  },
  {
   "cell_type": "markdown",
   "metadata": {},
   "source": [
    "#### Query local database"
   ]
  },
  {
   "cell_type": "code",
   "execution_count": null,
   "metadata": {
    "collapsed": true
   },
   "outputs": [],
   "source": []
  }
 ],
 "metadata": {
  "kernelspec": {
   "display_name": "Python 3",
   "language": "python",
   "name": "python3"
  },
  "language_info": {
   "codemirror_mode": {
    "name": "ipython",
    "version": 3
   },
   "file_extension": ".py",
   "mimetype": "text/x-python",
   "name": "python",
   "nbconvert_exporter": "python",
   "pygments_lexer": "ipython3",
   "version": "3.6.0"
  }
 },
 "nbformat": 4,
 "nbformat_minor": 2
}
