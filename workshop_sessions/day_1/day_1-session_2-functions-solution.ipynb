{
 "cells": [
  {
   "cell_type": "markdown",
   "metadata": {},
   "source": [
    "# Computational Skills for Biocuration\n",
    "\n",
    "## Programming Skills with Python"
   ]
  },
  {
   "cell_type": "markdown",
   "metadata": {},
   "source": [
    "**Toby Hodges**\n",
    "\n",
    "- email: toby.hodges@embl.de\n",
    "- Twitter: [@tbyhdgs](https://twitter.com/tbyhdgs)\n",
    "- GitHub: [tobyhodges](https://github.com/tobyhodges)\n",
    "\n",
    "Alongside Malvika, I coordinate the [Bio-IT Project](https://bio-it.embl.de) at EMBL Heidelberg. You can find more training material, for Python and other tools, on our [Course Materials](https://bio-it.embl.de/course-materials/) webpage."
   ]
  },
  {
   "cell_type": "markdown",
   "metadata": {},
   "source": [
    "### Functions"
   ]
  },
  {
   "cell_type": "markdown",
   "metadata": {},
   "source": [
    "We have started to combine multiple operations into more complex procedures. For example, if we want to find all the species of a particular genus in a list of names then create a comma-separated sting of these species names, we might write something like this:"
   ]
  },
  {
   "cell_type": "code",
   "execution_count": 1,
   "metadata": {},
   "outputs": [],
   "source": [
    "species_list1 = ['Gorilla gorrila', 'Homo neandathalensis', \n",
    "                 'Pan troglodytes', 'Pongo pygmaeus', \n",
    "                 'Homo sapiens', 'Homo heidelbergensis']"
   ]
  },
  {
   "cell_type": "code",
   "execution_count": 2,
   "metadata": {},
   "outputs": [
    {
     "data": {
      "text/plain": [
       "False"
      ]
     },
     "execution_count": 2,
     "metadata": {},
     "output_type": "execute_result"
    }
   ],
   "source": [
    "True\n",
    "False"
   ]
  },
  {
   "cell_type": "code",
   "execution_count": 3,
   "metadata": {},
   "outputs": [
    {
     "name": "stdout",
     "output_type": "stream",
     "text": [
      "something was run\n"
     ]
    }
   ],
   "source": [
    "if True:\n",
    "    print(\"something was run\")"
   ]
  },
  {
   "cell_type": "code",
   "execution_count": 5,
   "metadata": {},
   "outputs": [],
   "source": [
    "if False:\n",
    "    print(\"something was run\")"
   ]
  },
  {
   "cell_type": "code",
   "execution_count": 7,
   "metadata": {},
   "outputs": [
    {
     "data": {
      "text/plain": [
       "'HOMO HEIDELBERGENSIS'"
      ]
     },
     "execution_count": 7,
     "metadata": {},
     "output_type": "execute_result"
    }
   ],
   "source": [
    "'Homo heidelbergensis'.upper()"
   ]
  },
  {
   "cell_type": "code",
   "execution_count": 8,
   "metadata": {},
   "outputs": [],
   "source": [
    "species = 'Homo heidelbergensis'"
   ]
  },
  {
   "cell_type": "code",
   "execution_count": 11,
   "metadata": {},
   "outputs": [
    {
     "data": {
      "text/plain": [
       "'HOMO HEIDELBERGENSIS'"
      ]
     },
     "execution_count": 11,
     "metadata": {},
     "output_type": "execute_result"
    }
   ],
   "source": [
    "species.upper()"
   ]
  },
  {
   "cell_type": "code",
   "execution_count": 14,
   "metadata": {},
   "outputs": [
    {
     "data": {
      "text/plain": [
       "True"
      ]
     },
     "execution_count": 14,
     "metadata": {},
     "output_type": "execute_result"
    }
   ],
   "source": [
    "species.startswith('H')"
   ]
  },
  {
   "cell_type": "code",
   "execution_count": 15,
   "metadata": {},
   "outputs": [
    {
     "data": {
      "text/plain": [
       "False"
      ]
     },
     "execution_count": 15,
     "metadata": {},
     "output_type": "execute_result"
    }
   ],
   "source": [
    "species.startswith('X')"
   ]
  },
  {
   "cell_type": "code",
   "execution_count": 16,
   "metadata": {},
   "outputs": [
    {
     "name": "stdout",
     "output_type": "stream",
     "text": [
      "Homo heidelbergensis\n"
     ]
    }
   ],
   "source": [
    "if species.startswith('Homo'):\n",
    "    print(species)"
   ]
  },
  {
   "cell_type": "code",
   "execution_count": 17,
   "metadata": {},
   "outputs": [
    {
     "name": "stdout",
     "output_type": "stream",
     "text": [
      "Homo heidelbergensis\n",
      "always runs\n"
     ]
    }
   ],
   "source": [
    "if species.startswith('Homo'):\n",
    "    print(species)\n",
    "print('always runs')"
   ]
  },
  {
   "cell_type": "code",
   "execution_count": 19,
   "metadata": {},
   "outputs": [
    {
     "name": "stdout",
     "output_type": "stream",
     "text": [
      "always runs\n"
     ]
    }
   ],
   "source": [
    "if species.startswith('Gorilla'):\n",
    "    print(species)\n",
    "print('always runs')"
   ]
  },
  {
   "cell_type": "code",
   "execution_count": 20,
   "metadata": {},
   "outputs": [
    {
     "name": "stdout",
     "output_type": "stream",
     "text": [
      "Homo heidelbergensis\n"
     ]
    }
   ],
   "source": [
    "genus = 'Homo'\n",
    "if species.startswith(genus):\n",
    "    print(species)"
   ]
  },
  {
   "cell_type": "code",
   "execution_count": 22,
   "metadata": {},
   "outputs": [
    {
     "data": {
      "text/plain": [
       "['Gorilla gorrila',\n",
       " 'Homo neandathalensis',\n",
       " 'Pan troglodytes',\n",
       " 'Pongo pygmaeus',\n",
       " 'Homo sapiens',\n",
       " 'Homo heidelbergensis']"
      ]
     },
     "execution_count": 22,
     "metadata": {},
     "output_type": "execute_result"
    }
   ],
   "source": [
    "species_list1"
   ]
  },
  {
   "cell_type": "code",
   "execution_count": 23,
   "metadata": {},
   "outputs": [
    {
     "name": "stdout",
     "output_type": "stream",
     "text": [
      "Homo neandathalensis\n",
      "Homo sapiens\n",
      "Homo heidelbergensis\n"
     ]
    }
   ],
   "source": [
    "for species in species_list1:\n",
    "    if species.startswith(genus):\n",
    "        print(species)"
   ]
  },
  {
   "cell_type": "code",
   "execution_count": 24,
   "metadata": {},
   "outputs": [
    {
     "name": "stdout",
     "output_type": "stream",
     "text": [
      "Homo neandathalensis\n",
      "Homo sapiens\n",
      "Homo heidelbergensis\n"
     ]
    }
   ],
   "source": [
    "for species in species_list1:\n",
    "    if species.startswith('Homo'):\n",
    "        print(species)"
   ]
  },
  {
   "cell_type": "code",
   "execution_count": 26,
   "metadata": {},
   "outputs": [
    {
     "name": "stdout",
     "output_type": "stream",
     "text": [
      "[]\n",
      "['abc']\n",
      "['abc', 'def', 'ghi']\n"
     ]
    }
   ],
   "source": [
    "empty_list = []\n",
    "print(empty_list)\n",
    "empty_list.append('abc')\n",
    "print(empty_list)\n",
    "empty_list.append('def')\n",
    "empty_list.append('ghi')\n",
    "print(empty_list)"
   ]
  },
  {
   "cell_type": "code",
   "execution_count": 29,
   "metadata": {},
   "outputs": [
    {
     "name": "stdout",
     "output_type": "stream",
     "text": [
      "    always runs\n",
      "        found a Homo species\n",
      "    always runs\n",
      "    always runs\n",
      "    always runs\n",
      "        found a Homo species\n",
      "    always runs\n",
      "        found a Homo species\n",
      "    always runs\n",
      "finished!\n",
      "['Homo neandathalensis', 'Homo sapiens', 'Homo heidelbergensis']\n"
     ]
    }
   ],
   "source": [
    "homo_species = []\n",
    "for species in species_list1:\n",
    "    if species.startswith('Homo'):\n",
    "        homo_species.append(species)\n",
    "        print('        found a Homo species')\n",
    "    print('    always runs')\n",
    "print('finished!')\n",
    "print(homo_species)"
   ]
  },
  {
   "cell_type": "code",
   "execution_count": 30,
   "metadata": {},
   "outputs": [
    {
     "data": {
      "text/plain": [
       "'Homo neandathalensis!!!Homo sapiens!!!Homo heidelbergensis'"
      ]
     },
     "execution_count": 30,
     "metadata": {},
     "output_type": "execute_result"
    }
   ],
   "source": [
    "'!!!'.join(homo_species)"
   ]
  },
  {
   "cell_type": "code",
   "execution_count": 31,
   "metadata": {},
   "outputs": [
    {
     "data": {
      "text/plain": [
       "'Homo neandathalensis, Homo sapiens, Homo heidelbergensis'"
      ]
     },
     "execution_count": 31,
     "metadata": {},
     "output_type": "execute_result"
    }
   ],
   "source": [
    "', '.join(homo_species)"
   ]
  },
  {
   "cell_type": "code",
   "execution_count": 32,
   "metadata": {},
   "outputs": [
    {
     "ename": "AttributeError",
     "evalue": "'list' object has no attribute 'join'",
     "output_type": "error",
     "traceback": [
      "\u001b[0;31m---------------------------------------------------------------------------\u001b[0m",
      "\u001b[0;31mAttributeError\u001b[0m                            Traceback (most recent call last)",
      "\u001b[0;32m<ipython-input-32-356eeb85dc30>\u001b[0m in \u001b[0;36m<module>\u001b[0;34m()\u001b[0m\n\u001b[0;32m----> 1\u001b[0;31m \u001b[0mhomo_species\u001b[0m\u001b[0;34m.\u001b[0m\u001b[0mjoin\u001b[0m\u001b[0;34m(\u001b[0m\u001b[0;34m','\u001b[0m\u001b[0;34m)\u001b[0m\u001b[0;34m\u001b[0m\u001b[0m\n\u001b[0m",
      "\u001b[0;31mAttributeError\u001b[0m: 'list' object has no attribute 'join'"
     ]
    }
   ],
   "source": [
    "homo_species.join(',')"
   ]
  },
  {
   "cell_type": "code",
   "execution_count": 33,
   "metadata": {},
   "outputs": [
    {
     "name": "stdout",
     "output_type": "stream",
     "text": [
      "Homo neandathalensis,Homo sapiens,Homo heidelbergensis\n"
     ]
    }
   ],
   "source": [
    "genus = 'Homo'\n",
    "homo_species = []\n",
    "for species in species_list1:\n",
    "    if species.startswith(genus):\n",
    "        homo_species.append(species)\n",
    "print(','.join(homo_species))"
   ]
  },
  {
   "cell_type": "markdown",
   "metadata": {},
   "source": [
    "What if we want to be able to execute this procedure on-demand, in multiple different locations in our code, with different genera, different lists of different species? We could copy & paste the block of code then make the edits..."
   ]
  },
  {
   "cell_type": "code",
   "execution_count": 34,
   "metadata": {},
   "outputs": [],
   "source": [
    "species_list2 = ['Pieris rapae', 'Pygoscelis adeliae', \n",
    "                 'Aptenodytes forsteri', 'Equus equus', \n",
    "                 'Pygoscelis papua', 'Enhydra lutris', \n",
    "                 'Pygoscelis antarcticus']\n"
   ]
  },
  {
   "cell_type": "code",
   "execution_count": 38,
   "metadata": {},
   "outputs": [
    {
     "name": "stdout",
     "output_type": "stream",
     "text": [
      "Pygoscelis adeliae,Pygoscelis papua,Pygoscelis antarcticus\n"
     ]
    }
   ],
   "source": [
    "genus = 'Pygoscelis'\n",
    "pygocelis_species = []\n",
    "for species in species_list2:\n",
    "    if species.startswith(genus):\n",
    "        pygocelis_species.append(species)\n",
    "print(','.join(pygocelis_species))"
   ]
  },
  {
   "cell_type": "code",
   "execution_count": 39,
   "metadata": {},
   "outputs": [],
   "source": [
    "def find_penguins(list_of_species):\n",
    "    genus = 'Pygoscelis'\n",
    "    pygocelis_species = []\n",
    "    for species in list_of_species:\n",
    "        if species.startswith(genus):\n",
    "            pygocelis_species.append(species)\n",
    "    print(','.join(pygocelis_species))"
   ]
  },
  {
   "cell_type": "code",
   "execution_count": 40,
   "metadata": {},
   "outputs": [
    {
     "name": "stdout",
     "output_type": "stream",
     "text": [
      "Pygoscelis adeliae,Pygoscelis papua,Pygoscelis antarcticus\n"
     ]
    }
   ],
   "source": [
    "find_penguins(species_list2)"
   ]
  },
  {
   "cell_type": "code",
   "execution_count": 41,
   "metadata": {},
   "outputs": [
    {
     "name": "stdout",
     "output_type": "stream",
     "text": [
      "\n"
     ]
    }
   ],
   "source": [
    "find_penguins(species_list1)"
   ]
  },
  {
   "cell_type": "code",
   "execution_count": 46,
   "metadata": {},
   "outputs": [],
   "source": [
    "def find_genus(list_of_species, genus):\n",
    "    species_belonging_to_genus = []\n",
    "    for species in list_of_species:\n",
    "        if species.startswith(genus):\n",
    "            species_belonging_to_genus.append(species)\n",
    "#    print(','.join(species_belonging_to_genus))\n",
    "    return species_belonging_to_genus"
   ]
  },
  {
   "cell_type": "code",
   "execution_count": null,
   "metadata": {},
   "outputs": [],
   "source": []
  },
  {
   "cell_type": "code",
   "execution_count": 47,
   "metadata": {},
   "outputs": [
    {
     "data": {
      "text/plain": [
       "['Equus equus']"
      ]
     },
     "execution_count": 47,
     "metadata": {},
     "output_type": "execute_result"
    }
   ],
   "source": [
    "find_genus(species_list2, 'Equus')"
   ]
  },
  {
   "cell_type": "code",
   "execution_count": 48,
   "metadata": {},
   "outputs": [
    {
     "data": {
      "text/plain": [
       "['Homo neandathalensis', 'Homo sapiens', 'Homo heidelbergensis']"
      ]
     },
     "execution_count": 48,
     "metadata": {},
     "output_type": "execute_result"
    }
   ],
   "source": [
    "find_genus(species_list1, 'Homo')"
   ]
  },
  {
   "cell_type": "code",
   "execution_count": 49,
   "metadata": {},
   "outputs": [
    {
     "data": {
      "text/plain": [
       "['Pygoscelis adeliae', 'Pygoscelis papua', 'Pygoscelis antarcticus']"
      ]
     },
     "execution_count": 49,
     "metadata": {},
     "output_type": "execute_result"
    }
   ],
   "source": [
    "find_genus(species_list2, 'Pygoscelis')"
   ]
  },
  {
   "cell_type": "code",
   "execution_count": 50,
   "metadata": {},
   "outputs": [],
   "source": [
    "horses = find_genus(species_list2, 'Equus')"
   ]
  },
  {
   "cell_type": "code",
   "execution_count": 51,
   "metadata": {},
   "outputs": [
    {
     "name": "stdout",
     "output_type": "stream",
     "text": [
      "['Equus equus']\n"
     ]
    },
    {
     "data": {
      "text/plain": [
       "list"
      ]
     },
     "execution_count": 51,
     "metadata": {},
     "output_type": "execute_result"
    }
   ],
   "source": [
    "print(horses)\n",
    "type(horses)"
   ]
  },
  {
   "cell_type": "code",
   "execution_count": 52,
   "metadata": {},
   "outputs": [],
   "source": [
    "penguins = find_genus(species_list2, 'Pygoscelis')"
   ]
  },
  {
   "cell_type": "code",
   "execution_count": 53,
   "metadata": {},
   "outputs": [
    {
     "data": {
      "text/plain": [
       "['Pygoscelis adeliae', 'Pygoscelis papua', 'Pygoscelis antarcticus']"
      ]
     },
     "execution_count": 53,
     "metadata": {},
     "output_type": "execute_result"
    }
   ],
   "source": [
    "penguins"
   ]
  },
  {
   "cell_type": "code",
   "execution_count": null,
   "metadata": {},
   "outputs": [],
   "source": []
  },
  {
   "cell_type": "code",
   "execution_count": 36,
   "metadata": {},
   "outputs": [
    {
     "data": {
      "text/plain": [
       "['Homo neandathalensis', 'Homo sapiens', 'Homo heidelbergensis']"
      ]
     },
     "execution_count": 36,
     "metadata": {},
     "output_type": "execute_result"
    }
   ],
   "source": [
    "homo_species"
   ]
  },
  {
   "cell_type": "markdown",
   "metadata": {},
   "source": [
    "Functions offer us a better way."
   ]
  },
  {
   "cell_type": "code",
   "execution_count": 54,
   "metadata": {},
   "outputs": [
    {
     "name": "stdout",
     "output_type": "stream",
     "text": [
      "Help on built-in function len in module builtins:\n",
      "\n",
      "len(obj, /)\n",
      "    Return the number of items in a container.\n",
      "\n"
     ]
    }
   ],
   "source": [
    "help(len)"
   ]
  },
  {
   "cell_type": "code",
   "execution_count": 55,
   "metadata": {},
   "outputs": [
    {
     "name": "stdout",
     "output_type": "stream",
     "text": [
      "Help on function find_genus in module __main__:\n",
      "\n",
      "find_genus(list_of_species, genus)\n",
      "\n"
     ]
    }
   ],
   "source": [
    "help(find_genus)"
   ]
  },
  {
   "cell_type": "code",
   "execution_count": 60,
   "metadata": {},
   "outputs": [],
   "source": [
    "def find_genus(list_of_species, genus):\n",
    "    '''a function for finding species belonging to a particular genus.\n",
    "    expects two arguments: list of species, which is a list of \n",
    "    species, and genus, which is the genus to look for.'''\n",
    "    species_belonging_to_genus = []\n",
    "    for species in list_of_species:\n",
    "        if species.startswith(genus):\n",
    "            species_belonging_to_genus.append(species)\n",
    "#    print(','.join(species_belonging_to_genus))\n",
    "    return species_belonging_to_genus"
   ]
  },
  {
   "cell_type": "code",
   "execution_count": 61,
   "metadata": {},
   "outputs": [
    {
     "name": "stdout",
     "output_type": "stream",
     "text": [
      "Help on function find_genus in module __main__:\n",
      "\n",
      "find_genus(list_of_species, genus)\n",
      "    a function for finding species belonging to a particular genus.\n",
      "    expects two arguments: list of species, which is a list of \n",
      "    species, and genus, which is the genus to look for.\n",
      "\n"
     ]
    }
   ],
   "source": [
    "help(find_genus)"
   ]
  },
  {
   "cell_type": "code",
   "execution_count": null,
   "metadata": {
    "collapsed": true
   },
   "outputs": [],
   "source": [
    "# use docstrings to tell your users (and to remind yourself):\n",
    "#   - what a function does\n",
    "#   - how to use it\n"
   ]
  },
  {
   "cell_type": "code",
   "execution_count": null,
   "metadata": {
    "collapsed": true
   },
   "outputs": [],
   "source": []
  },
  {
   "cell_type": "markdown",
   "metadata": {},
   "source": [
    "What will the output be if the following block of code is run?\n",
    "\n",
    "```Python\n",
    "def greet(name):\n",
    "    output = 'Hello, ' + name\n",
    "    return output\n",
    "    print('goodbye')\n",
    "greeting = greet('Abby')\n",
    "print(greeting)\n",
    "```\n",
    "\n",
    "a)\n",
    "```\n",
    "goodbye\n",
    "Hello, Abby\n",
    "```\n",
    "\n",
    "b)\n",
    "```\n",
    "Hello, Abby\n",
    "goodbye\n",
    "```\n",
    "\n",
    "c)\n",
    "```\n",
    "Hello, Abby\n",
    "```\n",
    "\n",
    "d)\n",
    "```\n",
    "goodbye\n",
    "```"
   ]
  },
  {
   "cell_type": "code",
   "execution_count": 62,
   "metadata": {},
   "outputs": [
    {
     "name": "stdout",
     "output_type": "stream",
     "text": [
      "Hello, Abby\n"
     ]
    }
   ],
   "source": [
    "def greet(name):\n",
    "    output = 'Hello, ' + name\n",
    "    return output\n",
    "    print('goodbye')\n",
    "greeting = greet('Abby')\n",
    "print(greeting)"
   ]
  },
  {
   "cell_type": "code",
   "execution_count": null,
   "metadata": {},
   "outputs": [],
   "source": [
    "def greet(name):\n",
    "    output = 'Hello, ' + name\n",
    "    if False:\n",
    "        return output\n",
    "    print('goodbye')\n",
    "    if True:\n",
    "        return output\n",
    "greeting = greet('Abby')\n",
    "print(greeting)"
   ]
  }
 ],
 "metadata": {
  "kernelspec": {
   "display_name": "Python 3",
   "language": "python",
   "name": "python3"
  },
  "language_info": {
   "codemirror_mode": {
    "name": "ipython",
    "version": 3
   },
   "file_extension": ".py",
   "mimetype": "text/x-python",
   "name": "python",
   "nbconvert_exporter": "python",
   "pygments_lexer": "ipython3",
   "version": "3.6.6"
  }
 },
 "nbformat": 4,
 "nbformat_minor": 2
}
