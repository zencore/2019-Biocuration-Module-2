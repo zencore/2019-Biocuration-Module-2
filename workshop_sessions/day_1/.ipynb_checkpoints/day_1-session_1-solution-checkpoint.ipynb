{
 "cells": [
  {
   "cell_type": "markdown",
   "metadata": {},
   "source": [
    "# Computational Skills for Biocuration\n",
    "\n",
    "## Programming Skills with Python"
   ]
  },
  {
   "cell_type": "markdown",
   "metadata": {
    "collapsed": true
   },
   "source": [
    "### Introducing example\n",
    "\n",
    "- Uniprot Example: [\"gene:tp53 AND reviewed:yes\"](https://www.uniprot.org/uniprot/?query=gene%3ATP53+AND+reviewed%3Ayes&sort=score)"
   ]
  },
  {
   "cell_type": "markdown",
   "metadata": {},
   "source": [
    "## Recap\n",
    "\n",
    "### A few Python concepts we've seen in last webinars:\n",
    "\n",
    "- Mathematical operations\n",
    "- data type and type conversion\n",
    "- `print( )`\n",
    "- Variable assignement\n",
    "    - Use gene name from UniProt example"
   ]
  },
  {
   "cell_type": "code",
   "execution_count": 11,
   "metadata": {
    "collapsed": false
   },
   "outputs": [
    {
     "name": "stdout",
     "output_type": "stream",
     "text": [
      "258160.15209125474\n",
      "tp53\n"
     ]
    }
   ],
   "source": [
    "456*567-678/789\n",
    "print(456*(567-(678/789)))\n",
    "type(456*(567-(678/789)))\n",
    "int(456*(567-(678/789)))\n",
    "gene_name = \"tp53\"\n",
    "print(gene_name)"
   ]
  },
  {
   "cell_type": "markdown",
   "metadata": {},
   "source": [
    "#### Using methods on variables\n",
    "\n",
    "- using methods (`.upper( )`, `.split( )` etc.)\n",
    "    - The . indicates that the method is part of the string s, and the brackets indicate that we want to execute it. \n",
    "    - Methods simply return a transformed version of the string, which you can then store in another variable.\n",
    "\n",
    "\n",
    "- Use mouse gene from UniProt example."
   ]
  },
  {
   "cell_type": "code",
   "execution_count": 13,
   "metadata": {
    "collapsed": true
   },
   "outputs": [],
   "source": [
    "mouse_gene = \"Tp53 P53, Trp53\"\n",
    "mouse_gene.upper()\n",
    "mouse_gene.split()\n",
    "mouse_gene.split(',')\n",
    "\n",
    "mouse_gene_list = mouse_gene.split(',')"
   ]
  },
  {
   "cell_type": "markdown",
   "metadata": {},
   "source": [
    "#### Some notes on variables\n",
    "\n",
    "- variables are mutable (their values can be overwritten)\n",
    "- `len(data type)`\n",
    "    - For any sequence data type, `len()` will tell us how many elements it has:\n",
    "    - Strings have length, numbers don't"
   ]
  },
  {
   "cell_type": "code",
   "execution_count": 14,
   "metadata": {
    "collapsed": false
   },
   "outputs": [
    {
     "name": "stdout",
     "output_type": "stream",
     "text": [
      "15\n"
     ]
    },
    {
     "data": {
      "text/plain": [
       "2"
      ]
     },
     "execution_count": 14,
     "metadata": {},
     "output_type": "execute_result"
    }
   ],
   "source": [
    "print(len(mouse_gene))\n",
    "len(mouse_gene_list)"
   ]
  },
  {
   "cell_type": "markdown",
   "metadata": {},
   "source": [
    "### List: `list( )`"
   ]
  },
  {
   "cell_type": "markdown",
   "metadata": {},
   "source": [
    "- creating empty list\n",
    "- creating list with items\n",
    "    - example: use UniProt entry names \"O09185\", \"P79734\", \"P41685\", \"P04637\""
   ]
  },
  {
   "cell_type": "code",
   "execution_count": 84,
   "metadata": {
    "collapsed": false
   },
   "outputs": [
    {
     "data": {
      "text/plain": [
       "['O09185', 'P79734', 'P41685', 'P04637']"
      ]
     },
     "execution_count": 84,
     "metadata": {},
     "output_type": "execute_result"
    }
   ],
   "source": [
    "tp53_entry_list = [\"O09185\", \"P79734\", \"P41685\", \"P04637\"]\n",
    "tp53_entry_list"
   ]
  },
  {
   "cell_type": "markdown",
   "metadata": {},
   "source": [
    "- list method to append new item\n",
    "    - example: use UniProt entry \"P67938\"\n",
    "- getting length of the list"
   ]
  },
  {
   "cell_type": "code",
   "execution_count": 85,
   "metadata": {
    "collapsed": false
   },
   "outputs": [
    {
     "data": {
      "text/plain": [
       "5"
      ]
     },
     "execution_count": 85,
     "metadata": {},
     "output_type": "execute_result"
    }
   ],
   "source": [
    "tp53_entry_list.append(\"P67938\")\n",
    "len(tp53_entry_list)"
   ]
  },
  {
   "cell_type": "markdown",
   "metadata": {},
   "source": [
    "- accessing items using index\n",
    "- accessing items by slicing"
   ]
  },
  {
   "cell_type": "code",
   "execution_count": 86,
   "metadata": {
    "collapsed": false
   },
   "outputs": [
    {
     "data": {
      "text/plain": [
       "['P41685', 'P04637', 'P67938']"
      ]
     },
     "execution_count": 86,
     "metadata": {},
     "output_type": "execute_result"
    }
   ],
   "source": [
    "tp53_entry_list[0]\n",
    "tp53_entry_list[4]\n",
    "tp53_entry_list[-1]\n",
    "tp53_entry_list[2:4]\n",
    "tp53_entry_list[:4]\n",
    "tp53_entry_list[2:]"
   ]
  },
  {
   "cell_type": "markdown",
   "metadata": {},
   "source": [
    "- sorting list alphanumerically"
   ]
  },
  {
   "cell_type": "code",
   "execution_count": 87,
   "metadata": {
    "collapsed": false
   },
   "outputs": [
    {
     "data": {
      "text/plain": [
       "['O09185', 'P04637', 'P41685', 'P67938', 'P79734']"
      ]
     },
     "execution_count": 87,
     "metadata": {},
     "output_type": "execute_result"
    }
   ],
   "source": [
    "sorted(tp53_entry_list)"
   ]
  },
  {
   "cell_type": "markdown",
   "metadata": {},
   "source": [
    "#### Exercise\n",
    "\n",
    "After sorting retry accessing items we will notice that the order of the original list has changed. Remember data types are mutable, they are overwritten.\n",
    "\n",
    "**Question:** What would you do to keep the original list but also have a list that contains items in a sorted manner? Start by creating the original list that you used one step earlier."
   ]
  },
  {
   "cell_type": "code",
   "execution_count": 89,
   "metadata": {
    "collapsed": true
   },
   "outputs": [],
   "source": [
    "tp53_entry_list = ['O09185', 'P79734', 'P41685', 'P04637', 'P67938']\n",
    "sorted_tp53_list = sorted(tp53_entry_list)"
   ]
  },
  {
   "cell_type": "markdown",
   "metadata": {},
   "source": [
    "### Looping: `for` loop\n",
    "\n",
    "1. use loop for printing each item of the list\n",
    "1. iterate by `range()`\n",
    "1. use range to access list item"
   ]
  },
  {
   "cell_type": "code",
   "execution_count": 90,
   "metadata": {
    "collapsed": false
   },
   "outputs": [
    {
     "name": "stdout",
     "output_type": "stream",
     "text": [
      "O09185\n",
      "P79734\n",
      "P41685\n",
      "P04637\n",
      "P67938\n"
     ]
    }
   ],
   "source": [
    "for entry in tp53_entry_list:\n",
    "    print(entry)"
   ]
  },
  {
   "cell_type": "code",
   "execution_count": 92,
   "metadata": {
    "collapsed": false
   },
   "outputs": [
    {
     "name": "stdout",
     "output_type": "stream",
     "text": [
      "0\n",
      "1\n",
      "2\n",
      "3\n",
      "4\n"
     ]
    }
   ],
   "source": [
    "for entry in range(5):\n",
    "    print(entry)"
   ]
  },
  {
   "cell_type": "code",
   "execution_count": 93,
   "metadata": {
    "collapsed": false
   },
   "outputs": [
    {
     "name": "stdout",
     "output_type": "stream",
     "text": [
      "O09185\n",
      "P79734\n",
      "P41685\n",
      "P04637\n",
      "P67938\n"
     ]
    }
   ],
   "source": [
    "for entry in range(5):\n",
    "    print(tp53_entry_list[entry])"
   ]
  },
  {
   "cell_type": "markdown",
   "metadata": {},
   "source": [
    "#### Summary: `for` loop\n",
    "\n",
    "- for loops can be used to repeat a block of code for each item in a list.\n",
    "- `range( )` can be used to create a list of numbers, to execute the loop a given number of times, for e.g. to access items of a list and operate on them."
   ]
  },
  {
   "cell_type": "markdown",
   "metadata": {},
   "source": [
    "### String Formatting\n",
    "\n",
    "Printing out multiple items with more information."
   ]
  },
  {
   "cell_type": "code",
   "execution_count": 94,
   "metadata": {
    "collapsed": false
   },
   "outputs": [
    {
     "name": "stdout",
     "output_type": "stream",
     "text": [
      "this is a list ['O09185', 'P79734', 'P41685', 'P04637', 'P67938']\n",
      "item in index 0 is O09185\n",
      "item in index 0 is O09185\n",
      "item in index 1 is P79734\n"
     ]
    }
   ],
   "source": [
    "print(\"this is a list\", tp53_entry_list)\n",
    "print(\"item in index\", 0, \"is\", tp53_entry_list[0])\n",
    "print(f\"item in index {0} is {tp53_entry_list[0]}\")\n",
    "print(f\"item in index {1} is {tp53_entry_list[1]}\")"
   ]
  },
  {
   "cell_type": "markdown",
   "metadata": {},
   "source": [
    "#### Exercise\n",
    "\n",
    "You've learned how to use `for` loop using `range` of list's `len( )`, and now you know how to use string formatting.\n",
    "\n",
    "Combining these concepts can you create a `for` loop that uses a command written below to print each index and the corresponding item of your list?\n",
    "\n",
    "`f\"Item in {index_number} index is {list_name[index_number]}\"`"
   ]
  },
  {
   "cell_type": "code",
   "execution_count": 95,
   "metadata": {
    "collapsed": false
   },
   "outputs": [
    {
     "name": "stdout",
     "output_type": "stream",
     "text": [
      "Item in 0 index is O09185\n",
      "Item in 1 index is P79734\n",
      "Item in 2 index is P41685\n",
      "Item in 3 index is P04637\n",
      "Item in 4 index is P67938\n"
     ]
    }
   ],
   "source": [
    "for index in range(len(tp53_entry_list)):\n",
    "    print(f\"Item in {index} index is {tp53_entry_list[index]}\")"
   ]
  },
  {
   "cell_type": "markdown",
   "metadata": {},
   "source": [
    "### Looking up items in multiple lists\n",
    "\n",
    "- Comparing two lists\n",
    "- Accessing items from multiple list using same index number in a for loop\n",
    "\n",
    "Example: \n",
    "\n",
    "- If you used the UniProt gene list from the last exercise, make another list that comprises of organism names corresponding to each gene, i.e. \"Chinese hamster\", \"Zebrafish\", \"Cat\", \"Human\", \"Zebu\".\n",
    "- How can you print each gene with its organism information? (Hint: \"TP53 gene entry of human is P04637\")"
   ]
  },
  {
   "cell_type": "code",
   "execution_count": 107,
   "metadata": {
    "collapsed": false
   },
   "outputs": [
    {
     "name": "stdout",
     "output_type": "stream",
     "text": [
      "TP53 gene entry for Chinese hamster is O09185\n",
      "TP53 gene entry for Zebrafish is P79734\n",
      "TP53 gene entry for Cat is P41685\n",
      "TP53 gene entry for Human is P04637\n",
      "TP53 gene entry for Zebu is P67938\n"
     ]
    }
   ],
   "source": [
    "tp53_entry_list = ['O09185', 'P79734', 'P41685', 'P04637', 'P67938']\n",
    "organism_list = [\"Chinese hamster\", \"Zebrafish\", \"Cat\", \"Human\", \"Zebu\"]\n",
    "\n",
    "for index_num in range(len(tp53_entry_list)):\n",
    "    print(f\"TP53 gene entry for {organism_list[index_num]} is {tp53_entry_list[index_num]}\")"
   ]
  },
  {
   "cell_type": "markdown",
   "metadata": {},
   "source": [
    "### Dictionary: `dict( )`"
   ]
  },
  {
   "cell_type": "markdown",
   "metadata": {},
   "source": [
    "#### working with dictionaries\n",
    " \n",
    "- creating empty dictionary \n",
    "- creating dictionary with key-value pairs\n",
    "- using key for looking up its value\n",
    "- manipulating values\n",
    "\n",
    "#### Example:\n",
    "\n",
    "Use gene and organism information from the previous lists.\n",
    "\n",
    "- Genes = 'O09185', 'P79734', 'P41685', 'P04637'\n",
    "- Organism = \"Chinese hamster\", \"Zebrafish\", \"Cat\", \"Human\""
   ]
  },
  {
   "cell_type": "code",
   "execution_count": 108,
   "metadata": {
    "collapsed": false
   },
   "outputs": [
    {
     "data": {
      "text/plain": [
       "'P04637'"
      ]
     },
     "execution_count": 108,
     "metadata": {},
     "output_type": "execute_result"
    }
   ],
   "source": [
    "my_dict = {}\n",
    "organism_gene_dict = {\"Chinese hamster\": 'O09185', \n",
    "                      \"Zebrafish\": 'P79734',\n",
    "                      \"Cat\": 'P41685',\n",
    "                      \"Human\": 'P04637',\n",
    "                     }\n",
    "organism_gene_dict[\"Human\"]"
   ]
  },
  {
   "cell_type": "markdown",
   "metadata": {},
   "source": [
    "#### adding or removing items\n",
    "\n",
    "- adding new key-value pair in dict\n",
    "    - example: \"Zebu\" -> 'P67938'\n",
    "- manipulating values\n",
    "- deleting certain key-value pair"
   ]
  },
  {
   "cell_type": "code",
   "execution_count": 110,
   "metadata": {
    "collapsed": false
   },
   "outputs": [
    {
     "data": {
      "text/plain": [
       "{'Cat': 'P41685',\n",
       " 'Chinese hamster': 'O09185',\n",
       " 'Human': 'P04637',\n",
       " 'Zebrafish': 'P79734'}"
      ]
     },
     "execution_count": 110,
     "metadata": {},
     "output_type": "execute_result"
    }
   ],
   "source": [
    "organism_gene_dict[\"Zebu\"] = 'P67938'\n",
    "organism_gene_dict[\"Zebu\"] = 'NA'\n",
    "del(organism_gene_dict[\"Zebu\"])\n",
    "organism_gene_dict"
   ]
  },
  {
   "cell_type": "markdown",
   "metadata": {},
   "source": [
    "#### operating on dictionary items\n",
    "\n",
    "- getting all the `.keys( )`\n",
    "- getting all the `.values( )`\n",
    "- getting all the `.items( )`"
   ]
  },
  {
   "cell_type": "code",
   "execution_count": 109,
   "metadata": {
    "collapsed": false
   },
   "outputs": [
    {
     "data": {
      "text/plain": [
       "dict_items([('Chinese hamster', 'O09185'), ('Zebrafish', 'P79734'), ('Cat', 'P41685'), ('Human', 'P04637')])"
      ]
     },
     "execution_count": 109,
     "metadata": {},
     "output_type": "execute_result"
    }
   ],
   "source": [
    "organism_gene_dict.keys()\n",
    "organism_gene_dict.values()\n",
    "organism_gene_dict.items()"
   ]
  },
  {
   "cell_type": "markdown",
   "metadata": {},
   "source": [
    "#### Summary: `Dict( )`\n",
    "\n",
    "- Dictionaries are another object data type which stores key-value pairs.\n",
    "- The `.keys( )`, `.values()` and `.items()` methods are used to get lists of the contents of a dictionary."
   ]
  },
  {
   "cell_type": "markdown",
   "metadata": {},
   "source": [
    "## Combining Python Concepts"
   ]
  },
  {
   "cell_type": "markdown",
   "metadata": {},
   "source": [
    "### Looping on `dict( )` items\n",
    "\n",
    "#### Questions\n",
    "\n",
    "- How can I get all the key value pairs one by one?\n",
    "- How can I operate on the values of each key?"
   ]
  },
  {
   "cell_type": "code",
   "execution_count": 111,
   "metadata": {
    "collapsed": false
   },
   "outputs": [
    {
     "name": "stdout",
     "output_type": "stream",
     "text": [
      "('Chinese hamster', 'O09185')\n",
      "('Zebrafish', 'P79734')\n",
      "('Cat', 'P41685')\n",
      "('Human', 'P04637')\n"
     ]
    }
   ],
   "source": [
    "for dict_item in organism_gene_dict.items():\n",
    "    print(dict_item)"
   ]
  },
  {
   "cell_type": "code",
   "execution_count": 105,
   "metadata": {
    "collapsed": false
   },
   "outputs": [
    {
     "name": "stdout",
     "output_type": "stream",
     "text": [
      "O09185\n",
      "P79734\n",
      "P41685\n",
      "P04637\n"
     ]
    }
   ],
   "source": [
    "for dict_key in organism_gene_dict.keys():\n",
    "    print(organism_gene_dict[dict_key])"
   ]
  },
  {
   "cell_type": "markdown",
   "metadata": {},
   "source": [
    "## Exercise:\n",
    "\n",
    "**Objective**: Understanding how to work with multiple dictionaries that have same set of keys but different information in their associated values.\n",
    "\n",
    "- Create another dictionary that contains organism as key (like the last dictionary), but have UniProt Entry Names associated with them.\n",
    "    - To continue using the same UniProt example, use this set of key value pairs:\n",
    "        - Chinese hamster -> P53_CRIGR\n",
    "        - Zebrafish -> P53_DANRE\n",
    "        - Cat -> P53_FELCA\n",
    "        - Human -> P53_HUMAN\n",
    "- Use for loop to access keys from one dictionary and print information from both the dictionaries.\n",
    "- Discuss where in your work such concepts will be useful."
   ]
  },
  {
   "cell_type": "code",
   "execution_count": 114,
   "metadata": {
    "collapsed": false
   },
   "outputs": [
    {
     "name": "stdout",
     "output_type": "stream",
     "text": [
      "O09185 P53_CRIGR\n",
      "P79734 P53_DANRE\n",
      "P41685 P53_FELCA\n",
      "P04637 P53_HUMAN\n"
     ]
    }
   ],
   "source": [
    "organism_entryname_dict = {\"Chinese hamster\": \"P53_CRIGR\",\n",
    "                       \"Zebrafish\": \"P53_DANRE\",\n",
    "                       \"Cat\": \"P53_FELCA\",\n",
    "                       \"Human\": \"P53_HUMAN\"\n",
    "                      }\n",
    "for up_key in organism_gene_dict:\n",
    "    print(organism_gene_dict[up_key], organism_entryname_dict[up_key])"
   ]
  }
 ],
 "metadata": {
  "kernelspec": {
   "display_name": "Python 3",
   "language": "python",
   "name": "python3"
  },
  "language_info": {
   "codemirror_mode": {
    "name": "ipython",
    "version": 3
   },
   "file_extension": ".py",
   "mimetype": "text/x-python",
   "name": "python",
   "nbconvert_exporter": "python",
   "pygments_lexer": "ipython3",
   "version": "3.6.0"
  }
 },
 "nbformat": 4,
 "nbformat_minor": 2
}
