{
 "cells": [
  {
   "cell_type": "markdown",
   "metadata": {},
   "source": [
    "# Computational Skills for Biocuration\n",
    "\n",
    "## Programming Skills with Python"
   ]
  },
  {
   "cell_type": "markdown",
   "metadata": {},
   "source": [
    "**Malvika Sharan**\n",
    "\n",
    "- email: malvika.sharan@embl.de\n",
    "- Twitter: [@MalvikaSharan](https://twitter.com/MalvikaSharan)"
   ]
  },
  {
   "cell_type": "markdown",
   "metadata": {
    "collapsed": true
   },
   "source": [
    "### Introducing example\n",
    "\n",
    "- **Uniprot example**: [\"gene:tp53 AND reviewed:yes\"](https://www.uniprot.org/uniprot/?query=gene%3ATP53+AND+reviewed%3Ayes&sort=score)"
   ]
  },
  {
   "cell_type": "markdown",
   "metadata": {},
   "source": [
    "## Recap\n",
    "\n",
    "### A few Python concepts we've seen in last webinars:\n",
    "\n",
    "- Mathematical operations\n",
    "- data type and type conversion\n",
    "- `print( )`\n",
    "- Variable assignement\n",
    "    - Use gene name from UniProt example"
   ]
  },
  {
   "cell_type": "code",
   "execution_count": null,
   "metadata": {
    "collapsed": true
   },
   "outputs": [],
   "source": []
  },
  {
   "cell_type": "markdown",
   "metadata": {
    "collapsed": true
   },
   "source": [
    "#### Using methods on variables\n",
    "\n",
    "- using methods (`.upper( )`, `.split( )` etc.)\n",
    "    - The . here indicates that the method is part of the string s, and the brackets indicate that we want to execute it. \n",
    "    - Methods simply return a transformed version of the string, which you can then store in another variable."
   ]
  },
  {
   "cell_type": "code",
   "execution_count": null,
   "metadata": {
    "collapsed": true
   },
   "outputs": [],
   "source": []
  },
  {
   "cell_type": "markdown",
   "metadata": {},
   "source": [
    "#### Some notes on variables\n",
    "\n",
    "- variables are mutable (their values can be overwritten)\n",
    "- `len(data type)`\n",
    "    - For any sequence data type, `len()` will tell us how many elements it has:\n",
    "    - Strings have length, numbers don't"
   ]
  },
  {
   "cell_type": "code",
   "execution_count": null,
   "metadata": {
    "collapsed": true
   },
   "outputs": [],
   "source": []
  },
  {
   "cell_type": "markdown",
   "metadata": {},
   "source": [
    "- creating empty list\n",
    "- creating list with items\n",
    "    - example: use UniProt entry names \"O09185\", \"P79734\", \"P41685\", \"P04637\""
   ]
  },
  {
   "cell_type": "code",
   "execution_count": null,
   "metadata": {
    "collapsed": true
   },
   "outputs": [],
   "source": []
  },
  {
   "cell_type": "markdown",
   "metadata": {},
   "source": [
    "- list method to append new item\n",
    "    - example: use UniProt entry \"P67938\"\n",
    "- getting length of the list"
   ]
  },
  {
   "cell_type": "code",
   "execution_count": null,
   "metadata": {
    "collapsed": true
   },
   "outputs": [],
   "source": []
  },
  {
   "cell_type": "markdown",
   "metadata": {},
   "source": [
    "- accessing items using index\n",
    "- accessing items by slicing"
   ]
  },
  {
   "cell_type": "code",
   "execution_count": null,
   "metadata": {
    "collapsed": true
   },
   "outputs": [],
   "source": []
  },
  {
   "cell_type": "markdown",
   "metadata": {},
   "source": [
    "- sorting list alphanumerically"
   ]
  },
  {
   "cell_type": "code",
   "execution_count": null,
   "metadata": {
    "collapsed": true
   },
   "outputs": [],
   "source": []
  },
  {
   "cell_type": "markdown",
   "metadata": {},
   "source": [
    "#### Exercise\n",
    "\n",
    "After sorting retry accessing items we will notice that the order of the original list has changed. Remember data types are mutable, they are overwritten.\n",
    "\n",
    "**Question:** What would you do to keep the original list but also have a list that contains items in a sorted manner? Start by creating the original list that you used one step earlier."
   ]
  },
  {
   "cell_type": "code",
   "execution_count": null,
   "metadata": {
    "collapsed": true
   },
   "outputs": [],
   "source": []
  },
  {
   "cell_type": "markdown",
   "metadata": {},
   "source": [
    "### Looping: `for` loop\n",
    "\n",
    "1. use loop for printing each item of the list\n",
    "1. iterate by `range()`\n",
    "1. use range to access list item"
   ]
  },
  {
   "cell_type": "code",
   "execution_count": null,
   "metadata": {
    "collapsed": true
   },
   "outputs": [],
   "source": []
  },
  {
   "cell_type": "markdown",
   "metadata": {
    "collapsed": true
   },
   "source": [
    "#### Summary: `for` loop\n",
    "\n",
    "- for loops can be used to repeat a block of code for each item in a list.\n",
    "- `range( )` can be used to create a list of numbers, to execute the loop a given number of times, for e.g. to access items of a list and operate on them."
   ]
  },
  {
   "cell_type": "markdown",
   "metadata": {},
   "source": [
    "### String Formatting\n",
    "\n",
    "Printing out multiple items with more information."
   ]
  },
  {
   "cell_type": "code",
   "execution_count": null,
   "metadata": {
    "collapsed": true
   },
   "outputs": [],
   "source": []
  },
  {
   "cell_type": "markdown",
   "metadata": {},
   "source": [
    "#### Exercise\n",
    "\n",
    "You've learned how to use `for` loop using `range` of list's `len( )`, and now you know how to use string formatting.\n",
    "\n",
    "- Combining these concepts can you create a `for` loop:\n",
    "    - that iterates by the length of the list\n",
    "    - uses a command written below to print each index and the corresponding item of your list?\n",
    "        \n",
    "        `f\"Item in {index_number} index is {list_name[index_number]}\"`"
   ]
  },
  {
   "cell_type": "code",
   "execution_count": null,
   "metadata": {
    "collapsed": true
   },
   "outputs": [],
   "source": []
  },
  {
   "cell_type": "markdown",
   "metadata": {},
   "source": [
    "### Looking up items in multiple lists\n",
    "\n",
    "- Comparing two lists\n",
    "- Accessing items from multiple list using same index number in a `for` loop\n",
    "\n",
    "Example: \n",
    "\n",
    "- If you used the UniProt gene list from the last exercise, make another list that comprises of organism names corresponding to each gene, i.e. \"Chinese hamster\", \"Zebrafish\", \"Cat\", \"Human\", \"Zebu\".\n",
    "- How can you print each gene with its organism information? \n",
    "    - Use a print statement like this: \"TP53 gene entry of human is P04637\""
   ]
  },
  {
   "cell_type": "code",
   "execution_count": null,
   "metadata": {
    "collapsed": true
   },
   "outputs": [],
   "source": []
  },
  {
   "cell_type": "markdown",
   "metadata": {},
   "source": [
    "#### Summary: `for` loop\n",
    "\n",
    "- for loops can be used to repeat a block of code for each item in a list.\n",
    "- range() can be used to create a list of numbers, and to repeat the loop for each of those numbers, to execute the loop a given number of times."
   ]
  },
  {
   "cell_type": "markdown",
   "metadata": {},
   "source": [
    "### Dictionary: `dict( )`"
   ]
  },
  {
   "cell_type": "markdown",
   "metadata": {},
   "source": [
    "#### working with dictionaries\n",
    " \n",
    "- creating empty dictionary \n",
    "- creating dictionary with key-value pairs\n",
    "- using key for looking up its value\n",
    "- manipulating values\n",
    "\n",
    "#### Example:\n",
    "\n",
    "Use gene and organism information from the previous lists.\n",
    "\n",
    "- Genes = 'O09185', 'P79734', 'P41685', 'P04637'\n",
    "- Organism = \"Chinese hamster\", \"Zebrafish\", \"Cat\", \"Human\""
   ]
  },
  {
   "cell_type": "code",
   "execution_count": null,
   "metadata": {
    "collapsed": true
   },
   "outputs": [],
   "source": []
  },
  {
   "cell_type": "markdown",
   "metadata": {},
   "source": [
    "#### adding or removing items\n",
    "\n",
    "- adding new key-value pair in dict\n",
    "    - example: \"Zebu\" -> 'P67938'\n",
    "- manipulating values\n",
    "- deleting certain key-value pair"
   ]
  },
  {
   "cell_type": "code",
   "execution_count": null,
   "metadata": {
    "collapsed": true
   },
   "outputs": [],
   "source": []
  },
  {
   "cell_type": "markdown",
   "metadata": {},
   "source": [
    "#### operating on dictionary items\n",
    "\n",
    "- getting all the `.keys( )`\n",
    "- getting all the `.values( )`\n",
    "- getting all the `.items( )`"
   ]
  },
  {
   "cell_type": "code",
   "execution_count": null,
   "metadata": {
    "collapsed": true
   },
   "outputs": [],
   "source": []
  },
  {
   "cell_type": "markdown",
   "metadata": {},
   "source": [
    "#### Summary: `Dict( )`\n",
    "\n",
    "- Dictionaries are another object data type which stores key-value pairs.\n",
    "- The `.keys( )`, `.values()` and `.items()` methods are used to get lists of the contents of a dictionary."
   ]
  },
  {
   "cell_type": "markdown",
   "metadata": {},
   "source": [
    "## Combining Python Concepts"
   ]
  },
  {
   "cell_type": "markdown",
   "metadata": {},
   "source": [
    "### Looping on `dict( )` items\n",
    "\n",
    "#### Questions\n",
    "\n",
    "- How can I get all the key value pairs one by one?\n",
    "- How can I operate on the values of each key?"
   ]
  },
  {
   "cell_type": "code",
   "execution_count": null,
   "metadata": {
    "collapsed": true
   },
   "outputs": [],
   "source": []
  },
  {
   "cell_type": "markdown",
   "metadata": {},
   "source": [
    "## Exercise:\n",
    "\n",
    "**Objective**: Understanding how to work with multiple dictionaries that have same set of keys but different information in their associated values.\n",
    "\n",
    "- Create another dictionary that contains organism as key (like the last dictionary), but have UniProt Entry Names associated with them.\n",
    "    - To continue using the same UniProt example, use this set of key value pairs:\n",
    "        - Chinese hamster -> P53_CRIGR\n",
    "        - Zebrafish -> P53_DANRE\n",
    "        - Cat -> P53_FELCA\n",
    "        - Human -> P53_HUMAN\n",
    "- Use for loop to access keys from one dictionary and print information from both the dictionaries.\n",
    "- Discuss where in your work such concepts will be useful."
   ]
  },
  {
   "cell_type": "code",
   "execution_count": null,
   "metadata": {
    "collapsed": true
   },
   "outputs": [],
   "source": []
  }
 ],
 "metadata": {
  "kernelspec": {
   "display_name": "Python 3",
   "language": "python",
   "name": "python3"
  },
  "language_info": {
   "codemirror_mode": {
    "name": "ipython",
    "version": 3
   },
   "file_extension": ".py",
   "mimetype": "text/x-python",
   "name": "python",
   "nbconvert_exporter": "python",
   "pygments_lexer": "ipython3",
   "version": "3.6.0"
  }
 },
 "nbformat": 4,
 "nbformat_minor": 2
}
