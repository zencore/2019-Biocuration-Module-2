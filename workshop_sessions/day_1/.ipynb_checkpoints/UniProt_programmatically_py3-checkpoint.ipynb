{
 "cells": [
  {
   "cell_type": "markdown",
   "metadata": {},
   "source": [
    "# UniProt, programmatically\n",
    "## Part of the series: EMBL-EBI, programmatically: take a REST from manual searches\n",
    "\n",
    "This notebook is intended to provide executable examples to go with the webinar. Code was tested in June 2017 against UniProt release 2017_06. Python version was 3.5.1\n",
    "\n",
    "## What is UniProt?\n",
    "\n",
    "The UniProt Consortium provides many protein-centric resources at the center of which is the UniProt Knowledgebase (UniProtKB). The UniProtKB is what most people refer to when they say 'UniProt'. The UniProtKB sits atop and next to other resources provided by UniProt, like the UniProt Archive (UniParc), the UniProt Refernce Clusters (UniRef), Proteomes and various supporting datasets like Keywords, Literature citations, Diseases etc.\n",
    "\n",
    "All of these resources can be explored and queried using the website [www.uniprot.org](http://www.uniprot.org). All queries run against resources are reflected in the URL, thus RESTful and open to programmatic access. Playing with the query facilities on the webiste is also a great way of learning about query fields and parameters for individual resources.\n",
    "\n",
    "In addition, (fairly) recently added (often large scale) datasets are exposed only for programmatic access via a different base URL [www.ebi.ac.uk/proteins/api](http://www.ebi.ac.uk/proteins/api) or the Proteins API for short.\n",
    "\n",
    "## RESTful endpoints exposed on www.uniprot.org\n",
    "\n",
    "Here is a list of all the RESTful endpoints exposed via the base URL http://www.uniprot.org:\n",
    "\n",
    "* UniProtKB: /uniprot/ [GET]\n",
    "* UniRef: /uniref/ [GET]\n",
    "* UniParc: /uniparc/ [GET]\n",
    "* Literature: /citations/ [GET]\n",
    "* Taxonomy: /taxonomy/ [GET]\n",
    "* Proteomes: /proteomes/ [GET]\n",
    "* Keywords: /keywords/ [GET]\n",
    "* Subcellular locations: /locations/ [GET]\n",
    "* Cross-references databases: /database/ [GET]\n",
    "* Human disease: /diseases/ [GET]\n",
    "\n",
    "In addition, there are a few tools which can also be used programmatically:\n",
    "\n",
    "* ID mapping: /uploadlists/ [GET]\n",
    "* Batch retrieval: /uploadlists/ [GET]\n",
    "\n",
    "As the UniProtKB has the most sophisticated querying facilities those will be used in the following examples. ID mapping and batch retrieval will feature, too.\n",
    "\n"
   ]
  },
  {
   "cell_type": "markdown",
   "metadata": {},
   "source": [
    "### Where to find documentation\n",
    "\n",
    "There are help pages [UniProt website](http://www.uniprot.org/help/programmatic_access). The page detailing the [query fields](http://www.uniprot.org/help/api_queries) for UniProtKB are of particular relevance as is the [page listing database codes](http://www.uniprot.org/help/api_idmapping) for mappings."
   ]
  },
  {
   "cell_type": "markdown",
   "metadata": {},
   "source": [
    "### Examples\n",
    "\n",
    "We will use a few examples to demonstrate how to use the UniProt RESTful services. Obviously, Python is the language of choice here. Only the standard library and one additional third party package, requests, will be used."
   ]
  },
  {
   "cell_type": "code",
   "execution_count": 30,
   "metadata": {
    "collapsed": true
   },
   "outputs": [],
   "source": [
    "import requests"
   ]
  },
  {
   "cell_type": "code",
   "execution_count": 31,
   "metadata": {
    "collapsed": false
   },
   "outputs": [
    {
     "data": {
      "text/plain": [
       "'2.12.4'"
      ]
     },
     "execution_count": 31,
     "metadata": {},
     "output_type": "execute_result"
    }
   ],
   "source": [
    "requests.__version__"
   ]
  },
  {
   "cell_type": "markdown",
   "metadata": {},
   "source": [
    "Define a few constants first:"
   ]
  },
  {
   "cell_type": "code",
   "execution_count": 32,
   "metadata": {
    "collapsed": true
   },
   "outputs": [],
   "source": [
    "BASE = 'http://www.uniprot.org'\n",
    "KB_ENDPOINT = '/uniprot/'\n",
    "TOOL_ENDPOINT = '/uploadlists/'"
   ]
  },
  {
   "cell_type": "markdown",
   "metadata": {},
   "source": [
    "### Example 1: querying UniProtKB"
   ]
  },
  {
   "cell_type": "markdown",
   "metadata": {},
   "source": [
    "Using the advanced query functionality on [uniprot.org](http://www.uniprot.org), we try searching for proteins from mouse that have 'polymerase alpha' in their name and are part of the reviewed dataset in UniProtKB (aka Swiss-Prot). The following search string does just that:\n",
    "\n",
    "name:\"polymerase alpha\" AND taxonomy:mus AND reviewed:yes\n",
    "\n",
    "This translates into the following URL (a few space added):\n",
    "\n",
    "http://www.uniprot.org/uniprot/?query=name  %3A%22polymerase +alpha%22+AND+ taxonomy%3Amus +AND+reviewed %3Ayes&sort=score\n",
    "\n",
    "Making a tiny modification, the above URL can be plugged straight into a script for programmatic access: we replace the bit at the end 'sort=score' with 'format=list'. The latter retrieves results as a list of (UniProt) accessions."
   ]
  },
  {
   "cell_type": "code",
   "execution_count": 33,
   "metadata": {
    "collapsed": true
   },
   "outputs": [],
   "source": [
    "# URL string is split across three lines for better readbility\n",
    "fullURL = ('http://www.uniprot.org/uniprot/?'\n",
    "           'query=name%3A%22polymerase+alpha%22+AND+taxonomy%3Amus+AND+reviewed%3Ayes&'\n",
    "           'format=list')"
   ]
  },
  {
   "cell_type": "markdown",
   "metadata": {},
   "source": [
    "In the above URL string, please note the base URL, www.uniprot.org, and the targetted REST endpoint, /uniprot/. In addition, the actual search query and the format for result retrieval are supplied in `key=value` form.\n",
    "\n",
    "Next, we will use the requests library we loaded earlier to get the results. RESTful services use a small set of verbs for communication, one of which is GET, which requests provides as the function 'get'.\n",
    "\n",
    "We provide `fullURL` as a parameter to `requests.get()` and store what's retrieved in a variable called `result`."
   ]
  },
  {
   "cell_type": "code",
   "execution_count": 34,
   "metadata": {
    "collapsed": true
   },
   "outputs": [],
   "source": [
    "result = requests.get(fullURL)"
   ]
  },
  {
   "cell_type": "markdown",
   "metadata": {},
   "source": [
    "`result` is an object which contains more than just the data we got from UniProt. We can use it to check whether the query was successful (`result.ok`) at all and, if not, which HTTP status code the server returned."
   ]
  },
  {
   "cell_type": "code",
   "execution_count": 35,
   "metadata": {
    "collapsed": false
   },
   "outputs": [
    {
     "name": "stdout",
     "output_type": "stream",
     "text": [
      "P33609\n",
      "P33611\n",
      "Q61183\n",
      "P25206\n",
      "\n"
     ]
    }
   ],
   "source": [
    "if result.ok:\n",
    "    print(result.text)\n",
    "else:\n",
    "    print('Something went wrong ', result.status_code)"
   ]
  },
  {
   "cell_type": "markdown",
   "metadata": {},
   "source": [
    "We can compare the result we got with what uniprot.org returns:"
   ]
  },
  {
   "cell_type": "code",
   "execution_count": 36,
   "metadata": {
    "collapsed": false
   },
   "outputs": [
    {
     "data": {
      "text/html": [
       "<iframe width='800' height='400' src='http://www.uniprot.org/uniprot/?query=name%3A%22polymerase+alpha%22+AND+taxonomy%3Amus+AND+reviewed%3Ayes&sort=score'>"
      ],
      "text/plain": [
       "<IPython.core.display.HTML object>"
      ]
     },
     "metadata": {},
     "output_type": "display_data"
    }
   ],
   "source": [
    "%%HTML\n",
    "<iframe width='800' height='400' src='http://www.uniprot.org/uniprot/?query=name%3A%22polymerase+alpha%22+AND+taxonomy%3Amus+AND+reviewed%3Ayes&sort=score'>"
   ]
  },
  {
   "cell_type": "markdown",
   "metadata": {},
   "source": [
    "#### Response headers can be inspected\n",
    "\n",
    "As mentioned before, `result` is an object encapsulating the response the UniProt server sent back when we asked it for data. That that object contains more than just the actual UniProt data we already made use of by checking result.ok. There is even more in the response from the server, most of which is stored in something called the header. \n",
    "\n",
    "Let's inspect the header in our `result` (it is a dictionary):"
   ]
  },
  {
   "cell_type": "code",
   "execution_count": 37,
   "metadata": {
    "collapsed": false
   },
   "outputs": [
    {
     "name": "stdout",
     "output_type": "stream",
     "text": [
      "Date: Mon, 19 Jun 2017 13:12:56 GMT\n",
      "Server: Apache-Coyote/1.1\n",
      "Vary: User-Agent\n",
      "X-Hosted-By: European Bioinformatics Institute\n",
      "Content-Type: text/plain;charset=UTF-8\n",
      "X-UniProt-Release: 2017_06\n",
      "Expires: Mon, 26 Jun 2017 13:12:57 GMT\n",
      "X-Total-Results: 4\n",
      "Access-Control-Allow-Origin: *\n",
      "Last-Modified: Wed, 07 Jun 2017 00:00:00 GMT\n",
      "Access-Control-Allow-Headers: origin, x-requested-with, content-type\n",
      "Content-Length: 28\n",
      "Keep-Alive: timeout=5, max=100\n",
      "Connection: Keep-Alive\n"
     ]
    }
   ],
   "source": [
    "for key, value in result.headers.items():\n",
    "    print('{}: {}'.format(key, value))"
   ]
  },
  {
   "cell_type": "markdown",
   "metadata": {},
   "source": [
    "Any interesting bits? How about these?\n",
    "\n",
    "'X-UniProt-Release': '2017_06' -> the current UniProt release!\n",
    "\n",
    "'X-Total-Results': '4' -> the number of returned results!"
   ]
  },
  {
   "cell_type": "markdown",
   "metadata": {},
   "source": [
    "Despite our initial success in retrieving data from uniprot.org programmatically, the whole approach was not entirely satisfactory because we had to copy the full URL containing the query from uniprot.org in the first place. Would it not be nicer to provide the query string as we would write into the search box on uniprot.org? As a reminder, the query string was:\n",
    "\n",
    "`name:\"polymerase alpha\" AND taxonomy:mus AND reviewed:yes`\n",
    "\n",
    "We can do this!\n",
    "\n",
    "All key=value parameters for the HTTP request can be provided to the `requests` module as a dictionary (which we call `payload`). The dict can then be passed to a dedicated parameter of the `requests.get()` function called `params`. \n",
    "\n",
    "While we are at it, we will also construct our RESTful endpoint from the constans `BASE` and `KB_ENDPONIT` which we defined above."
   ]
  },
  {
   "cell_type": "code",
   "execution_count": 38,
   "metadata": {
    "collapsed": false
   },
   "outputs": [
    {
     "name": "stdout",
     "output_type": "stream",
     "text": [
      "P33609\n",
      "P33611\n",
      "Q61183\n",
      "P25206\n",
      "\n"
     ]
    }
   ],
   "source": [
    "payload = {'query': 'name:\"polymerase alpha\" AND taxonomy:mus AND reviewed:yes',\n",
    "           'format': 'list'}\n",
    "\n",
    "result2 = requests.get(BASE + KB_ENDPOINT, params=payload)\n",
    "\n",
    "if result2.ok:\n",
    "    print(result2.text)\n",
    "else:\n",
    "    print('Something went wrong ', result.status_code)"
   ]
  },
  {
   "cell_type": "markdown",
   "metadata": {},
   "source": [
    "Need a diffent result format? Say, UniProt entries in plain text?\n",
    "\n",
    "Just change the value for parameter `format` to `txt`:"
   ]
  },
  {
   "cell_type": "code",
   "execution_count": 39,
   "metadata": {
    "collapsed": false,
    "scrolled": true
   },
   "outputs": [
    {
     "name": "stdout",
     "output_type": "stream",
     "text": [
      "ID   DPOLA_MOUSE             Reviewed;        1465 AA.\n",
      "AC   P33609;\n",
      "DT   01-FEB-1994, integrated into UniProtKB/Swiss-Prot.\n",
      "DT   01-JUN-1994, sequence version 2.\n",
      "DT   07-JUN-2017, entry version 149.\n",
      "D\n"
     ]
    }
   ],
   "source": [
    "payload = {'query': 'name:\"polymerase alpha\" AND taxonomy:mus AND reviewed:yes',\n",
    "           'format': 'txt'}\n",
    "\n",
    "result2 = requests.get(BASE + KB_ENDPOINT, params=payload)\n",
    "\n",
    "if result2.ok:\n",
    "    print(result2.text[:200])\n",
    "else:\n",
    "    print('Something went wrong ', result.status_code)"
   ]
  },
  {
   "cell_type": "markdown",
   "metadata": {},
   "source": [
    "#### Available data formats\n",
    "\n",
    "When querying UniProtKB, several download formats are available. \n",
    "\n",
    "* list: a list of accession numbers\n",
    "* txt: UniProt entries in plain text format\n",
    "* xml: UniProt entries in XML format\n",
    "* tab: selected fields in tabular format\n",
    "    \n",
    "    This requires another parameter, `columns`, to specify which fields are of interest.\n",
    "    \n",
    "* fasta: sequences in FASTA format\n",
    "\n",
    "    Unless used together with another parameter, `include=yes`, this only retrieves the canonical sequence, i.e., one sequence per entry.\n",
    "    \n",
    "* gff: annotated sequence features in GFF format\n",
    "* rdf: UniProt entries in RDF format\n",
    "\n",
    "In general, available formats vary with the RESTful service that is used. "
   ]
  },
  {
   "cell_type": "markdown",
   "metadata": {},
   "source": [
    "#### Using the tabular format\n",
    "\n",
    "Here is a look at the tabular format: "
   ]
  },
  {
   "cell_type": "code",
   "execution_count": 40,
   "metadata": {
    "collapsed": false
   },
   "outputs": [
    {
     "name": "stdout",
     "output_type": "stream",
     "text": [
      "Entry\tEntry name\tStatus\tProtein names\tOrganism\tEC number\tKeywords\n",
      "P33609\tDPOLA_MOUSE\treviewed\tDNA polymerase alpha catalytic subunit (EC 2.7.7.7) (DNA polymerase alpha catalytic subunit p180)\tMus musc\n"
     ]
    }
   ],
   "source": [
    "payload = {'query': 'name:\"polymerase alpha\" AND taxonomy:mus AND reviewed:yes',\n",
    "           'format': 'tab',\n",
    "           'columns': 'id,entry_name,reviewed,protein_names,organism,ec,keywords',\n",
    "           #'columns': ','.join(['id','entry_name','reviewed','protein_names',\n",
    "           #                     'organism','ec','keywords']),\n",
    "          }\n",
    "result = requests.get(BASE + KB_ENDPOINT, params=payload)\n",
    "if result.ok:\n",
    "    print(result.text[:200])\n",
    "else:\n",
    "    print('Something went wrong: ', result.status_code)"
   ]
  },
  {
   "cell_type": "markdown",
   "metadata": {},
   "source": [
    "#### Downloading FASTA-formatted sequences\n",
    "\n",
    "And here an example retrieving sequences including isoforms:"
   ]
  },
  {
   "cell_type": "code",
   "execution_count": 41,
   "metadata": {
    "collapsed": false,
    "scrolled": true
   },
   "outputs": [
    {
     "name": "stdout",
     "output_type": "stream",
     "text": [
      ">sp|P33609|DPOLA_MOUSE DNA polymerase alpha catalytic subunit OS=Mus musculus GN=Pola1 PE=1 SV=2\n",
      "MAPMHEEDCKLEASAVSDSGSFAASRARREKKSKKGRQEALERLKKAKAGEKYKYEVEDL\n",
      "TSVYEEVDEEQYSKLVQARQDDDWIVDDDGIGYVEDGREIFD\n"
     ]
    }
   ],
   "source": [
    "payload = {'query': 'name:\"polymerase alpha\" AND taxonomy:mus AND reviewed:yes',\n",
    "           'format': 'fasta',\n",
    "           # comment the following line to exclude isoforms\n",
    "           'include': 'yes',\n",
    "          }\n",
    "result = requests.get(BASE + KB_ENDPOINT, params=payload)\n",
    "if result.ok:\n",
    "    print(result.text[:200])\n",
    "else:\n",
    "    print('Something went wrong: ', result.status_code)"
   ]
  },
  {
   "cell_type": "markdown",
   "metadata": {},
   "source": [
    "#### What happens when a nonsensical query is launched?\n",
    "\n",
    "In the examples above, an `if - else` statement was used to react to the server response not being OK. If all is well, the server returns code 200 which we test in `if result.ok`. If the server encountered an error, a different code would be returned and handled in the `else` statement. Note, however, that a nonsensical query returning zero hits would still be OK from the server's point of view - `result.text` would be empty though. \n",
    "\n",
    "We can demonstrate this. Re-using the code downloading FASTA-formatted sequences from above, we introduce a deliberate typo, plymerase, in the query so that we are unlikely to get any results (unless, say, a TrEMBL sequence has the exact same typo in its name). An extra `print` statement provides feedback:"
   ]
  },
  {
   "cell_type": "code",
   "execution_count": 42,
   "metadata": {
    "collapsed": false
   },
   "outputs": [
    {
     "name": "stdout",
     "output_type": "stream",
     "text": [
      "Server response was OK, code 200\n",
      "\n"
     ]
    }
   ],
   "source": [
    "baseURL = 'http://www.uniprot.org/uniprot/'\n",
    "payload = {'query': 'name:\"plymerase alpha\" AND taxonomy:mus AND reviewed:yes',\n",
    "           'format': 'fasta',\n",
    "           # comment the following line to exclude isoforms\n",
    "           'include': 'yes',\n",
    "          }\n",
    "result = requests.get(baseURL, params=payload)\n",
    "if result.ok:\n",
    "    print('Server response was OK, code {}'.format(result.status_code))\n",
    "    print(result.text[:200])\n",
    "else:\n",
    "    print('Something went wrong: ', result.status_code)"
   ]
  },
  {
   "cell_type": "markdown",
   "metadata": {},
   "source": [
    "### Example 2: Mapping database identifiers\n",
    "\n",
    "As mentioned earlier, there is a RESTful service for mapping database identifiers. It is exposed via the following base URL: `http://www.uniprot.org/uploadlists/`.\n",
    "\n",
    "What does it allow us to do?\n",
    "\n",
    "* map a UniProt accession to another database identifier\n",
    "* map other database identifiers to a UniProt accession\n",
    "* retrieve many UniProt entries in one go (by mapping from UniProt to UniProt)\n",
    "* ~~map some DB identifier to another DB identifier directly~~\n",
    "* map identifiers from DB_1 to DB_2 via UniProt accessions\n",
    "\n",
    "As an example, we will map a set of PDB identifiers to ENSEMBL ones via UniProt accessions. In order to do this we have to step up our Python a tiny bit and write a function. This will allow us to re-use code and chain two calls to the mapping service."
   ]
  },
  {
   "cell_type": "code",
   "execution_count": 43,
   "metadata": {
    "collapsed": true
   },
   "outputs": [],
   "source": [
    "def map_retrieve(ids2map, source_fmt='ACC+ID',\n",
    "                 target_fmt='ACC', output_fmt='list'):\n",
    "    '''Map database identifiers from/to UniProt accessions.\n",
    "    \n",
    "    The mapping is achieved using the RESTful mapping service provided by\n",
    "    UniProt. While a great many identifiers can be mapped the documentation\n",
    "    has to be consulted to check which options there are and what the database\n",
    "    codes are. Mapping UniProt to UniProt effectlvely allows batch retrieval\n",
    "    of entries.\n",
    "    \n",
    "    Args:\n",
    "        ids2map (list or string): identifiers to be mapped\n",
    "        source_fmt (str, optional): format of identifiers to be mapped.\n",
    "            Defaults to ACC+ID, which are UniProt accessions or IDs.\n",
    "        target_fmt (str, optional): desired identifier format. Defaults\n",
    "            to ACC, which is UniProt accessions.\n",
    "        output_fmt (str, optional): return format of data. Defaults to list.\n",
    "        \n",
    "    Returns:\n",
    "        mapped identifiers (str)\n",
    "    '''\n",
    "    if hasattr(ids2map, 'pop'):\n",
    "        ids2map = ' '.join(ids2map)\n",
    "    payload = {'from': source_fmt,\n",
    "               'to': target_fmt,\n",
    "               'format': output_fmt,\n",
    "               'query': ids2map,\n",
    "               }\n",
    "    response = requests.get(BASE + TOOL_ENDPOINT, params=payload)\n",
    "    if response.ok:\n",
    "        return response.text\n",
    "    else:\n",
    "        response.raise_for_status()"
   ]
  },
  {
   "cell_type": "markdown",
   "metadata": {},
   "source": [
    "The function name, `map_retrieve`, was chosen arbitrarily. The function takes a number of parameters as detailed in the docstring. The function returns data as a string; this could be done differently, of course.\n",
    "\n",
    "Let's use it!"
   ]
  },
  {
   "cell_type": "code",
   "execution_count": 44,
   "metadata": {
    "collapsed": false
   },
   "outputs": [
    {
     "name": "stdout",
     "output_type": "stream",
     "text": [
      "Q13625\n",
      "O60502\n",
      "P04637\n",
      "Q04887\n",
      "\n"
     ]
    }
   ],
   "source": [
    "pdb_ids = ['1YCS', '2AC0', '5UN8', '4S2Q']\n",
    "uniprot_acc = map_retrieve(pdb_ids, source_fmt='PDB_ID')\n",
    "print(uniprot_acc)"
   ]
  },
  {
   "cell_type": "markdown",
   "metadata": {},
   "source": [
    "Now that we have UniProt accession corresponding to the PDB identifiers, we can use the former as input to yet another mapping call, this time retrieving ENSEMBL identifiers:"
   ]
  },
  {
   "cell_type": "code",
   "execution_count": 45,
   "metadata": {
    "collapsed": false
   },
   "outputs": [
    {
     "name": "stdout",
     "output_type": "stream",
     "text": [
      "ENSG00000141510\n",
      "ENSG00000143514\n",
      "ENSG00000198408\n",
      "ENSMUSG00000000567\n",
      "\n"
     ]
    }
   ],
   "source": [
    "# .strip().split() is used to transform the string of accessions \n",
    "# into a Python list.\n",
    "ensembl = map_retrieve(uniprot_acc.strip().split(), target_fmt='ENSEMBL_ID')\n",
    "print(ensembl)"
   ]
  },
  {
   "cell_type": "markdown",
   "metadata": {},
   "source": [
    "And we are done with the mapping."
   ]
  },
  {
   "cell_type": "markdown",
   "metadata": {},
   "source": [
    "## RESTful endpoints exposed via the Proteins API\n",
    "\n",
    "There are many RESTful endpoints exposed via the base URL [www.ebi.ac.uk/proteins/api](http://www.ebi.ac.uk/proteins/api). The page also provides the documentation of the various services and it does that in an interactive manner. All the induvidual RESTful services can be explored and played with while reading the documentation. This makes learning to use them quite easy and fewer examples are needed.\n",
    "\n",
    "Here is a view of the page:"
   ]
  },
  {
   "cell_type": "code",
   "execution_count": 46,
   "metadata": {
    "collapsed": false
   },
   "outputs": [
    {
     "data": {
      "text/html": [
       "<iframe width='800' height='400' src='http://www.ebi.ac.uk/proteins/api/doc'>"
      ],
      "text/plain": [
       "<IPython.core.display.HTML object>"
      ]
     },
     "metadata": {},
     "output_type": "display_data"
    }
   ],
   "source": [
    "%%HTML\n",
    "<iframe width='800' height='400' src='http://www.ebi.ac.uk/proteins/api/doc'>"
   ]
  },
  {
   "cell_type": "markdown",
   "metadata": {},
   "source": [
    "### Example 3: Searching for proteomics peptides\n",
    "\n",
    "Just one example here to illustrate how one of the proteomics endpoints can be used to map a set of peptides like they could be generated by a proteomics experiment to UniProt entries. The endpoint we are talking about here is `http://www.ebi.ac.uk/proteins/api/proteomics`. Find this in the page above, set `Response Content Type` to json, paste these two peptides - rvlslgr,ldeafefvk - into the field for parameter `peptide` and then click the button `Try it out!`.\n",
    "\n",
    "Various bits will be displayed then - the `Response Body`, a `Request URL` and also some `Request sample Code`. For the latter, there is a tab called `Python`. I copied the code from it below."
   ]
  },
  {
   "cell_type": "code",
   "execution_count": 47,
   "metadata": {
    "collapsed": false,
    "scrolled": false
   },
   "outputs": [
    {
     "name": "stdout",
     "output_type": "stream",
     "text": [
      "[{\"accession\":\"P28562\",\"entryName\":\"DUS1_HUMAN\",\"s\n"
     ]
    }
   ],
   "source": [
    "# This we already imported earlier\n",
    "#import requests\n",
    "import sys\n",
    "\n",
    "# wrapped the string for better readability\n",
    "requestURL = (\"https://www.ebi.ac.uk/proteins/api/proteomics\"\n",
    "              \"?offset=0&size=100&peptide=rvlslgr%2Cldeafefvk\")\n",
    "\n",
    "r = requests.get(requestURL, headers={ \"Accept\" : \"application/json\"})\n",
    "\n",
    "if not r.ok:\n",
    "  r.raise_for_status()\n",
    "  sys.exit()\n",
    "\n",
    "responseBody = r.text[:50]\n",
    "print(responseBody)"
   ]
  },
  {
   "cell_type": "markdown",
   "metadata": {},
   "source": [
    "In order to make the code reusable we could write a function etc. For now, we will just modify it so that the value for parameter `peptide` can be provided in a nicer way. We also provide the base URL and the endpoint as constant to highlight the modular structure."
   ]
  },
  {
   "cell_type": "code",
   "execution_count": 48,
   "metadata": {
    "collapsed": false
   },
   "outputs": [
    {
     "name": "stdout",
     "output_type": "stream",
     "text": [
      "[{\"accession\":\"P28562\",\"entryName\":\"DUS1_HUMAN\",\"s\n"
     ]
    }
   ],
   "source": [
    "PROTEINS_BASE = 'https://www.ebi.ac.uk/proteins/api'\n",
    "PROTEOMICS_ENDPOINT = '/proteomics'\n",
    "\n",
    "payload = {'peptide': 'rvlslgr,ldeafefvk'}\n",
    "# If starting from a Python list:\n",
    "#payload = {'peptide': ','.join(['rvlslgr', 'ldeafefvk'])}\n",
    "\n",
    "r = requests.get(PROTEINS_BASE + PROTEOMICS_ENDPOINT, params=payload, headers={ \"Accept\" : \"application/json\"})\n",
    "\n",
    "if not r.ok:\n",
    "  r.raise_for_status()\n",
    "  sys.exit()\n",
    "\n",
    "responseBody = r.text[:50]\n",
    "print(responseBody)"
   ]
  }
 ],
 "metadata": {
  "kernelspec": {
   "display_name": "Python 3",
   "language": "python",
   "name": "python3"
  },
  "language_info": {
   "codemirror_mode": {
    "name": "ipython",
    "version": 3
   },
   "file_extension": ".py",
   "mimetype": "text/x-python",
   "name": "python",
   "nbconvert_exporter": "python",
   "pygments_lexer": "ipython3",
   "version": "3.6.0"
  }
 },
 "nbformat": 4,
 "nbformat_minor": 2
}
