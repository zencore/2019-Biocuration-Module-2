{
 "cells": [
  {
   "cell_type": "markdown",
   "metadata": {},
   "source": [
    "# Computational Skills for Biocuration\n",
    "\n",
    "## Programming Skills with Python"
   ]
  },
  {
   "cell_type": "markdown",
   "metadata": {},
   "source": [
    "**Toby Hodges**\n",
    "\n",
    "- email: toby.hodges@embl.de\n",
    "- Twitter: [@tbyhdgs](https://twitter.com/tbyhdgs)\n",
    "- GitHub: [tobyhodges](https://github.com/tobyhodges)\n",
    "\n",
    "Alongside Malvika, I coordinate the [Bio-IT Project](https://bio-it.embl.de) at EMBL Heidelberg. You can find more training material, for Python and other tools, on our [Course Materials](https://bio-it.embl.de/course-materials/) webpage."
   ]
  },
  {
   "cell_type": "markdown",
   "metadata": {},
   "source": [
    "### Functions"
   ]
  },
  {
   "cell_type": "markdown",
   "metadata": {},
   "source": [
    "We have started to combine multiple operations into more complex procedures. For example, if we want to find all the species of a particular genus in a list of names then create a comma-separated sting of these species names, we might write something like this:"
   ]
  },
  {
   "cell_type": "code",
   "execution_count": null,
   "metadata": {
    "collapsed": true
   },
   "outputs": [],
   "source": [
    "species_list1 = ['Gorilla gorrila', 'Homo neandathalensis', \n",
    "                 'Pan troglodytes', 'Pongo pygmaeus', \n",
    "                 'Homo sapiens', 'Homo heidelbergensis']\n"
   ]
  },
  {
   "cell_type": "markdown",
   "metadata": {},
   "source": [
    "What if we want to be able to execute this procedure on-demand, in multiple different locations in our code, with different genera, different lists of different species? We could copy & paste the block of code then make the edits..."
   ]
  },
  {
   "cell_type": "code",
   "execution_count": null,
   "metadata": {
    "collapsed": true
   },
   "outputs": [],
   "source": [
    "species_list2 = ['Pieris rapae', 'Pygoscelis adeliae', \n",
    "                 'Aptenodytes forsteri', 'Equus equus', \n",
    "                 'Pygoscelis papua', 'Enhydra lutris', \n",
    "                 'Pygoscelis antarcticus']\n"
   ]
  },
  {
   "cell_type": "markdown",
   "metadata": {},
   "source": [
    "Functions offer us a better way."
   ]
  },
  {
   "cell_type": "code",
   "execution_count": null,
   "metadata": {
    "collapsed": true
   },
   "outputs": [],
   "source": []
  },
  {
   "cell_type": "code",
   "execution_count": null,
   "metadata": {
    "collapsed": true
   },
   "outputs": [],
   "source": []
  },
  {
   "cell_type": "code",
   "execution_count": null,
   "metadata": {
    "collapsed": true
   },
   "outputs": [],
   "source": []
  },
  {
   "cell_type": "code",
   "execution_count": null,
   "metadata": {
    "collapsed": true
   },
   "outputs": [],
   "source": [
    "# use docstrings to tell your users (and to remind yourself):\n",
    "#   - what a function does\n",
    "#   - how to use it\n"
   ]
  },
  {
   "cell_type": "code",
   "execution_count": null,
   "metadata": {
    "collapsed": true
   },
   "outputs": [],
   "source": []
  },
  {
   "cell_type": "markdown",
   "metadata": {},
   "source": [
    "What will the output be if the following block of code is run?\n",
    "\n",
    "```Python\n",
    "def greet(name):\n",
    "    output = 'Hello, ' + name\n",
    "    return output\n",
    "    print('goodbye')\n",
    "greeting = greet('Abby')\n",
    "print(greeting)\n",
    "```\n",
    "\n",
    "a)\n",
    "```\n",
    "goodbye\n",
    "Hello, Abby\n",
    "```\n",
    "\n",
    "b)\n",
    "```\n",
    "Hello, Abby\n",
    "goodbye\n",
    "```\n",
    "\n",
    "c)\n",
    "```\n",
    "Hello, Abby\n",
    "```\n",
    "\n",
    "d)\n",
    "```\n",
    "goodbye\n",
    "```"
   ]
  },
  {
   "cell_type": "code",
   "execution_count": null,
   "metadata": {
    "collapsed": true
   },
   "outputs": [],
   "source": []
  }
 ],
 "metadata": {
  "kernelspec": {
   "display_name": "Python 3",
   "language": "python",
   "name": "python3"
  },
  "language_info": {
   "codemirror_mode": {
    "name": "ipython",
    "version": 3
   },
   "file_extension": ".py",
   "mimetype": "text/x-python",
   "name": "python",
   "nbconvert_exporter": "python",
   "pygments_lexer": "ipython3",
   "version": "3.6.0"
  }
 },
 "nbformat": 4,
 "nbformat_minor": 2
}
