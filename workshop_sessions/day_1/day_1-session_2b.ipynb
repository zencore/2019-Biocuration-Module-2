{
 "cells": [
  {
   "cell_type": "markdown",
   "metadata": {},
   "source": [
    "# Sets in Python\n",
    "\n",
    "According to Wikipedia: \"... a set is a collection of distinct objects ... \"\n",
    "\n",
    "A better (slightly?) better definition:\n",
    "\n",
    "* A collection of items similar to a `list`\n",
    "* Without any fixed order\n",
    "* Without any duplicates"
   ]
  },
  {
   "cell_type": "code",
   "execution_count": null,
   "metadata": {},
   "outputs": [],
   "source": [
    "# Demo time!"
   ]
  },
  {
   "cell_type": "markdown",
   "metadata": {},
   "source": [
    "Similar to **lists** in Python, which have an `.append` method to add items **sets** have:\n",
    "\n",
    "* `.add` Adds an element to the set\n",
    "\n"
   ]
  },
  {
   "cell_type": "code",
   "execution_count": null,
   "metadata": {},
   "outputs": [],
   "source": [
    "# Demo time!"
   ]
  },
  {
   "cell_type": "markdown",
   "metadata": {},
   "source": [
    "Sets are visually representable as **Venn Diagrams**, and may of the operations you can do on **sets** are better visualized using a **Venn Diagram**\n",
    "\n",
    "<img src=\"../../images/venn_diagram.png\" width=\"700\"></img>"
   ]
  },
  {
   "cell_type": "code",
   "execution_count": null,
   "metadata": {},
   "outputs": [],
   "source": [
    "# demo time!"
   ]
  },
  {
   "cell_type": "markdown",
   "metadata": {},
   "source": [
    "### Exercise\n",
    "\n",
    "In the previous section, we created a short script to build a list of shopping items without any duplicates. Lets do the same exercise, this time using **sets**.\n",
    "\n",
    "* Fill in the blanks below to create a list of shopping items, without duplicates:"
   ]
  },
  {
   "cell_type": "code",
   "execution_count": null,
   "metadata": {},
   "outputs": [],
   "source": [
    "# Debugging time!\n",
    "shopping = {'bread', 'potatoes', 'eggs', 'flour', 'rubber duck', 'pizza', 'milk'}\n",
    "extrashopping = {'cheese', 'flour', 'eggs', 'spaghetti', 'sausages', 'bread'}\n",
    "\n",
    "final_shopping = ---\n",
    "\n",
    "print(final_shopping) "
   ]
  }
 ],
 "metadata": {
  "kernelspec": {
   "display_name": "Python 3",
   "language": "python",
   "name": "python3"
  },
  "language_info": {
   "codemirror_mode": {
    "name": "ipython",
    "version": 3
   },
   "file_extension": ".py",
   "mimetype": "text/x-python",
   "name": "python",
   "nbconvert_exporter": "python",
   "pygments_lexer": "ipython3",
   "version": "3.7.1"
  }
 },
 "nbformat": 4,
 "nbformat_minor": 1
}
