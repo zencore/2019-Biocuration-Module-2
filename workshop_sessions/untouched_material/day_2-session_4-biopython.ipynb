{
 "cells": [
  {
   "cell_type": "markdown",
   "metadata": {},
   "source": [
    "# Computational Skills for Biocuration\n",
    "\n",
    "## Programming Skills with Python"
   ]
  },
  {
   "cell_type": "markdown",
   "metadata": {},
   "source": [
    "**UniProt Example**: [Human TP53 Fasta file](https://www.uniprot.org/uniprot/Q53FA7.fasta)\n",
    "    - Download the fasta file for human TP53 locally and save it as 'Q53FA7.fasta'\n",
    "    - Download the fasta file for all TP53 and save the file as 'uniprot-gene_tp53.fasta'"
   ]
  },
  {
   "cell_type": "markdown",
   "metadata": {},
   "source": [
    "## Introduction to Biopython\n",
    "\n",
    "The [Biopython](http://biopython.org/DIST/docs/tutorial/Tutorial.html) project is a collaborative effort of developer who create free Open Source [Python](https://www.python.org) tools for computational molecular biology. \n",
    "\n",
    "We will use Bio.SeqIO module of Biopython, which provides a uniform interface to input and output (read, write and index) different sequence file formats. \n",
    "\n",
    "Let's start by loading Biopython's SeqIO module with the import command:"
   ]
  },
  {
   "cell_type": "code",
   "execution_count": null,
   "metadata": {},
   "outputs": [],
   "source": [
    "from Bio import SeqIO"
   ]
  },
  {
   "cell_type": "markdown",
   "metadata": {},
   "source": [
    "- `SeqIO.read()` takes a file handle and format name, and returns a \"SeqRecord iterator\" that can give information about the sequence such as `.id` and `.seq`.\n",
    "\n",
    "\n",
    "- Test it to read 'Q53FA7.fasta'."
   ]
  },
  {
   "cell_type": "code",
   "execution_count": null,
   "metadata": {},
   "outputs": [],
   "source": []
  },
  {
   "cell_type": "markdown",
   "metadata": {},
   "source": [
    "- `SeqIO.parse` can read a fasta file that contains multiple sequences.\n",
    "- Use `for` loop to read every record from the file.\n",
    "- Test it to read 'uniprot-gene_tp53.fasta'."
   ]
  },
  {
   "cell_type": "code",
   "execution_count": null,
   "metadata": {},
   "outputs": [],
   "source": []
  },
  {
   "cell_type": "markdown",
   "metadata": {},
   "source": [
    "If you want to read only the first record, you can use the python function `next(SeqIO.parse(...))`:"
   ]
  },
  {
   "cell_type": "code",
   "execution_count": null,
   "metadata": {},
   "outputs": [],
   "source": []
  },
  {
   "cell_type": "markdown",
   "metadata": {},
   "source": [
    "#### Reading entries into a list\n",
    "\n",
    "- You can also read the file containing multiple sequences using python function list (`list(SeqIO.parse(...))`)\n",
    "- You can read the different entries using list index (e.g. `record_list[0]` to read the first entry)."
   ]
  },
  {
   "cell_type": "code",
   "execution_count": null,
   "metadata": {},
   "outputs": [],
   "source": []
  },
  {
   "cell_type": "markdown",
   "metadata": {},
   "source": [
    "#### Exercise:\n",
    "\n",
    "Expand your code to read `.name` and `.description` of the entry in your file."
   ]
  },
  {
   "cell_type": "code",
   "execution_count": null,
   "metadata": {},
   "outputs": [],
   "source": []
  },
  {
   "cell_type": "markdown",
   "metadata": {},
   "source": [
    "#### Connecting with biological databases\n",
    "\n",
    "In bioinformatics we have to extract information from biological databases to avoid repetitive task of manually downloading files. In Biopython some on-line databases available from Python scripts. There are many ways to access UniProt and NCBI database, here we will use `Entrez` module of Biopython.\n",
    "\n",
    "- Hints:\n",
    "    - Import Entrez module: `from Bio import Entrez`\n",
    "    - You should provide your email: `Entrez.email = \"\"`\n",
    "    - Use the example UniProt ID for Dog TP53: Q29537"
   ]
  },
  {
   "cell_type": "code",
   "execution_count": null,
   "metadata": {},
   "outputs": [],
   "source": []
  },
  {
   "cell_type": "markdown",
   "metadata": {},
   "source": [
    "#### Sequence Output\n",
    "\n",
    "`SeqIO.write( )` takes a sequence record (or list), output handle (or filename) and format string ('fasta' in this case):\n",
    "\n",
    "- Syntax:\n",
    "\n",
    "    ```\n",
    "    SeqIO.write(record, filename, \"fasta\")\n",
    "    ```"
   ]
  },
  {
   "cell_type": "code",
   "execution_count": null,
   "metadata": {},
   "outputs": [],
   "source": []
  },
  {
   "cell_type": "markdown",
   "metadata": {},
   "source": [
    "### Accessing more than one entries\n",
    "\n",
    "#### Execise:\n",
    "\n",
    "Given a list of UniProt Ids, how will you access multiple entries?\n",
    "\n",
    "- List of protein IDs: Q9WUR6, P61260, \tP02340, Q9TUB2"
   ]
  },
  {
   "cell_type": "code",
   "execution_count": null,
   "metadata": {},
   "outputs": [],
   "source": []
  },
  {
   "cell_type": "markdown",
   "metadata": {},
   "source": [
    "We have only been working with fasta files, but there are more ways to work with different modules of BioPython to fetch files of different formats. You can have a look at the official [BioPython Documentation](http://biopython.org/DIST/docs/tutorial/Tutorial.html#htoc14) for more after the course.\n",
    "\n",
    "#### Reading entries into a dictionary\n",
    "\n",
    "- You can index your records (values) by identifiers (keys). \n",
    "- `SeqIO.to_dict(SeqIO.parse(...))` turns a SeqRecord iterator (or list) into a dictionary (in memory)."
   ]
  },
  {
   "cell_type": "code",
   "execution_count": null,
   "metadata": {},
   "outputs": [],
   "source": []
  },
  {
   "cell_type": "markdown",
   "metadata": {},
   "source": [
    "#### Exercise\n",
    "\n",
    "- Print out all the unique keys (ids).\n",
    "- Check the value of `sp|Q53FA7|QORX_HUMAN`."
   ]
  },
  {
   "cell_type": "code",
   "execution_count": null,
   "metadata": {},
   "outputs": [],
   "source": []
  },
  {
   "cell_type": "markdown",
   "metadata": {},
   "source": [
    "- It is not ideal to hold everything in memory when dealing with larger files.\n",
    "- `SeqIO.index` provides an indexing approach providing dictionary like access to any record."
   ]
  },
  {
   "cell_type": "code",
   "execution_count": null,
   "metadata": {},
   "outputs": [],
   "source": []
  },
  {
   "cell_type": "markdown",
   "metadata": {},
   "source": [
    "...but index gives us limited ability to explore data. You will see how to fetch data from databases in next sessions."
   ]
  },
  {
   "cell_type": "markdown",
   "metadata": {},
   "source": [
    "Check this [workshop by Peter Cock](https://github.com/peterjc/biopython_workshop) for futher lessons."
   ]
  }
 ],
 "metadata": {
  "kernelspec": {
   "display_name": "Python 3",
   "language": "python",
   "name": "python3"
  },
  "language_info": {
   "codemirror_mode": {
    "name": "ipython",
    "version": 3
   },
   "file_extension": ".py",
   "mimetype": "text/x-python",
   "name": "python",
   "nbconvert_exporter": "python",
   "pygments_lexer": "ipython3",
   "version": "3.6.6"
  }
 },
 "nbformat": 4,
 "nbformat_minor": 2
}
