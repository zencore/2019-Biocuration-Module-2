{
 "cells": [
  {
   "cell_type": "markdown",
   "metadata": {},
   "source": [
    "# 2019 Biocuration EBI - Final Assessment\n",
    "\n",
    "This assesment will test your skill in using Python to fetch, process, analyse and display data from **Ensembl**."
   ]
  },
  {
   "cell_type": "markdown",
   "metadata": {},
   "source": [
    "## Overview\n",
    "\n",
    "The assessment is divided into four parts, each containing one or more _tasks_.\n",
    "\n",
    "1. [Reading files and writing files](#part1): this part will test your understanding of how to __access and extract__ relevant information from a biological data file (3 tasks).\n",
    "2. [Filtering with Ensembl REST API](#part2): this part measures your understanding of using Python to programmatically __query and download__ data from online databases/resources (2 tasks).\n",
    "3. [Aggregating Pathway Information from a Database](#part3): this part tests your ability to construct and __execute valid queries__ of a local database using _SQL_ and _sqlite_ (1 task).\n",
    "4. [Visualizing the Results](#part4): the final part tests your ability to __create summary plots__ of the data that you've collected (1 task).\n",
    "    \n",
    "All parts/tasks will test your ability to:\n",
    "\n",
    "- read Python code\n",
    "- work with variables, functions, modules, and different data types\n",
    "- and construct well-organised, syntactically-valid code that can be easily maintained"
   ]
  },
  {
   "cell_type": "markdown",
   "metadata": {},
   "source": [
    "## Exercise\n",
    "\n",
    "You have been given a list of proteins which came up in a screen of human proteins that responded to a newly tested drug being developed by your collaborators. Those collaborators have turned to you, as someone familiar with programming in Python, and would like you to help them with two specific tasks:\n",
    "\n",
    "1. __Filter__ the list of genes to include only those with orthologs in Mouse (which will be used for follow up testing the lab)\n",
    "2. Predict which __biological pathways__ may be affected by this drug"
   ]
  },
  {
   "cell_type": "markdown",
   "metadata": {},
   "source": [
    "<a id='part1'><h2>Part 1: Reading files and writing to files</h2></a>"
   ]
  },
  {
   "cell_type": "markdown",
   "metadata": {},
   "source": [
    "You were given the results of the screen as a FASTA file of protein sequences, `Screen_results.fa`."
   ]
  },
  {
   "cell_type": "code",
   "execution_count": 2,
   "metadata": {
    "collapsed": true
   },
   "outputs": [],
   "source": [
    "SCREEN_RESULTS_FILE = \"Screen_results.fa\""
   ]
  },
  {
   "cell_type": "markdown",
   "metadata": {},
   "source": [
    "In this file, each fasta sequence has an __Ensembl gene ID__ as part of their headers, which looks like this:\n",
    "\n",
    "```\n",
    ">ENSP00000487941.1 pep chromosome:GRCh38:7:142786213:142786224:1 gene:ENSG00000282431.1 transcript:ENST00000632684.1 gene_biotype:TR_D_gene transcript_biotype:TR_D_gene gene_symbol:TRBD1 description:T cell receptor beta diversity 1 [Source:HGNC Symbol;Acc:HGNC:12158]\n",
    "```\n",
    "\n",
    "Although the header is very long, the Ensembl Gene ID is only the small part of it beginning with \"ENSG\", and excluding the contents after the \".\" (`ENSG00000282431` in the example above.)\n",
    "\n",
    "A colleague has written the code below, which reads the FASTA file and extracts the gene IDs from the header of each sequence. "
   ]
  },
  {
   "cell_type": "code",
   "execution_count": 3,
   "metadata": {},
   "outputs": [],
   "source": [
    "gid_list = []\n",
    "with open(SCREEN_RESULTS_FILE, 'r') as fh:\n",
    "    for line in fh.readlines():\n",
    "        if line.startswith('>'):\n",
    "            header = line.strip()\n",
    "            header_fields = header.split()\n",
    "            for field in header_fields:\n",
    "                if field.startswith('gene:'):\n",
    "                    gid = field[5:].split('.')[0]\n",
    "                    gid_list.append(gid)"
   ]
  },
  {
   "cell_type": "markdown",
   "metadata": {},
   "source": [
    "This piece of code works alright. However, you know that this is a process you're likely to want to repeat many more times in the future so it would be more sensible to encapsulate as a function.\n",
    "\n",
    "### Task 1.1\n",
    "\n",
    "__Complete the code in the block below to define a function__, `read_ensembl_ids`, which takes any FASTA file (for e.g. `SCREEN_RESULTS_FILE` in the code above) as input and return a list of gene IDs (for e.g. `gid_list` in the code above) taken from the sequence headers inside that file.\n",
    "\n",
    "You should be able to get the returned list by using this line of code:\n",
    "\n",
    "```python\n",
    "gid_list = read_ensembl_ids(SCREEN_RESULTS_FILE)\n",
    "```\n",
    "\n",
    "Fill in the blanks in the code below. \n",
    "\n",
    "__A note on the assessment format__: Here and throughout the assessment, you are given template blocks of Python with blanks shown by placeholders (`...` and `+++`) which you should replace with your own working Python code.\n",
    " - `...` should be replaced by a single element of code. For example, these elements might be:\n",
    "   - a function or variable name (e.g. `print`, `requests.get`, `listname.append`, etc)\n",
    "   - a keyword (`for`, `in`, etc)\n",
    "   - or an operator (`=`, `+`, etc)\n",
    " - `+++` should be replaced by _at least one_ complete line(s) of code"
   ]
  },
  {
   "cell_type": "code",
   "execution_count": null,
   "metadata": {
    "collapsed": true
   },
   "outputs": [],
   "source": [
    "# %load code_snippets/task_1_1.py\n",
    "\n",
    "def read_ensembl_ids(...):\n",
    "    +++\n",
    "    return ...\n",
    "\n",
    "gid_list = read_ensembl_ids(SCREEN_RESULTS_FILE)"
   ]
  },
  {
   "cell_type": "markdown",
   "metadata": {},
   "source": [
    "### Task 1.2\n",
    "\n",
    "1. Define a function that __writes all entries of a list to a file__. \n",
    "2. Call this function to write each entry of `gid_list` (from Task 1.1) to a file \"GeneIDs.txt\" in any order.\n",
    "\n",
    "Fill in the blanks (`+++`) in the code below to complete the task.\n",
    "\n",
    "**Reminder:** A docstring is written inside three quotes (e.g.`''' write your doctring here '''`) as the first statement of the function, and explains what your function does (its input, output, etc). This is useful as it gets printed when the `help` is used on the function."
   ]
  },
  {
   "cell_type": "code",
   "execution_count": null,
   "metadata": {
    "collapsed": true
   },
   "outputs": [],
   "source": [
    "# %load code_snippets/task_1_2.py\n",
    "def write_list_to_file(list_to_write, filename):\n",
    "    '''\n",
    "    Save the contents of a list, one entry per line, to a file.\n",
    "\n",
    "    Arguments:\n",
    "    - list_to_write:     a list of Ensembl Gene identifiers.\n",
    "    - filename:          name of the file where the gene identifiers are stored.\n",
    "    '''\n",
    "    with open(filename, 'w') as out_fh: # 'w' stands for write\n",
    "        +++"
   ]
  },
  {
   "cell_type": "code",
   "execution_count": null,
   "metadata": {
    "collapsed": true
   },
   "outputs": [],
   "source": [
    "# call function \n",
    "ENSG_ID_FILE = \"GeneIDs.txt\"\n",
    "write_list_to_file(gid_list, ENSG_ID_FILE)"
   ]
  },
  {
   "cell_type": "markdown",
   "metadata": {},
   "source": [
    "### Task 1.3\n",
    "\n",
    "1. Check if the content in the file is correct by reading and printing it. \n",
    "\n",
    "(In order to read a flat file format, you can use `with open(filename, 'r') as in_fh:` (as in Tasks 1.1 & 1.2), where `r` stands for reading.)"
   ]
  },
  {
   "cell_type": "code",
   "execution_count": null,
   "metadata": {},
   "outputs": [],
   "source": [
    "with ...\n",
    "    +++"
   ]
  },
  {
   "cell_type": "markdown",
   "metadata": {},
   "source": [
    "<a id='part2'><h2>Part 2: Filtering with Ensembl REST API</h2></a>\n",
    "\n",
    "#### Ensembl documentation\n",
    "\n",
    "- The [Ensembl REST wiki](https://github.com/Ensembl/ensembl-rest/wiki) has a lot of great documentation on using the Ensembl REST API.\n",
    "- The [Ensembl REST documentation](https://rest.ensembl.org/) has a list of all of the \"endpoints\" known to the REST API."
   ]
  },
  {
   "cell_type": "markdown",
   "metadata": {},
   "source": [
    "### Task 2.1\n",
    "\n",
    "The function below communicates with the **Ensembl Homologues REST endpoint**. The Ensemble REST API can return results in many formats, including the [JSON format](https://www.json.org). The Python **requests** module includes functionality to decode a JSON object into Python objects (lists and dictionaries).\n",
    "\n",
    "1. Read more about the *homology* endpoint (see the [3rd Example Request](https://rest.ensembl.org/documentation/info/homology_ensemblgene) and [example file](https://rest.ensembl.org/homology/id/ENSG00000157764?target_taxon=10090;target_species=cow;type=orthologues;sequence=cdna;content-type=application/json)) for reference, which uses the gene id 'ENSG00000157764' and taxon '10090'. Pay particular attention to these flags: *target_taxon*, *type* and *sequence*.\n",
    "2. Finish the function below to make it return a decoded JSON object with information on homologues for a given Gene ID, in a given taxon.\n",
    "\n",
    "**Note:** If there are no homologues in the target taxon, the Ensembl Homologues endpoint returns a single dictionary, with the *key* \"data\", and an empty list as its *value*.\n",
    "\n",
    "Fill in the blanks (`...`) in the code below to complete the task."
   ]
  },
  {
   "cell_type": "code",
   "execution_count": null,
   "metadata": {
    "collapsed": true,
    "scrolled": true
   },
   "outputs": [],
   "source": [
    "# %load code_snippets/task_2_1.py\n",
    "import sys\n",
    "import requests\n",
    "\n",
    "def fetch_ensembl_homologues(gid, target_taxon='10090'):\n",
    "    '''\n",
    "    Retrieves Gene IDs of homologous proteins from the Ensembl\n",
    "    Homology REST endpoint for a given taxon. \n",
    "    \n",
    "    Arguments:\n",
    "    - gid:                Ensembl Gene ID.\n",
    "    - target_taxon:       taxonomic identifier of the species. \n",
    "                          (default: 10090 [mouse])\n",
    "                          \n",
    "    Returns:\n",
    "    - The decoded JSON response from the Ensembl Homology endpoint\n",
    "    '''\n",
    "    server = \"http://rest.ensembl.org\"\n",
    "    ext = \"/homology/id/{0}?target_taxon={1};type=orthologues;sequence=cdna\"\n",
    "    ext = ...\n",
    "    response = requests.get(server+ext, headers={ \"Content-Type\" : \"application/json\"})\n",
    "    if not response.ok:\n",
    "        response.raise_for_status()\n",
    "        sys.exit(1)\n",
    "    decoded = response.json()\n",
    "    return decoded"
   ]
  },
  {
   "cell_type": "markdown",
   "metadata": {},
   "source": [
    "We will now call the function in the code snippet below, using it to get a decoded JSON object for every gene in the list of IDs that you generated earlier.\n",
    "\n",
    "Fill in the blanks (`...` and `+++`) in the code below to complete the task."
   ]
  },
  {
   "cell_type": "code",
   "execution_count": null,
   "metadata": {
    "collapsed": true
   },
   "outputs": [],
   "source": [
    "# %load code_snippets/task_2_1_b.py\n",
    "tax_id = '10090'\n",
    "SCREEN_RESULTS_FILE = \"Screen_results.fa\"\n",
    "# call function \"read_ensembl_ids\"\n",
    "gid_list = ...\n",
    "for gid in gid_list:\n",
    "    # call function \"fetch_ensembl_homologues\"\n",
    "    decoded_file = ..."
   ]
  },
  {
   "cell_type": "markdown",
   "metadata": {},
   "source": [
    "### Task 2.2\n",
    "\n",
    "In order to identify candidates for future study in the lab, filter the list of human genes to retain a list of those which have an ortholog in mouse, according to Ensembl.\n",
    "\n",
    "1. Write a function that uses the genes listed in `GeneIDs.txt` based on whether the gene transcript has an ortholog in mouse, with over 50% sequence identity. \n",
    "2. Use the function that retrieves JSON file (from Task 2.1) inside this function to get the ortholog and percentage identity information.\n",
    "\n",
    "#### Hints\n",
    "\n",
    "- Look carefully at the structure of the JSON data returned by the API. Where is the *percentage identity* stored in the output?\n",
    "- Please ignore the missing homology information for a few Ensembl IDs.\n",
    "\n",
    "Fill in the blanks (`...` and `+++`) in the code below to complete the task."
   ]
  },
  {
   "cell_type": "code",
   "execution_count": null,
   "metadata": {
    "collapsed": true
   },
   "outputs": [],
   "source": [
    "%load code_snippets/task_2_2.py\n",
    "def filter_ortholog_by_identity(gene_list, \n",
    "                                target_taxon='10090', \n",
    "                                min_perc_ident=50.0):\n",
    "    '''\n",
    "    Creates a list of Ensembl genes by the presence of its ortholog in a species, \n",
    "    and filters it by a threshold defined for percentage identity of its sequence.\n",
    "    \n",
    "    Arguments:\n",
    "    - gene_list:         a list of Ensembl gene id\n",
    "    - target_taxon:      taxonomic identifier of the species in which to look\n",
    "                         for orthologs. (default: 10090 [mouse])\n",
    "    - min_perc_ident:    minimum percentage identity for retaining an ortholog. \n",
    "                         (default: 50.0)\n",
    "    \n",
    "    Returns:\n",
    "    - a list of Gene ID's as strings\n",
    "    '''\n",
    "    filtered_gene_list = []\n",
    "    for gene in gene_list:\n",
    "        decoded = ...\n",
    "        for homolog in decoded['data'][0]['homologies']:\n",
    "            perc_id = ...\n",
    "            if ...:\n",
    "                +++\n",
    "    filtered_gene_list = list(set(filtered_gene_list)) # remove duplicates\n",
    "    return filtered_gene_list"
   ]
  },
  {
   "cell_type": "code",
   "execution_count": null,
   "metadata": {
    "collapsed": true
   },
   "outputs": [],
   "source": [
    "# Hint: Store the contents of the file \"GeneIDs.txt\" in a new list\n",
    "# called 'gene_list', where each element is a single Gene ID\n",
    "\n",
    "ENSG_ID_FILE = \"GeneIDs.txt\"\n",
    "gene_list = []\n",
    "with ...\n",
    "    +++"
   ]
  },
  {
   "cell_type": "code",
   "execution_count": null,
   "metadata": {
    "collapsed": true
   },
   "outputs": [],
   "source": [
    "# use gene_list to call function: `filter_ortholog_by_identity`\n",
    "filtered_ortholog_list = filter_ortholog_by_identity(gene_list)\n",
    "print(\"keeping {0} out of {1} IDs\".format(len(filtered_ortholog_list), len(gene_list)))"
   ]
  },
  {
   "cell_type": "markdown",
   "metadata": {},
   "source": [
    "Write the list of orthologs, filtered by percentage identity above 50, to a file \"GeneIDs_with_orthologs.txt\" (Hint: see Task 1.2). _The list of GeneIDs must be unique, and may be in any order._"
   ]
  },
  {
   "cell_type": "code",
   "execution_count": null,
   "metadata": {
    "collapsed": true
   },
   "outputs": [],
   "source": [
    "ENSG_ORTHOLOG_FILE = \"GeneIDs_with_orthologs.txt\"\n",
    "write_list_to_file(filtered_ortholog_list, ENSG_ORTHOLOG_FILE)"
   ]
  },
  {
   "cell_type": "markdown",
   "metadata": {},
   "source": [
    "<a id='part3'><h2>Part 3: Aggregating Pathway Information from a Database</h2></a>\n",
    "\n",
    "\n",
    "\n",
    "[Reactome](https://reactome.org/) is a database of manually-curated pathway annotations for different genes.\n",
    "\n",
    "Your collaborators have provided a **Sqlite** database with mappings between Ensembl Gene ID's and Reactome annotations. The database is contained in the file **reactome.db**, which contains a single table called *ensembl_reactome* which has the following columns:\n",
    "\n",
    "* *gene_id*: The Ensembl Gene ID (e.g.: ENSG0000016650)\n",
    "* *reactome_id*: The Reactome ID (e.g.: R-HSA-73857)\n",
    "* *reactome_name*: The (human readable) Reactome term name (e.g.: RNA Polymerase II Transcription)\n",
    "\n",
    "**Note:** Each Ensembl Gene ID may have multiple Reactome terms associated with it.\n",
    "\n",
    "Use the **reactome.db** database, and Python's **sqlite3** package, create a list of how often each pathway is present in a Gene which came out in the screen (after filtering for orthologs. You will need to store _paired information_ about the pathways' described references: the pathways found and a count of the number of times that each pathway was seen.\n",
    "\n",
    "Once you have extracted this information from the database,\n",
    "__write the results to a file__ called `Reactome_counts.tsv`. \n",
    "The file should have two columns,\n",
    "with information for one pathway per line.\n",
    "The first field in a row should contain the name of a pathway,\n",
    "and the second the frequency count for that pathway.\n",
    "_The results can be listed in the file in any order._\n",
    "\n",
    "### Task 3\n",
    "\n",
    "1. __Retrieve a list of Reactome Pathway names__ from a **local Sqlite databse** and write them as a tab separated file of Reactome ID's + count.\n",
    "\n",
    "\n",
    "#### Documentation\n",
    "\n",
    "- The [Python Central sqlite tutorial](https://www.pythoncentral.io/introduction-to-sqlite-in-python/) is a great tutorial on using Sqlite with python\n",
    "\n",
    "Fill in the blanks (`...` and `+++`) in the code below to complete the task."
   ]
  },
  {
   "cell_type": "code",
   "execution_count": null,
   "metadata": {
    "collapsed": true,
    "scrolled": true
   },
   "outputs": [],
   "source": [
    "# %load code_snippets/task_3_1.py\n",
    "\n",
    "import sqlite3\n",
    "\n",
    "def find_reactome_annotation_counts(gene_list, db_file):\n",
    "    '''\n",
    "    Find the reactome annotations for a list of gene ids from a database.\n",
    "    \n",
    "    Arguments:\n",
    "    - gene_list:   a list of Ensembl Gene identifiers to search for.\n",
    "    - db_file:     the file name of the Sqlite database to use.\n",
    "    \n",
    "    Returns:\n",
    "    - a dictionary with identifiers from the target database as keys \n",
    "        and a count of the number of times that identifier was\n",
    "        observed as values.\n",
    "    '''\n",
    "    \n",
    "    # establish a connection and a cursor to the database file\n",
    "    conn = sqlite3.connect(db_file)\n",
    "    cursor = conn.cursor()\n",
    "\n",
    "    reactome_counts = {} # initializing an empty dictionary\n",
    "    for gene_id in gene_list:\n",
    "\n",
    "        # Select all reactome_name values for this gene_id\n",
    "        query = ...\n",
    "        \n",
    "        cursor.execute(query, (gene_id, ))\n",
    "        \n",
    "        for result in cursor.fetchall():\n",
    "            name = result[0]\n",
    "            if name not in reactome_counts:\n",
    "                reactome_counts[name] = 1\n",
    "            else:\n",
    "                +++\n",
    "    return reactome_counts"
   ]
  },
  {
   "cell_type": "code",
   "execution_count": null,
   "metadata": {
    "collapsed": true
   },
   "outputs": [],
   "source": [
    "# %load code_snippets/task_3_2.py\n",
    "# read filtered IDs from last step\n",
    "\n",
    "ENSG_ORTHOLOG_FILE = \"GeneIDs_with_orthologs.txt\"\n",
    "gene_list = []\n",
    "with open(ENSG_ORTHOLOG_FILE, 'r') as in_fh: # 'r' stands for write\n",
    "    +++\n",
    "        \n",
    "reactome_counts = find_reactome_annotation_counts(gene_list, \"reactome.db\")\n"
   ]
  },
  {
   "cell_type": "code",
   "execution_count": null,
   "metadata": {
    "collapsed": true
   },
   "outputs": [],
   "source": [
    "# %load code_snippets/task_3_3.py\n",
    "# Hint: Save the Reactome results to a file, where each line has the Reactome pathway name, and the\n",
    "# number of times it occurs, separated by a 'tab' ('\\t') character\n",
    "ENSG_ID_REACTOME_FILE = \"Reactome_counts.tsv\"\n",
    "\n",
    "with ...\n",
    "    +++"
   ]
  },
  {
   "cell_type": "markdown",
   "metadata": {},
   "source": [
    "## Part 4: Visualizing the Results\n",
    "\n",
    "### Task 4\n",
    "\n",
    "__Make a bar plot__ of the 10 most frequently occuring Reactome groups.\n",
    "\n",
    "Identifying the __Reactome pathways__ that are potentially affected by the drug that our collabotors have screened, will indicate to the different __biological processes__ that might be altered by this drug. \n",
    "\n",
    "Finding a good way to represent or _visualize such information_ will make interpreting the results much easier.\n",
    "\n",
    "The **matplotlib** library has a lot of useful plotting functions. Use this library to create a bar plot of the top 10 most frequently-occuring Reactome terms in the results from Part 3.\n",
    "Save the plot to a file called *plot.png*.\n",
    "\n",
    "**Hints**\n",
    "\n",
    "- The [`bar`](https://matplotlib.org/api/_as_gen/matplotlib.pyplot.bar.html) and [`barh`](https://matplotlib.org/api/_as_gen/matplotlib.pyplot.barh.html) functions in **matplotlib** can both be used to create bar plots.\n",
    "- Use the **jupyter** \"magic\" command `%matplotlib inline` on the top of your script to show plots directly in the **jupyter notebook**.\n",
    "\n",
    "Fill in the blanks (`...` and `+++`) in the code below to complete the task."
   ]
  },
  {
   "cell_type": "code",
   "execution_count": null,
   "metadata": {
    "collapsed": true
   },
   "outputs": [],
   "source": [
    "# %load code_snippets/task_4_1.py\n",
    "%matplotlib inline\n",
    "\n",
    "import matplotlib.pyplot as plt\n",
    "\n",
    "def plot_cross_refs(results, limit=10):\n",
    "    '''Draw a horizontal bar plot of results from cross-referencing,\n",
    "    limited to the `limit` terms found most frequently.\n",
    "    \n",
    "    Arguments:\n",
    "    - results: a dictionary of results to plot.\n",
    "                 Keys should be database identifiers/terms, with values\n",
    "                 as frequency counts for these respective identifiers.\n",
    "    - limit:     the number of top-ranked identifiers/terms (by \n",
    "                 frequency) to plot. (default: 10)\n",
    "    - title:     a title for the plot.\n",
    "    \n",
    "    Note: If multiple xrefs which rank at the limit (e.g., 3 xrefs with\n",
    "    the same score values at rank 10), all of them will be displayed. The final\n",
    "    plot may have more than `limit` values.\n",
    "    '''\n",
    "    \n",
    "    all_counts = results.values()\n",
    "    threshold = sorted(all_counts, reverse=True)[:limit][-1]\n",
    "\n",
    "    terms = []\n",
    "    counts = []\n",
    "\n",
    "    for key, val in results.items():\n",
    "       +++\n",
    "    \n",
    "    # Horizontal bar plots can call matplotlib functions using 'plt.' to create the plot here\n",
    "    \n",
    "            \n",
    "    plt.barh(list(range(len(counts))),\n",
    "        counts,tick_label=terms)\n",
    "    \n",
    "    # save plot to a file\n",
    "    +++"
   ]
  },
  {
   "cell_type": "code",
   "execution_count": null,
   "metadata": {
    "collapsed": true
   },
   "outputs": [],
   "source": [
    "# %load code_snippets/task_4_2.py\n",
    "# create input for the function\n",
    "ENSG_ID_REACTOME_FILE = \"Reactome_counts.tsv\"\n",
    "reactome_count = {}\n",
    "with open(ENSG_ID_REACTOME_FILE, 'r') as in_fh:\n",
    "    +++"
   ]
  },
  {
   "cell_type": "code",
   "execution_count": null,
   "metadata": {
    "collapsed": true
   },
   "outputs": [],
   "source": [
    "# call function\n",
    "plot_cross_refs(reactome_count, limit=10)"
   ]
  }
 ],
 "metadata": {
  "kernelspec": {
   "display_name": "Python 3",
   "language": "python",
   "name": "python3"
  },
  "language_info": {
   "codemirror_mode": {
    "name": "ipython",
    "version": 3
   },
   "file_extension": ".py",
   "mimetype": "text/x-python",
   "name": "python",
   "nbconvert_exporter": "python",
   "pygments_lexer": "ipython3",
   "version": "3.6.6"
  }
 },
 "nbformat": 4,
 "nbformat_minor": 2
}
